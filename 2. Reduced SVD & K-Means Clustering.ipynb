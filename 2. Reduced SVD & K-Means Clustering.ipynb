{
 "cells": [
  {
   "cell_type": "code",
   "execution_count": 1,
   "id": "e524de0d-e599-49bb-9185-27aa781f0aa2",
   "metadata": {},
   "outputs": [],
   "source": [
    "import pandas as pd\n",
    "import re\n",
    "import numpy as np"
   ]
  },
  {
   "cell_type": "code",
   "execution_count": 2,
   "id": "ce6218b0-2ac5-4517-8a2b-a05d739d47e1",
   "metadata": {},
   "outputs": [],
   "source": [
    "ratings_df = pd.read_csv('ratings.dat', sep='::', engine='python', header=None, names=['UserID', 'MovieID', 'Rating', 'Timestamp'], encoding='ISO-8859-1')\n",
    "users_df = pd.read_csv('users.dat', sep='::', engine='python', header=None, names=['UserID', 'Gender', 'Age', 'Occupation', 'Zip-code'], encoding='ISO-8859-1')\n",
    "movies_df = pd.read_csv('movies.dat', sep='::', engine='python', header=None, names=['MovieID', 'Title', 'Genres'], encoding='ISO-8859-1')"
   ]
  },
  {
   "cell_type": "code",
   "execution_count": 3,
   "id": "8adae25c-1f46-4081-80b6-48ed559ffe1d",
   "metadata": {},
   "outputs": [
    {
     "data": {
      "text/html": [
       "<div>\n",
       "<style scoped>\n",
       "    .dataframe tbody tr th:only-of-type {\n",
       "        vertical-align: middle;\n",
       "    }\n",
       "\n",
       "    .dataframe tbody tr th {\n",
       "        vertical-align: top;\n",
       "    }\n",
       "\n",
       "    .dataframe thead th {\n",
       "        text-align: right;\n",
       "    }\n",
       "</style>\n",
       "<table border=\"1\" class=\"dataframe\">\n",
       "  <thead>\n",
       "    <tr style=\"text-align: right;\">\n",
       "      <th></th>\n",
       "      <th>UserID</th>\n",
       "      <th>MovieID</th>\n",
       "      <th>Rating</th>\n",
       "      <th>Timestamp</th>\n",
       "      <th>Title</th>\n",
       "      <th>Genres</th>\n",
       "    </tr>\n",
       "  </thead>\n",
       "  <tbody>\n",
       "    <tr>\n",
       "      <th>0</th>\n",
       "      <td>1</td>\n",
       "      <td>1193</td>\n",
       "      <td>5</td>\n",
       "      <td>978300760</td>\n",
       "      <td>One Flew Over the Cuckoo's Nest (1975)</td>\n",
       "      <td>Drama</td>\n",
       "    </tr>\n",
       "    <tr>\n",
       "      <th>1</th>\n",
       "      <td>2</td>\n",
       "      <td>1193</td>\n",
       "      <td>5</td>\n",
       "      <td>978298413</td>\n",
       "      <td>One Flew Over the Cuckoo's Nest (1975)</td>\n",
       "      <td>Drama</td>\n",
       "    </tr>\n",
       "    <tr>\n",
       "      <th>2</th>\n",
       "      <td>12</td>\n",
       "      <td>1193</td>\n",
       "      <td>4</td>\n",
       "      <td>978220179</td>\n",
       "      <td>One Flew Over the Cuckoo's Nest (1975)</td>\n",
       "      <td>Drama</td>\n",
       "    </tr>\n",
       "    <tr>\n",
       "      <th>3</th>\n",
       "      <td>15</td>\n",
       "      <td>1193</td>\n",
       "      <td>4</td>\n",
       "      <td>978199279</td>\n",
       "      <td>One Flew Over the Cuckoo's Nest (1975)</td>\n",
       "      <td>Drama</td>\n",
       "    </tr>\n",
       "    <tr>\n",
       "      <th>4</th>\n",
       "      <td>17</td>\n",
       "      <td>1193</td>\n",
       "      <td>5</td>\n",
       "      <td>978158471</td>\n",
       "      <td>One Flew Over the Cuckoo's Nest (1975)</td>\n",
       "      <td>Drama</td>\n",
       "    </tr>\n",
       "  </tbody>\n",
       "</table>\n",
       "</div>"
      ],
      "text/plain": [
       "   UserID  MovieID  Rating  Timestamp                                   Title  \\\n",
       "0       1     1193       5  978300760  One Flew Over the Cuckoo's Nest (1975)   \n",
       "1       2     1193       5  978298413  One Flew Over the Cuckoo's Nest (1975)   \n",
       "2      12     1193       4  978220179  One Flew Over the Cuckoo's Nest (1975)   \n",
       "3      15     1193       4  978199279  One Flew Over the Cuckoo's Nest (1975)   \n",
       "4      17     1193       5  978158471  One Flew Over the Cuckoo's Nest (1975)   \n",
       "\n",
       "  Genres  \n",
       "0  Drama  \n",
       "1  Drama  \n",
       "2  Drama  \n",
       "3  Drama  \n",
       "4  Drama  "
      ]
     },
     "execution_count": 3,
     "metadata": {},
     "output_type": "execute_result"
    }
   ],
   "source": [
    "# Merge ratings and movies data on MovieID\n",
    "merged_df = pd.merge(ratings_df, movies_df, on='MovieID')\n",
    "merged_df.head()"
   ]
  },
  {
   "cell_type": "code",
   "execution_count": 4,
   "id": "bd174fb0-c6ae-46ad-8cbe-44b9871c8766",
   "metadata": {},
   "outputs": [],
   "source": [
    "merged_df1 = merged_df.assign(Genres=merged_df['Genres'].str.split('|')).explode('Genres').reset_index(drop=True)"
   ]
  },
  {
   "cell_type": "code",
   "execution_count": 5,
   "id": "4534b5c6-0383-4dbb-98ba-b90bdb74903a",
   "metadata": {},
   "outputs": [
    {
     "data": {
      "text/html": [
       "<div>\n",
       "<style scoped>\n",
       "    .dataframe tbody tr th:only-of-type {\n",
       "        vertical-align: middle;\n",
       "    }\n",
       "\n",
       "    .dataframe tbody tr th {\n",
       "        vertical-align: top;\n",
       "    }\n",
       "\n",
       "    .dataframe thead th {\n",
       "        text-align: right;\n",
       "    }\n",
       "</style>\n",
       "<table border=\"1\" class=\"dataframe\">\n",
       "  <thead>\n",
       "    <tr style=\"text-align: right;\">\n",
       "      <th>Genres</th>\n",
       "      <th>Action</th>\n",
       "      <th>Adventure</th>\n",
       "      <th>Animation</th>\n",
       "      <th>Children's</th>\n",
       "      <th>Comedy</th>\n",
       "      <th>Crime</th>\n",
       "      <th>Documentary</th>\n",
       "      <th>Drama</th>\n",
       "      <th>Fantasy</th>\n",
       "      <th>Film-Noir</th>\n",
       "      <th>Horror</th>\n",
       "      <th>Musical</th>\n",
       "      <th>Mystery</th>\n",
       "      <th>Romance</th>\n",
       "      <th>Sci-Fi</th>\n",
       "      <th>Thriller</th>\n",
       "      <th>War</th>\n",
       "      <th>Western</th>\n",
       "    </tr>\n",
       "    <tr>\n",
       "      <th>UserID</th>\n",
       "      <th></th>\n",
       "      <th></th>\n",
       "      <th></th>\n",
       "      <th></th>\n",
       "      <th></th>\n",
       "      <th></th>\n",
       "      <th></th>\n",
       "      <th></th>\n",
       "      <th></th>\n",
       "      <th></th>\n",
       "      <th></th>\n",
       "      <th></th>\n",
       "      <th></th>\n",
       "      <th></th>\n",
       "      <th></th>\n",
       "      <th></th>\n",
       "      <th></th>\n",
       "      <th></th>\n",
       "    </tr>\n",
       "  </thead>\n",
       "  <tbody>\n",
       "    <tr>\n",
       "      <th>1</th>\n",
       "      <td>4.200000</td>\n",
       "      <td>4.000000</td>\n",
       "      <td>4.111111</td>\n",
       "      <td>4.250000</td>\n",
       "      <td>4.142857</td>\n",
       "      <td>4.000000</td>\n",
       "      <td>NaN</td>\n",
       "      <td>4.428571</td>\n",
       "      <td>4.0</td>\n",
       "      <td>NaN</td>\n",
       "      <td>NaN</td>\n",
       "      <td>4.285714</td>\n",
       "      <td>NaN</td>\n",
       "      <td>3.666667</td>\n",
       "      <td>4.333333</td>\n",
       "      <td>3.666667</td>\n",
       "      <td>5.000000</td>\n",
       "      <td>NaN</td>\n",
       "    </tr>\n",
       "    <tr>\n",
       "      <th>2</th>\n",
       "      <td>3.500000</td>\n",
       "      <td>3.736842</td>\n",
       "      <td>NaN</td>\n",
       "      <td>NaN</td>\n",
       "      <td>3.560000</td>\n",
       "      <td>3.583333</td>\n",
       "      <td>NaN</td>\n",
       "      <td>3.898734</td>\n",
       "      <td>3.0</td>\n",
       "      <td>4.0</td>\n",
       "      <td>3.000000</td>\n",
       "      <td>NaN</td>\n",
       "      <td>3.333333</td>\n",
       "      <td>3.708333</td>\n",
       "      <td>3.588235</td>\n",
       "      <td>3.483871</td>\n",
       "      <td>3.733333</td>\n",
       "      <td>4.333333</td>\n",
       "    </tr>\n",
       "    <tr>\n",
       "      <th>3</th>\n",
       "      <td>3.956522</td>\n",
       "      <td>4.000000</td>\n",
       "      <td>4.000000</td>\n",
       "      <td>4.000000</td>\n",
       "      <td>3.766667</td>\n",
       "      <td>NaN</td>\n",
       "      <td>NaN</td>\n",
       "      <td>4.000000</td>\n",
       "      <td>4.5</td>\n",
       "      <td>NaN</td>\n",
       "      <td>2.666667</td>\n",
       "      <td>4.000000</td>\n",
       "      <td>3.000000</td>\n",
       "      <td>3.800000</td>\n",
       "      <td>3.833333</td>\n",
       "      <td>3.800000</td>\n",
       "      <td>4.000000</td>\n",
       "      <td>4.666667</td>\n",
       "    </tr>\n",
       "    <tr>\n",
       "      <th>4</th>\n",
       "      <td>4.157895</td>\n",
       "      <td>3.833333</td>\n",
       "      <td>NaN</td>\n",
       "      <td>4.000000</td>\n",
       "      <td>NaN</td>\n",
       "      <td>5.000000</td>\n",
       "      <td>NaN</td>\n",
       "      <td>4.166667</td>\n",
       "      <td>4.5</td>\n",
       "      <td>NaN</td>\n",
       "      <td>4.333333</td>\n",
       "      <td>NaN</td>\n",
       "      <td>NaN</td>\n",
       "      <td>4.000000</td>\n",
       "      <td>3.555556</td>\n",
       "      <td>3.500000</td>\n",
       "      <td>3.333333</td>\n",
       "      <td>4.500000</td>\n",
       "    </tr>\n",
       "    <tr>\n",
       "      <th>5</th>\n",
       "      <td>2.612903</td>\n",
       "      <td>3.000000</td>\n",
       "      <td>4.000000</td>\n",
       "      <td>3.833333</td>\n",
       "      <td>3.410714</td>\n",
       "      <td>3.285714</td>\n",
       "      <td>3.666667</td>\n",
       "      <td>3.096154</td>\n",
       "      <td>NaN</td>\n",
       "      <td>4.0</td>\n",
       "      <td>2.800000</td>\n",
       "      <td>3.333333</td>\n",
       "      <td>3.125000</td>\n",
       "      <td>3.100000</td>\n",
       "      <td>3.066667</td>\n",
       "      <td>2.846154</td>\n",
       "      <td>3.500000</td>\n",
       "      <td>4.000000</td>\n",
       "    </tr>\n",
       "  </tbody>\n",
       "</table>\n",
       "</div>"
      ],
      "text/plain": [
       "Genres    Action  Adventure  Animation  Children's    Comedy     Crime  \\\n",
       "UserID                                                                   \n",
       "1       4.200000   4.000000   4.111111    4.250000  4.142857  4.000000   \n",
       "2       3.500000   3.736842        NaN         NaN  3.560000  3.583333   \n",
       "3       3.956522   4.000000   4.000000    4.000000  3.766667       NaN   \n",
       "4       4.157895   3.833333        NaN    4.000000       NaN  5.000000   \n",
       "5       2.612903   3.000000   4.000000    3.833333  3.410714  3.285714   \n",
       "\n",
       "Genres  Documentary     Drama  Fantasy  Film-Noir    Horror   Musical  \\\n",
       "UserID                                                                  \n",
       "1               NaN  4.428571      4.0        NaN       NaN  4.285714   \n",
       "2               NaN  3.898734      3.0        4.0  3.000000       NaN   \n",
       "3               NaN  4.000000      4.5        NaN  2.666667  4.000000   \n",
       "4               NaN  4.166667      4.5        NaN  4.333333       NaN   \n",
       "5          3.666667  3.096154      NaN        4.0  2.800000  3.333333   \n",
       "\n",
       "Genres   Mystery   Romance    Sci-Fi  Thriller       War   Western  \n",
       "UserID                                                              \n",
       "1            NaN  3.666667  4.333333  3.666667  5.000000       NaN  \n",
       "2       3.333333  3.708333  3.588235  3.483871  3.733333  4.333333  \n",
       "3       3.000000  3.800000  3.833333  3.800000  4.000000  4.666667  \n",
       "4            NaN  4.000000  3.555556  3.500000  3.333333  4.500000  \n",
       "5       3.125000  3.100000  3.066667  2.846154  3.500000  4.000000  "
      ]
     },
     "execution_count": 5,
     "metadata": {},
     "output_type": "execute_result"
    }
   ],
   "source": [
    "ratings = merged_df1.pivot_table(values='Rating', index='UserID', columns='Genres', aggfunc='mean')\n",
    "ratings.head()"
   ]
  },
  {
   "cell_type": "code",
   "execution_count": 6,
   "id": "6bcabeb7-47e8-4d10-a0ef-8fb8e93165a7",
   "metadata": {},
   "outputs": [
    {
     "name": "stdout",
     "output_type": "stream",
     "text": [
      "[[4.2        4.         4.11111111 ... 3.66666667 5.         0.        ]\n",
      " [3.5        3.73684211 0.         ... 3.48387097 3.73333333 4.33333333]\n",
      " [3.95652174 4.         4.         ... 3.8        4.         4.66666667]\n",
      " ...\n",
      " [3.         4.         3.66666667 ... 0.         4.         0.        ]\n",
      " [4.         4.1        3.61538462 ... 4.14285714 4.11111111 4.5       ]\n",
      " [2.97619048 2.81818182 3.         ... 3.92682927 3.69565217 4.        ]]\n"
     ]
    }
   ],
   "source": [
    "ratings_array = ratings.to_numpy()\n",
    "ratings_array[np.isnan(ratings_array)] = 0\n",
    "print(ratings_array)"
   ]
  },
  {
   "cell_type": "code",
   "execution_count": 7,
   "id": "f9aa67e8-c378-42c0-9a30-e5fd5304a8e5",
   "metadata": {},
   "outputs": [
    {
     "name": "stdout",
     "output_type": "stream",
     "text": [
      "[[4.2        4.         4.11111111 ... 3.66666667 5.         2.5       ]\n",
      " [3.5        3.73684211 2.5        ... 3.48387097 3.73333333 4.33333333]\n",
      " [3.95652174 4.         4.         ... 3.8        4.         4.66666667]\n",
      " ...\n",
      " [3.         4.         3.66666667 ... 2.5        4.         2.5       ]\n",
      " [4.         4.1        3.61538462 ... 4.14285714 4.11111111 4.5       ]\n",
      " [2.97619048 2.81818182 3.         ... 3.92682927 3.69565217 4.        ]]\n"
     ]
    }
   ],
   "source": [
    "ratings_array[ratings_array == 0] = 2.5\n",
    "print(ratings_array)"
   ]
  },
  {
   "cell_type": "code",
   "execution_count": 8,
   "id": "d4538d24-c6f2-44fe-8578-f4f078948e6e",
   "metadata": {},
   "outputs": [],
   "source": [
    "new_ratings_array=ratings_array[:6040, :]"
   ]
  },
  {
   "cell_type": "code",
   "execution_count": 9,
   "id": "a46f7303-15bd-4a91-9af2-b38e320524b3",
   "metadata": {},
   "outputs": [],
   "source": [
    "aat = np.dot(new_ratings_array, new_ratings_array.T)\n",
    "ata = np.dot(new_ratings_array.T, new_ratings_array)"
   ]
  },
  {
   "cell_type": "code",
   "execution_count": 10,
   "id": "c34c4002-1be0-47ca-ab9a-ca1e6abeaa32",
   "metadata": {},
   "outputs": [],
   "source": [
    "def qr_decomposition(A):\n",
    "    n = A.shape[0]\n",
    "    Q = np.zeros((n, n))\n",
    "    R = np.zeros((n, n))\n",
    "    for j in range(n):\n",
    "        v = A[:, j]\n",
    "        for i in range(j):\n",
    "            R[i, j] = np.dot(Q[:, i], A[:, j])\n",
    "            v -= R[i, j] * Q[:, i]\n",
    "        R[j, j] = np.linalg.norm(v)\n",
    "        Q[:, j] = v / R[j, j]\n",
    "    return Q, R"
   ]
  },
  {
   "cell_type": "markdown",
   "id": "eb443951",
   "metadata": {},
   "source": [
    "## Function to perform QR algorithm to find eigenvalues"
   ]
  },
  {
   "cell_type": "code",
   "execution_count": 11,
   "id": "b1787ae1",
   "metadata": {},
   "outputs": [],
   "source": [
    "def qr_algorithm_eigenvalues(A, num_iterations):\n",
    "    n = A.shape[0]\n",
    "    B = A.copy()\n",
    "    eigenvalues = np.zeros(n)\n",
    "    for _ in range(num_iterations):\n",
    "        Q, R = qr_decomposition(B)\n",
    "        B = np.dot(R, Q)\n",
    "    for i in range(n):\n",
    "        eigenvalues[i] = B[i, i]\n",
    "    return eigenvalues"
   ]
  },
  {
   "cell_type": "code",
   "execution_count": 12,
   "id": "86376844",
   "metadata": {},
   "outputs": [],
   "source": [
    "# Number of iterations for QR algorithm\n",
    "num_iterations = 100\n",
    "\n",
    "eigenvalues = qr_algorithm_eigenvalues(ata, num_iterations)\n",
    "sqrt_eigenvalues = np.sqrt(eigenvalues)"
   ]
  },
  {
   "cell_type": "code",
   "execution_count": 13,
   "id": "d1719f4a-816d-43de-87d0-b1988f8578c3",
   "metadata": {},
   "outputs": [
    {
     "name": "stdout",
     "output_type": "stream",
     "text": [
      "[1170.50078804   79.59180734   75.57988596   64.92827349   61.12110597\n",
      "   57.66221788   55.21407569   53.38711737   49.13200646   46.78150513\n",
      "   40.60023751   39.34681267   37.59729173   32.04974416   29.07846749\n",
      "   25.95769878   22.31850138   21.04043081]\n"
     ]
    }
   ],
   "source": [
    "print(sqrt_eigenvalues)"
   ]
  },
  {
   "cell_type": "code",
   "execution_count": 14,
   "id": "164a92af-d32c-48b3-b99d-3a73047bdc46",
   "metadata": {},
   "outputs": [],
   "source": [
    "def create_diagonal_matrix(m, n, diagonal_values):\n",
    "    \n",
    "    diagonal_matrix = np.zeros((m, n))\n",
    "    min_dim = min(m, n)\n",
    "\n",
    "    for i in range(min_dim):\n",
    "        diagonal_matrix[i, i] = diagonal_values[i]\n",
    "\n",
    "    return diagonal_matrix\n",
    "\n",
    "num_rows, num_cols = new_ratings_array.shape\n",
    "    \n",
    "m = num_rows\n",
    "n = num_cols\n",
    "sigma = create_diagonal_matrix(m, n, sqrt_eigenvalues)"
   ]
  },
  {
   "cell_type": "code",
   "execution_count": 15,
   "id": "9e356498-fdd7-4912-b99a-723c1143aca6",
   "metadata": {},
   "outputs": [
    {
     "name": "stdout",
     "output_type": "stream",
     "text": [
      "[[1170.50078804    0.            0.         ...    0.\n",
      "     0.            0.        ]\n",
      " [   0.           79.59180734    0.         ...    0.\n",
      "     0.            0.        ]\n",
      " [   0.            0.           75.57988596 ...    0.\n",
      "     0.            0.        ]\n",
      " ...\n",
      " [   0.            0.            0.         ...    0.\n",
      "     0.            0.        ]\n",
      " [   0.            0.            0.         ...    0.\n",
      "     0.            0.        ]\n",
      " [   0.            0.            0.         ...    0.\n",
      "     0.            0.        ]]\n"
     ]
    }
   ],
   "source": [
    "print(sigma)"
   ]
  },
  {
   "cell_type": "markdown",
   "id": "35e6a77f",
   "metadata": {},
   "source": [
    "## Normalizing Vectors"
   ]
  },
  {
   "cell_type": "code",
   "execution_count": 16,
   "id": "80031c8b-6c2f-4e02-a572-2672ec7bc2c3",
   "metadata": {},
   "outputs": [],
   "source": [
    "# Function to perform power iteration method\n",
    "def power_iteration(A, num_iterations):\n",
    "    n = A.shape[0]\n",
    "    b_k = np.random.rand(n)\n",
    "    for _ in range(num_iterations):\n",
    "        b_k1 = np.dot(A, b_k)\n",
    "        b_k1_norm = np.linalg.norm(b_k1)\n",
    "        b_k = b_k1 / b_k1_norm\n",
    "    eigenvalue = np.dot(np.dot(b_k, A), b_k) / np.dot(b_k, b_k)\n",
    "    return eigenvalue, b_k"
   ]
  },
  {
   "cell_type": "code",
   "execution_count": 17,
   "id": "2c63d7ef",
   "metadata": {},
   "outputs": [],
   "source": [
    "# Function to find orthogonal eigenvectors\n",
    "def find_orthogonal_eigenvectors(A, num_iterations, num_eigenvectors):\n",
    "    eigenvectors = np.zeros((A.shape[0], num_eigenvectors))\n",
    "    for i in range(num_eigenvectors):\n",
    "        eigenvalue, eigenvector = power_iteration(A, num_iterations)\n",
    "        eigenvectors[:, i] = eigenvector\n",
    "        A -= eigenvalue * np.outer(eigenvector, eigenvector)\n",
    "    return eigenvectors"
   ]
  },
  {
   "cell_type": "code",
   "execution_count": 18,
   "id": "33ca8fb7",
   "metadata": {},
   "outputs": [],
   "source": [
    "num_iterations = 1000\n",
    "num_eigenvectors = ata.shape[0]\n",
    "\n",
    "V = find_orthogonal_eigenvectors(ata, num_iterations, num_eigenvectors)\n",
    "\n",
    "VT=V.T"
   ]
  },
  {
   "cell_type": "code",
   "execution_count": 19,
   "id": "8289ae24-41cf-4a6f-a280-5ba8457cbadc",
   "metadata": {},
   "outputs": [],
   "source": [
    "VTK = VT[:10, :]\n",
    "sigmak = sigma[:10, :10]"
   ]
  },
  {
   "cell_type": "code",
   "execution_count": 20,
   "id": "c7fdb69f-0f6f-4cd5-8df4-a53b625db9ff",
   "metadata": {},
   "outputs": [],
   "source": [
    "sigma_k_inverse = np.linalg.inv(sigmak)"
   ]
  },
  {
   "cell_type": "code",
   "execution_count": 21,
   "id": "54661db6-b920-4ec1-bed6-58d85aa3436b",
   "metadata": {},
   "outputs": [
    {
     "name": "stdout",
     "output_type": "stream",
     "text": [
      "Shape of the resulting array: (6040, 10)\n",
      "[[ 1.84837455e+04 -1.78435090e+02 -3.49028278e+01 ...  2.43211142e+00\n",
      "   2.94317097e+01  7.32511495e+00]\n",
      " [ 1.67340446e+04  4.51567159e+01  9.69575314e+01 ... -1.79580552e+01\n",
      "   2.38674675e+01 -1.76755101e+00]\n",
      " [ 1.80765834e+04 -1.55770343e+02 -4.62601748e+01 ... -1.06608526e+01\n",
      "  -1.56695475e+01 -2.84465341e+01]\n",
      " ...\n",
      " [ 1.55449489e+04 -9.42039519e+01  3.45368285e+00 ... -3.67346662e+01\n",
      "   3.46465244e+01 -4.86097365e+01]\n",
      " [ 1.94106206e+04  2.02718052e+01  4.02601399e+01 ...  2.93568354e+00\n",
      "   6.54052524e+00 -3.94089182e+00]\n",
      " [ 1.80059848e+04  1.15018193e+02 -6.69116513e+01 ...  9.25596734e+00\n",
      "  -4.79526199e+01  9.45915120e+00]]\n"
     ]
    }
   ],
   "source": [
    "# Initialize a list to store the resulting 1x15 matrices for each row\n",
    "result_list = []\n",
    "\n",
    "next_ratings=ratings_array\n",
    "V1=VTK.T\n",
    "\n",
    "for row in ratings_array:\n",
    "    # Perform matrix multiplication: (1x18) * (18x10) * (10x10)\n",
    "    intermediate_result = np.dot(row, V1)\n",
    "    final_result = np.dot(intermediate_result, sigmak)\n",
    "    \n",
    "    # Append the resulting 1x10 matrix to the result list\n",
    "    result_list.append(final_result)\n",
    "\n",
    "result_array = np.array(result_list)\n",
    "\n",
    "print(\"Shape of the resulting array:\", result_array.shape)\n",
    "print(result_array)"
   ]
  },
  {
   "cell_type": "code",
   "execution_count": 22,
   "id": "24191391-8f30-4ad8-84b4-f4ff92e5797a",
   "metadata": {},
   "outputs": [
    {
     "data": {
      "image/png": "[encoded data removed]",
      "text/plain": [
       "<Figure size 640x480 with 1 Axes>"
      ]
     },
     "metadata": {},
     "output_type": "display_data"
    }
   ],
   "source": [
    "import numpy as np\n",
    "import matplotlib.pyplot as plt\n",
    "from sklearn.cluster import KMeans\n",
    "\n",
    "wcss = []\n",
    "for k in range(1, 11):\n",
    "    kmeans = KMeans(n_clusters=k, init='k-means++', max_iter=300, n_init=10, random_state=0)\n",
    "    kmeans.fit(result_array)\n",
    "    wcss.append(kmeans.inertia_)  \n",
    "\n",
    "# Plot the elbow curve\n",
    "plt.plot(range(1, 11), wcss)\n",
    "plt.title('Elbow Method')\n",
    "plt.xlabel('Number of clusters')\n",
    "plt.ylabel('WCSS')\n",
    "plt.show()"
   ]
  },
  {
   "cell_type": "code",
   "execution_count": 23,
   "id": "d59f719d",
   "metadata": {},
   "outputs": [
    {
     "name": "stdout",
     "output_type": "stream",
     "text": [
      "Cluster labels: [0 1 0 ... 2 0 0]\n",
      "(6040,)\n"
     ]
    }
   ],
   "source": [
    "class KMeans:\n",
    "    def __init__(self, n_clusters=5, max_iter=300):\n",
    "        self.n_clusters = n_clusters\n",
    "        self.max_iter = max_iter\n",
    "\n",
    "    def fit(self, X):\n",
    "        self.centroids = X[np.random.choice(X.shape[0], self.n_clusters, replace=False)]\n",
    "        \n",
    "        for _ in range(self.max_iter):\n",
    "            labels = self._assign_labels(X)\n",
    "            new_centroids = self._update_centroids(X, labels)            \n",
    "            if np.allclose(self.centroids, new_centroids):\n",
    "                break            \n",
    "            self.centroids = new_centroids\n",
    "        \n",
    "        self.labels_ = self._assign_labels(X)\n",
    "    \n",
    "    def _assign_labels(self, X):\n",
    "        distances = np.sqrt(((X - self.centroids[:, np.newaxis])**2).sum(axis=2))\n",
    "        return np.argmin(distances, axis=0)\n",
    "    \n",
    "    def _update_centroids(self, X, labels):\n",
    "        new_centroids = np.zeros_like(self.centroids)\n",
    "        for i in range(self.n_clusters):\n",
    "            new_centroids[i] = np.mean(X[labels == i], axis=0)\n",
    "        return new_centroids\n",
    "\n",
    "    \n",
    "    \n",
    "kmeans = KMeans(n_clusters=5)\n",
    "\n",
    "kmeans.fit(result_array)\n",
    "\n",
    "cluster_labels=kmeans.labels_\n",
    "# Get cluster labels\n",
    "print(\"Cluster labels:\", cluster_labels)\n",
    "print(cluster_labels.shape)"
   ]
  },
  {
   "cell_type": "code",
   "execution_count": 24,
   "id": "e095fe7d-7f08-4b58-8742-5217a5ca0a8c",
   "metadata": {},
   "outputs": [],
   "source": [
    "cluster_labels_with_index = [(index+1, cluster_id) for index, cluster_id in enumerate(cluster_labels)]"
   ]
  },
  {
   "cell_type": "code",
   "execution_count": 25,
   "id": "983f23f0-1e38-4fb9-9b71-e4ccc0952f82",
   "metadata": {},
   "outputs": [],
   "source": [
    "user_item_matrix = ratings_df.pivot(index='UserID', columns='MovieID', values='Rating')"
   ]
  },
  {
   "cell_type": "code",
   "execution_count": 26,
   "id": "5f1c8805-28de-40f7-a5df-e35f11f1b754",
   "metadata": {},
   "outputs": [],
   "source": [
    "user_item_matrix[np.isnan(user_item_matrix)] = 0"
   ]
  },
  {
   "cell_type": "code",
   "execution_count": 27,
   "id": "5e54d848-03bf-49df-9e87-3979864645c6",
   "metadata": {},
   "outputs": [],
   "source": [
    "movies_not_rated_by_user=[]\n",
    "movies_rated_by_user=[]\n",
    "ratings_by_user=[]\n",
    "people_in_same_cluster = []\n",
    "\n",
    "target_user_id = 47\n",
    "\n",
    "for col in user_item_matrix.columns:\n",
    "    if user_item_matrix.loc[target_user_id, col]!=0:\n",
    "        movies_rated_by_user.append(col)\n",
    "        ratings_by_user.append([col,user_item_matrix.loc[target_user_id, col]])\n",
    "\n",
    "for col in user_item_matrix.columns:\n",
    "    if user_item_matrix.loc[target_user_id, col]==0:\n",
    "        movies_not_rated_by_user.append(col)\n",
    "\n",
    "# Identify users in the same cluster as the target user\n",
    "target_user_cluster = cluster_labels[target_user_id - 1]\n",
    "\n",
    "#Finding People in the same cluster as the target user\n",
    "for user_id, cluster in cluster_labels_with_index:\n",
    "    if cluster == target_user_cluster and user_id != target_user_id:\n",
    "        people_in_same_cluster.append(user_id)"
   ]
  },
  {
   "cell_type": "code",
   "execution_count": 28,
   "id": "f649ddb5-3224-4cf1-b52d-c75fb1b28657",
   "metadata": {},
   "outputs": [
    {
     "name": "stdout",
     "output_type": "stream",
     "text": [
      "[[17, 5.0], [34, 4.0], [36, 5.0], [58, 3.0], [249, 4.0], [318, 4.0], [527, 5.0], [593, 2.0], [608, 3.0], [858, 4.0], [902, 4.0], [1041, 5.0], [1089, 3.0], [1193, 4.0], [1208, 4.0], [1213, 4.0], [1221, 4.0], [1247, 4.0], [1949, 4.0], [1956, 4.0], [2406, 3.0], [2804, 4.0]]\n"
     ]
    }
   ],
   "source": [
    "print(ratings_by_user)"
   ]
  },
  {
   "cell_type": "markdown",
   "id": "4b3f92f4",
   "metadata": {},
   "source": [
    "## EXTRA"
   ]
  },
  {
   "cell_type": "raw",
   "id": "d99e1082",
   "metadata": {},
   "source": [
    "import random\n",
    "random_users = [random.randint(1, 6040) for _ in range(50)]\n",
    "print(random_users)"
   ]
  },
  {
   "cell_type": "raw",
   "id": "71515dad",
   "metadata": {},
   "source": [
    "movies_not_rated_by_user=[]\n",
    "movies_rated_by_user=[]\n",
    "ratings_by_user=[]\n",
    "people_in_same_cluster = []\n",
    "\n",
    "# Example target user\n",
    "# target_user_id = random_users\n",
    "\n",
    "for target_user_id in random_users:\n",
    "    for col in user_item_matrix.columns:\n",
    "        if user_item_matrix.loc[target_user_id, col]!=0:\n",
    "            movies_rated_by_user.append(col)\n",
    "            ratings_by_user.append([col,user_item_matrix.loc[target_user_id, col]])\n",
    "\n",
    "#     for col in user_item_matrix.columns:\n",
    "#         if user_item_matrix.loc[target_user_id, col]==0:\n",
    "#             movies_not_rated_by_user.append(col)\n",
    "\n",
    "# # Identify users in the same cluster as the target user\n",
    "target_user_cluster = cluster_labels[target_user_id - 1]  # Adjust index since user_id starts from 1\n",
    "\n",
    "for user_id, cluster in cluster_labels_with_index:\n",
    "    if cluster == target_user_cluster and user_id != target_user_id:\n",
    "        people_in_same_cluster.append(user_id)"
   ]
  },
  {
   "cell_type": "markdown",
   "id": "8ad6ec6e",
   "metadata": {},
   "source": [
    "## Movies Rated By User (For Finding Error)"
   ]
  },
  {
   "cell_type": "code",
   "execution_count": 29,
   "id": "48c19ba6-4a41-46bc-9b72-da5e29022589",
   "metadata": {},
   "outputs": [
    {
     "name": "stdout",
     "output_type": "stream",
     "text": [
      "[[17, 3.767605633802817], [34, 3.5274725274725274], [36, 3.707865168539326], [58, 3.779220779220779], [249, 3.5853658536585367], [318, 4.462857142857143], [527, 4.3229461756373935], [593, 4.152582159624413], [608, 3.957286432160804], [858, 4.256666666666667], [902, 3.7714285714285714], [1041, 3.737704918032787], [1089, 3.963157894736842], [1193, 4.212996389891697], [1208, 4.0], [1213, 4.125], [1221, 4.066945606694561], [1247, 3.9767441860465116], [1949, 3.9285714285714284], [1956, 3.5625], [2406, 3.287037037037037], [2804, 4.04]]\n"
     ]
    }
   ],
   "source": [
    "# Compute recommendations for movies not rated by the target user\n",
    "import math\n",
    "\n",
    "def special_round(num):\n",
    "    if num - math.floor(num) >= 0.5:\n",
    "        return math.ceil(num)\n",
    "    else:\n",
    "        return math.floor(num)\n",
    "        \n",
    "result_list2 = []\n",
    "\n",
    "for movie in movies_rated_by_user:\n",
    "    s = 0\n",
    "    c = 0\n",
    "    for user in people_in_same_cluster:\n",
    "        if user_item_matrix.loc[user,movie] > 0:\n",
    "            s += user_item_matrix.loc[user,movie]\n",
    "            c += 1\n",
    "    if c >=1:\n",
    "        val = s / c\n",
    "        result_list2.append([movie,val])\n",
    "\n",
    "print(result_list2)"
   ]
  },
  {
   "cell_type": "code",
   "execution_count": 30,
   "id": "c65d060b-7271-42e6-a758-dfc1d0f97d5e",
   "metadata": {},
   "outputs": [
    {
     "name": "stdout",
     "output_type": "stream",
     "text": [
      "Mean Squared Error (MSE): 0.6090518695625379\n"
     ]
    }
   ],
   "source": [
    "actual_values = np.array([item[1] for item in ratings_by_user])\n",
    "predicted_values = np.array([item[1] for item in result_list2])\n",
    "\n",
    "mse = np.mean((actual_values - predicted_values) ** 2)\n",
    "\n",
    "print(f\"Mean Squared Error (MSE): {mse}\")"
   ]
  },
  {
   "cell_type": "markdown",
   "id": "7f799928",
   "metadata": {},
   "source": [
    "## Making Predictions"
   ]
  },
  {
   "cell_type": "code",
   "execution_count": 31,
   "id": "2823cafb-f660-429b-a2bb-63528684e8ee",
   "metadata": {},
   "outputs": [],
   "source": [
    "# Compute recommendations for movies not rated by the target user\n",
    "result_list = []\n",
    "\n",
    "for movie in movies_not_rated_by_user:\n",
    "    s = 0\n",
    "    c = 0\n",
    "    for user in people_in_same_cluster:\n",
    "        if user_item_matrix.loc[user,movie] > 0:\n",
    "            s += user_item_matrix.loc[user,movie]\n",
    "            c += 1\n",
    "    if c >= 10:\n",
    "        val = s / c\n",
    "        result_list.append([val,movie])"
   ]
  },
  {
   "cell_type": "code",
   "execution_count": 32,
   "id": "e5b8f52b-2350-4a47-9e74-d2460c72365a",
   "metadata": {},
   "outputs": [
    {
     "name": "stdout",
     "output_type": "stream",
     "text": [
      "[[4.44, 1178], [4.366666666666666, 50], [4.363636363636363, 3470], [4.342105263157895, 2019], [4.333333333333333, 3091], [4.275862068965517, 3089], [4.2727272727272725, 2905], [4.25, 2324], [4.232613908872902, 2762], [4.214285714285714, 2360], [4.198198198198198, 1148], [4.189655172413793, 922], [4.184782608695652, 745], [4.181818181818182, 3746], [4.178947368421053, 1204], [4.176470588235294, 2607], [4.169934640522876, 913], [4.166666666666667, 2351], [4.166149068322981, 2858], [4.163265306122449, 678], [4.159722222222222, 923], [4.148148148148148, 3307], [4.142857142857143, 904], [4.141242937853107, 750], [4.138211382113822, 2329], [4.129107981220657, 2028], [4.125730994152047, 1198], [4.122448979591836, 1212], [4.118343195266272, 908], [4.115702479338843, 1250], [4.10688836104513, 2571], [4.1, 97], [4.0997624703087885, 260], [4.093023255813954, 599], [4.092436974789916, 1276], [4.088888888888889, 306], [4.088235294117647, 1248], [4.086956521739131, 3030], [4.085714285714285, 1189], [4.079136690647482, 1233], [4.076271186440678, 1207], [4.0754716981132075, 2186], [4.074074074074074, 720], [4.072727272727272, 3083], [4.071428571428571, 1046], [4.069767441860465, 1262], [4.068965517241379, 1218], [4.068807339449541, 912], [4.066666666666666, 1284], [4.064102564102564, 1223], [4.0625, 3134], [4.061224489795919, 1254], [4.057471264367816, 296], [4.052631578947368, 1209], [4.051020408163265, 1267], [4.050724637681159, 1252], [4.041666666666667, 932], [4.038461538461538, 3683], [4.0344827586206895, 950], [4.020408163265306, 741], [4.0181818181818185, 926], [4.016666666666667, 3949], [4.0131578947368425, 3435], [4.012195121951219, 1172], [4.0120481927710845, 2692], [4.009803921568627, 903], [4.006912442396313, 110], [4.0, 1136], [4.0, 1176], [4.0, 1203], [4.0, 1217], [4.0, 1272], [4.0, 1449], [4.0, 1545], [4.0, 2066], [4.0, 2318], [4.0, 2624], [4.0, 2721], [4.0, 2726], [4.0, 3000], [4.0, 3090], [4.0, 3265], [4.0, 3783], [4.0, 3801], [4.0, 3851], [4.0, 3859], [3.993087557603687, 1196], [3.984126984126984, 1704], [3.982089552238806, 1197], [3.975, 3897], [3.9726027397260273, 2966], [3.9696969696969697, 1147], [3.967391304347826, 111], [3.9642857142857144, 2731], [3.96, 3634], [3.9574468085106385, 951], [3.9545454545454546, 1358], [3.9523809523809526, 1104], [3.951219512195122, 1260], [3.95, 1236], [3.948717948717949, 3429], [3.9441340782122905, 1225], [3.9411764705882355, 3469], [3.9384615384615387, 2788], [3.9344262295081966, 1719], [3.933333333333333, 1289], [3.932926829268293, 3006], [3.9302325581395348, 1280], [3.9292035398230087, 1201], [3.9285714285714284, 1361], [3.9285714285714284, 1734], [3.9263157894736844, 3911], [3.923076923076923, 953], [3.9216710182767622, 3578], [3.92, 1131], [3.92, 1446], [3.9166666666666665, 41], [3.9166666666666665, 954], [3.9166666666666665, 2618], [3.9157894736842107, 2959], [3.915492957746479, 3147], [3.913793103448276, 541], [3.912280701754386, 1224], [3.911764705882353, 307], [3.9098360655737703, 1234], [3.909090909090909, 1237], [3.909090909090909, 3925], [3.9047619047619047, 1935], [3.9027777777777777, 1256], [3.902439024390244, 955], [3.901639344262295, 3468], [3.9, 2203], [3.897727272727273, 1242], [3.8941176470588235, 1304], [3.8938775510204082, 3114], [3.893617021276596, 1269], [3.890625, 2728], [3.89010989010989, 1293], [3.8876404494382024, 246], [3.8862559241706163, 47], [3.8857142857142857, 1927], [3.8846153846153846, 2859], [3.8836363636363638, 1610], [3.88265306122449, 2997], [3.88, 1132], [3.8756218905472637, 1394], [3.875, 446], [3.875, 994], [3.8734177215189876, 3095], [3.870967741935484, 1945], [3.870967741935484, 3467], [3.8684210526315788, 1303], [3.8666666666666667, 969], [3.8653846153846154, 2761], [3.864864864864865, 2132], [3.8642857142857143, 1266], [3.8636363636363638, 1952], [3.8636363636363638, 3606], [3.8627450980392157, 1288], [3.86, 1299], [3.857627118644068, 1240], [3.857142857142857, 916], [3.857142857142857, 1264], [3.855524079320113, 2396], [3.8518518518518516, 2357], [3.850828729281768, 1090], [3.85, 1946], [3.85, 2010], [3.85, 3022], [3.8493150684931505, 2300], [3.849056603773585, 1200], [3.8485804416403786, 457], [3.846394984326019, 1617], [3.8461538461538463, 1788], [3.8421052631578947, 82], [3.838709677419355, 3831], [3.8375, 1036], [3.8360655737704916, 930], [3.8333333333333335, 1080], [3.8333333333333335, 1235], [3.8333333333333335, 2940], [3.831578947368421, 910], [3.831578947368421, 1214], [3.830508474576271, 3035], [3.8297872340425534, 3196], [3.8285714285714287, 2171], [3.827777777777778, 2336], [3.8241758241758244, 1253], [3.819095477386935, 1222], [3.8190476190476192, 1228], [3.8181818181818183, 1263], [3.8157894736842106, 3365], [3.8155339805825244, 1961], [3.8135593220338984, 1283], [3.8125, 356], [3.8095238095238093, 1069], [3.8085106382978724, 1950], [3.8076923076923075, 940], [3.8048780487804876, 1278], [3.803921568627451, 2064], [3.8037974683544302, 293], [3.802395209580838, 2908], [3.8, 308], [3.8, 803], [3.8, 1111], [3.8, 1230], [3.8, 1827], [3.8, 2285], [3.8, 3198], [3.8, 3339], [3.7962962962962963, 1245], [3.795275590551181, 1294], [3.7948717948717947, 3811], [3.789473684210526, 942], [3.7875, 2501], [3.7837837837837838, 2303], [3.7830687830687832, 1219], [3.782608695652174, 581], [3.780701754385965, 2918], [3.78021978021978, 800], [3.7794117647058822, 3508], [3.7777777777777777, 928], [3.774058577405858, 1291], [3.773480662983425, 1258], [3.772727272727273, 3007], [3.7719298245614037, 2921], [3.769230769230769, 3077], [3.7674418604651163, 3730], [3.765957446808511, 101], [3.764705882352941, 3720], [3.763157894736842, 1244], [3.76271186440678, 1301], [3.761904761904762, 2248], [3.76, 945], [3.7594654788418707, 589], [3.7586206896551726, 3629], [3.7570093457943927, 3178], [3.753086419753086, 3916], [3.7523809523809524, 1287], [3.7519083969465647, 1784], [3.75, 538], [3.75, 1941], [3.75, 3088], [3.75, 3317], [3.7472527472527473, 3037], [3.746268656716418, 162], [3.7457627118644066, 3681], [3.742857142857143, 1023], [3.7419354838709675, 628], [3.7408906882591095, 1387], [3.740740740740741, 290], [3.738095238095238, 911], [3.735294117647059, 1953], [3.7346938775510203, 1997], [3.7333333333333334, 2029], [3.7333333333333334, 2682], [3.7333333333333334, 3347], [3.7333333333333334, 3741], [3.7314814814814814, 3160], [3.730964467005076, 1079], [3.730769230769231, 3475], [3.7285714285714286, 3334], [3.728, 1199], [3.727272727272727, 279], [3.727272727272727, 898], [3.727272727272727, 1162], [3.727272727272727, 2935], [3.727272727272727, 3728], [3.723076923076923, 2917], [3.723076923076923, 3408], [3.7222222222222223, 556], [3.7222222222222223, 2575], [3.7222222222222223, 2612], [3.7209302325581395, 3910], [3.720164609053498, 1307], [3.7142857142857144, 1211], [3.7142857142857144, 2677], [3.7142857142857144, 3551], [3.7126436781609193, 914], [3.712, 924], [3.7115384615384617, 535], [3.7111111111111112, 1206], [3.7083333333333335, 28], [3.707865168539326, 1084], [3.707317073170732, 1963], [3.706896551724138, 1210], [3.7045454545454546, 905], [3.7045454545454546, 1300], [3.7027027027027026, 1274], [3.702205882352941, 1259], [3.702127659574468, 899], [3.7010309278350517, 1231], [3.7, 897], [3.7, 2611], [3.7, 2757], [3.7, 3188], [3.6991150442477876, 1249], [3.696969696969697, 1411], [3.6956521739130435, 1273], [3.6944444444444446, 3079], [3.6923076923076925, 2295], [3.6923076923076925, 2820], [3.69, 2686], [3.6885245901639343, 3148], [3.6875, 941], [3.6875, 1251], [3.6865671641791047, 3952], [3.6857142857142855, 921], [3.685185185185185, 2944], [3.682795698924731, 150], [3.680672268907563, 529], [3.679738562091503, 1], [3.678832116788321, 2289], [3.6785714285714284, 714], [3.6772151898734178, 3671], [3.6767123287671235, 1265], [3.675675675675676, 176], [3.675, 314], [3.673469387755102, 1921], [3.673076923076923, 3271], [3.6710526315789473, 1625], [3.670886075949367, 3654], [3.6666666666666665, 29], [3.6666666666666665, 213], [3.6666666666666665, 892], [3.6666666666666665, 917], [3.6666666666666665, 1797], [3.6666666666666665, 1931], [3.6666666666666665, 2313], [3.6666666666666665, 2585], [3.6666666666666665, 2939], [3.6666666666666665, 3350], [3.6666666666666665, 3814], [3.6666666666666665, 3836], [3.662921348314607, 3421], [3.6615384615384614, 223], [3.6607142857142856, 508], [3.660377358490566, 3723], [3.66, 1175], [3.659090909090909, 194], [3.658536585365854, 3462], [3.6542056074766354, 2795], [3.6538461538461537, 1246], [3.6538461538461537, 2206], [3.6534653465346536, 553], [3.6530612244897958, 2020], [3.652173913043478, 3510], [3.6506024096385543, 6], [3.6473214285714284, 919], [3.6470588235294117, 1730], [3.6470588235294117, 1939], [3.642857142857143, 1392], [3.642857142857143, 2204], [3.642857142857143, 2819], [3.642857142857143, 2973], [3.642857142857143, 3507], [3.6423357664233578, 2599], [3.6422764227642275, 1923], [3.641304347826087, 1188], [3.641304347826087, 3504], [3.63953488372093, 3246], [3.6382978723404253, 1086], [3.6372549019607843, 1680], [3.6363636363636362, 2766], [3.6363636363636362, 2970], [3.6363636363636362, 3363], [3.63265306122449, 3451], [3.6323529411764706, 1292], [3.6315789473684212, 515], [3.6315789473684212, 1066], [3.627906976744186, 3074], [3.627659574468085, 2268], [3.6266666666666665, 2067], [3.6261682242990654, 2871], [3.625, 1257], [3.625, 2437], [3.625, 3086], [3.624, 555], [3.6236559139784945, 1641], [3.622047244094488, 778], [3.6206896551724137, 2310], [3.62, 3498], [3.6198347107438016, 1275], [3.619718309859155, 1693], [3.6186770428015564, 733], [3.6179775280898876, 2664], [3.617391304347826, 2948], [3.6153846153846154, 117], [3.6153846153846154, 3150], [3.6153846153846154, 3735], [3.6145833333333335, 2662], [3.6144578313253013, 3552], [3.6117216117216118, 1968], [3.611428571428571, 2194], [3.611111111111111, 3789], [3.610294117647059, 2791], [3.607142857142857, 2654], [3.607142857142857, 2660], [3.606382978723404, 562], [3.606060606060606, 2745], [3.605691056910569, 3481], [3.6041666666666665, 428], [3.6041666666666665, 1243], [3.6037735849056602, 2333], [3.6029411764705883, 1124], [3.6, 321], [3.6, 1192], [3.6, 1277], [3.6, 1516], [3.6, 1944], [3.6, 2183], [3.6, 2330], [3.6, 2969], [3.6, 3359], [3.6, 3379], [3.5972222222222223, 2951], [3.5970149253731343, 2580], [3.5964912280701755, 497], [3.5952380952380953, 1643], [3.5942028985507246, 1834], [3.59375, 1099], [3.593607305936073, 2395], [3.5928853754940713, 3753], [3.591666666666667, 2947], [3.590909090909091, 3357], [3.590909090909091, 3713], [3.58984375, 32], [3.5892857142857144, 1845], [3.5886524822695036, 1302], [3.5885286783042396, 1270], [3.588235294117647, 3872], [3.586206896551724, 3521], [3.585714285714286, 3668], [3.5833333333333335, 964], [3.5833333333333335, 2176], [3.5830388692579507, 2355], [3.581730769230769, 3471], [3.5808823529411766, 16], [3.5806451612903225, 262], [3.58, 232], [3.5789473684210527, 909], [3.5789473684210527, 1348], [3.5789473684210527, 3505], [3.5789473684210527, 3788], [3.578767123287671, 2706], [3.577777777777778, 280], [3.5774647887323945, 1060], [3.577181208053691, 1674], [3.576923076923077, 1187], [3.576923076923077, 3364], [3.574468085106383, 125], [3.5714285714285716, 1281], [3.5714285714285716, 1296], [3.5714285714285716, 2202], [3.5714285714285716, 3097], [3.5714285714285716, 3275], [3.5714285714285716, 3406], [3.5689655172413794, 474], [3.5686274509803924, 866], [3.5681818181818183, 1678], [3.5671641791044775, 3019], [3.5652173913043477, 1227], [3.5641025641025643, 3516], [3.5638297872340425, 3793], [3.5637254901960786, 1500], [3.5625, 1537], [3.5625, 2109], [3.5588235294117645, 3420], [3.5585585585585586, 1271], [3.558139534883721, 3328], [3.557894736842105, 838], [3.5576923076923075, 3384], [3.557065217391304, 2716], [3.5555555555555554, 425], [3.5555555555555554, 1261], [3.5546875, 1282], [3.5531914893617023, 3366], [3.5521472392638036, 440], [3.5518672199170123, 1393], [3.5510204081632653, 3062], [3.550185873605948, 2000], [3.55, 2068], [3.55, 2570], [3.549618320610687, 1466], [3.5495495495495497, 1962], [3.5492957746478875, 247], [3.5483870967741935, 2071], [3.5483870967741935, 2693], [3.5454545454545454, 943], [3.5454545454545454, 2932], [3.5428571428571427, 3819], [3.5416666666666665, 1096], [3.5416666666666665, 1955], [3.5416666666666665, 2442], [3.5393939393939395, 920], [3.5384615384615383, 1907], [3.537037037037037, 1103], [3.5365853658536586, 3499], [3.5357142857142856, 2125], [3.5357142857142856, 2943], [3.5357142857142856, 3135], [3.533333333333333, 936], [3.533333333333333, 1663], [3.533333333333333, 2912], [3.532258064516129, 2872], [3.531073446327684, 1954], [3.5304347826086957, 2542], [3.53, 1220], [3.53, 1960], [3.52991452991453, 2288], [3.5284552845528454, 337], [3.5283018867924527, 2138], [3.5277777777777777, 971], [3.5277777777777777, 1682], [3.526315789473684, 449], [3.526315789473684, 2670], [3.526315789473684, 3182], [3.5260663507109005, 1673], [3.525345622119816, 1517], [3.5238095238095237, 2391], [3.5210084033613445, 3543], [3.520408163265306, 1947], [3.52, 2841], [3.5196374622356497, 1097], [3.519047619047619, 2302], [3.5180722891566263, 3358], [3.5172413793103448, 492], [3.5172413793103448, 2398], [3.5172413793103448, 3742], [3.5157894736842104, 1215], [3.514705882352941, 3039], [3.514450867052023, 2502], [3.514018691588785, 2076], [3.5128205128205128, 319], [3.5126050420168067, 590], [3.5118483412322274, 3751], [3.511111111111111, 2922], [3.510204081632653, 1615], [3.509433962264151, 1012], [3.508771929824561, 3360], [3.507042253521127, 2889], [3.5053763440860215, 3512], [3.5049019607843137, 11], [3.5046296296296298, 1374], [3.5, 155], [3.5, 309], [3.5, 322], [3.5, 334], [3.5, 534], [3.5, 613], [3.5, 728], [3.5, 906], [3.5, 1095], [3.5, 1305], [3.5, 1563], [3.5, 1594], [3.5, 1885], [3.5, 1904], [3.5, 1942], [3.5, 2073], [3.5, 2208], [3.5, 2370], [3.5, 2401], [3.5, 2436], [3.5, 2467], [3.5, 2596], [3.5, 2621], [3.5, 2648], [3.5, 2801], [3.5, 2880], [3.5, 2890], [3.5, 3067], [3.5, 3201], [3.5, 3361], [3.5, 3487], [3.5, 3546], [3.5, 3794], [3.5, 3929], [3.494949494949495, 3060], [3.49468085106383, 1408], [3.490566037735849, 2565], [3.4901960784313726, 1025], [3.489795918367347, 3068], [3.489795918367347, 3179], [3.489795918367347, 3362], [3.4893617021276597, 2070], [3.4885496183206106, 1285], [3.4878048780487805, 3244], [3.4871794871794872, 348], [3.4857142857142858, 3871], [3.4827586206896552, 931], [3.4823529411764707, 1635], [3.482142857142857, 3545], [3.4814814814814814, 3210], [3.4799196787148596, 480], [3.479638009049774, 1732], [3.4791666666666665, 3098], [3.4782608695652173, 1357], [3.4782608695652173, 2212], [3.4782608695652173, 3200], [3.47787610619469, 3424], [3.4776119402985075, 1035], [3.477272727272727, 1279], [3.4761904761904763, 373], [3.4761904761904763, 1150], [3.475, 2130], [3.471830985915493, 161], [3.4716981132075473, 3129], [3.471264367816092, 3536], [3.4705882352941178, 635], [3.4705882352941178, 3932], [3.46875, 1914], [3.46875, 3105], [3.4682539682539684, 265], [3.467289719626168, 3100], [3.466666666666667, 431], [3.466666666666667, 1161], [3.466666666666667, 3096], [3.4651162790697674, 73], [3.4651162790697674, 1333], [3.4642857142857144, 949], [3.463815789473684, 3175], [3.462962962962963, 915], [3.462962962962963, 2114], [3.4615384615384617, 2952], [3.4615384615384617, 3747], [3.4603174603174605, 1077], [3.4603174603174605, 3052], [3.459627329192547, 1912], [3.4594594594594597, 2729], [3.4583333333333335, 2750], [3.456140350877193, 933], [3.4545454545454546, 907], [3.4545454545454546, 1344], [3.4545454545454546, 1633], [3.4545454545454546, 2983], [3.4545454545454546, 3138], [3.4545454545454546, 3456], [3.453125, 3071], [3.4523809523809526, 475], [3.4516129032258065, 1226], [3.450980392156863, 3624], [3.45, 2178], [3.448780487804878, 3256], [3.448717948717949, 3479], [3.4482758620689653, 1897], [3.4477611940298507, 2231], [3.445945945945946, 345], [3.4444444444444446, 1177], [3.4444444444444446, 3823], [3.442622950819672, 2352], [3.44, 2671], [3.439306358381503, 1639], [3.439252336448598, 671], [3.4375, 388], [3.4375, 2700], [3.4375, 3658], [3.4361702127659575, 2353], [3.435483870967742, 3556], [3.4347826086956523, 851], [3.433333333333333, 3461], [3.4330708661417324, 2359], [3.4328358208955225, 597], [3.4324324324324325, 1171], [3.4324324324324325, 3682], [3.4320388349514563, 539], [3.4318181818181817, 1873], [3.4307692307692306, 2282], [3.4306569343065694, 3386], [3.4294871794871793, 1994], [3.4285714285714284, 190], [3.4285714285714284, 456], [3.4285714285714284, 650], [3.4285714285714284, 944], [3.4285714285714284, 1050], [3.4285714285714284, 1484], [3.4285714285714284, 2730], [3.4285714285714284, 3405], [3.4285714285714284, 3448], [3.423076923076923, 299], [3.421965317919075, 1653], [3.4210526315789473, 947], [3.419753086419753, 3260], [3.4193548387096775, 1648], [3.418918918918919, 3397], [3.418181818181818, 3034], [3.4171122994652405, 364], [3.4166666666666665, 1179], [3.4166666666666665, 1542], [3.4166666666666665, 1940], [3.4150943396226414, 233], [3.4146341463414633, 349], [3.4130434782608696, 2919], [3.412903225806452, 3101], [3.411764705882353, 14], [3.4107142857142856, 62], [3.4107142857142856, 3189], [3.4074074074074074, 1034], [3.4069767441860463, 1032], [3.40625, 482], [3.40625, 3093], [3.4057971014492754, 69], [3.4054054054054053, 2137], [3.4047619047619047, 1683], [3.404255319148936, 3044], [3.404040404040404, 3203], [3.402439024390244, 52], [3.4022988505747125, 2739], [3.4, 99], [3.4, 156], [3.4, 268], [3.4, 493], [3.4, 808], [3.4, 2069], [3.4, 2852], [3.4, 3416], [3.3991228070175437, 1580], [3.3958333333333335, 86], [3.3947368421052633, 2891], [3.393939393939394, 3186], [3.392857142857143, 3727], [3.392405063291139, 2301], [3.392156862745098, 2312], [3.391566265060241, 595], [3.391304347826087, 3159], [3.390625, 272], [3.3904109589041096, 104], [3.39, 509], [3.388888888888889, 483], [3.3884297520661155, 441], [3.3884297520661155, 471], [3.3879310344827585, 1982], [3.3865546218487395, 2243], [3.3859649122807016, 261], [3.3859649122807016, 1185], [3.3857868020304567, 1407], [3.3855421686746987, 3108], [3.3846153846153846, 927], [3.3846153846153846, 978], [3.3846153846153846, 1033], [3.3839285714285716, 3252], [3.3833333333333333, 2117], [3.3815789473684212, 1694], [3.380952380952381, 948], [3.380952380952381, 2993], [3.380952380952381, 3341], [3.378787878787879, 531], [3.3783783783783785, 594], [3.3768844221105527, 1396], [3.375, 2078], [3.375, 2988], [3.375, 3936], [3.3736263736263736, 380], [3.371794871794872, 2690], [3.3708920187793425, 357], [3.3705882352941177, 25], [3.3703703703703702, 3011], [3.369369369369369, 3104], [3.3688760806916425, 2916], [3.367816091954023, 3185], [3.36734693877551, 3163], [3.3668122270742358, 3255], [3.3666666666666667, 3342], [3.3642857142857143, 2108], [3.3636363636363638, 30], [3.3636363636363638, 78], [3.3636363636363638, 2139], [3.362962962962963, 2707], [3.3621399176954734, 21], [3.360215053763441, 2115], [3.36, 2949], [3.359375, 1672], [3.3588516746411483, 1073], [3.358490566037736, 3152], [3.357142857142857, 281], [3.357142857142857, 1345], [3.357142857142857, 1356], [3.357142857142857, 2936], [3.35625, 235], [3.353846153846154, 2390], [3.3529411764705883, 946], [3.352422907488987, 1584], [3.3513513513513513, 2863], [3.3513513513513513, 3548], [3.35, 1824], [3.35, 2232], [3.3496503496503496, 1028], [3.3472222222222223, 2763], [3.3469387755102042, 3125], [3.346774193548387, 3396], [3.3461538461538463, 1061], [3.3450980392156864, 1527], [3.34375, 805], [3.342857142857143, 968], [3.3421052631578947, 1660], [3.3421052631578947, 2236], [3.3421052631578947, 2879], [3.3419354838709676, 2572], [3.341317365269461, 454], [3.340909090909091, 3526], [3.3404255319148937, 2644], [3.34, 1019], [3.338709677419355, 1343], [3.336206896551724, 1608], [3.336, 3418], [3.3333333333333335, 523], [3.3333333333333335, 549], [3.3333333333333335, 759], [3.3333333333333335, 766], [3.3333333333333335, 918], [3.3333333333333335, 965], [3.3333333333333335, 1078], [3.3333333333333335, 1085], [3.3333333333333335, 1184], [3.3333333333333335, 1290], [3.3333333333333335, 1419], [3.3333333333333335, 1854], [3.3333333333333335, 2583], [3.3333333333333335, 2967], [3.3333333333333335, 3075], [3.3333333333333335, 3604], [3.3333333333333335, 3613], [3.3333333333333335, 3813], [3.3333333333333335, 3822], [3.3333333333333335, 3920], [3.3318385650224216, 588], [3.329113924050633, 3639], [3.328358208955224, 164], [3.3278688524590163, 551], [3.327272727272727, 1059], [3.327272727272727, 1183], [3.324324324324324, 1340], [3.323529411764706, 2443], [3.323529411764706, 3066], [3.3225806451612905, 3078], [3.3216783216783217, 2144], [3.321243523316062, 3555], [3.3212121212121213, 3072], [3.3209876543209877, 3844], [3.32, 2272], [3.318840579710145, 1957], [3.3181818181818183, 524], [3.3181818181818183, 3915], [3.3176470588235296, 342], [3.3176470588235296, 3267], [3.317073170731707, 3466], [3.3157894736842106, 94], [3.3157894736842106, 171], [3.3157894736842106, 507], [3.3132530120481927, 1297], [3.3125, 893], [3.3125, 929], [3.3125, 2738], [3.311111111111111, 3213], [3.310580204778157, 1721], [3.310344827586207, 1401], [3.310077519379845, 3298], [3.308219178082192, 141], [3.3076923076923075, 269], [3.3076923076923075, 1365], [3.3076923076923075, 2488], [3.3076923076923075, 3081], [3.3076923076923075, 3599], [3.306451612903226, 222], [3.3043478260869565, 1964], [3.303225806451613, 2058], [3.3028169014084505, 266], [3.302325581395349, 253], [3.3, 605], [3.3, 1180], [3.3, 2210], [3.3, 2273], [3.3, 2439], [3.3, 3167], [3.3, 3539], [3.299492385786802, 2321], [3.2972972972972974, 3594], [3.2967032967032965, 3174], [3.2962962962962963, 3554], [3.295774647887324, 2991], [3.2954545454545454, 1729], [3.2941176470588234, 514], [3.2941176470588234, 764], [3.2941176470588234, 2347], [3.2941176470588234, 2725], [3.2941176470588234, 3576], [3.292929292929293, 1321], [3.292207792207792, 3948], [3.292134831460674, 1101], [3.292063492063492, 1127], [3.2920353982300883, 1959], [3.291970802919708, 1748], [3.2916666666666665, 1554], [3.2916666666666665, 2181], [3.2916666666666665, 3028], [3.2916666666666665, 3102], [3.290909090909091, 3494], [3.2905982905982905, 2160], [3.289855072463768, 361], [3.289473684210526, 1414], [3.2888888888888888, 1186], [3.288659793814433, 180], [3.2884615384615383, 861], [3.2884615384615383, 1967], [3.287878787878788, 1701], [3.2857142857142856, 506], [3.2857142857142856, 680], [3.2857142857142856, 986], [3.2857142857142856, 2348], [3.2857142857142856, 2812], [3.2839506172839505, 3168], [3.2839506172839505, 3635], [3.2837837837837838, 339], [3.283333333333333, 300], [3.282442748091603, 3868], [3.282051282051282, 3598], [3.28125, 934], [3.28125, 3527], [3.2777777777777777, 1758], [3.277486910994764, 1094], [3.276923076923077, 1892], [3.2768361581920904, 1376], [3.2768361581920904, 2529], [3.2758620689655173, 1948], [3.2755102040816326, 1120], [3.2755102040816326, 3798], [3.272727272727273, 347], [3.272727272727273, 391], [3.272727272727273, 959], [3.272727272727273, 1310], [3.272727272727273, 1354], [3.272727272727273, 1612], [3.272727272727273, 1929], [3.272727272727273, 2797], [3.2708333333333335, 333], [3.27027027027027, 289], [3.269230769230769, 1298], [3.269230769230769, 2669], [3.269230769230769, 2732], [3.2684563758389262, 1485], [3.268292682926829, 574], [3.267605633802817, 2118], [3.267515923566879, 368], [3.267326732673267, 377], [3.265873015873016, 39], [3.265625, 3176], [3.2626262626262625, 3893], [3.260869565217391, 412], [3.260869565217391, 1938], [3.260869565217391, 2349], [3.2606060606060607, 2490], [3.26027397260274, 2112], [3.26, 2764], [3.26, 3812], [3.2598425196850394, 2080], [3.2598425196850394, 2140], [3.257575757575758, 663], [3.257142857142857, 991], [3.255813953488372, 1295], [3.2549019607843137, 1238], [3.2542372881355934, 2883], [3.2535211267605635, 3618], [3.2528735632183907, 1569], [3.25, 207], [3.25, 1125], [3.25, 1794], [3.25, 1936], [3.25, 2037], [3.25, 2182], [3.25, 2314], [3.25, 2649], [3.25, 3368], [3.25, 3370], [3.25, 3496], [3.25, 3538], [3.247863247863248, 592], [3.246268656716418, 1092], [3.244186046511628, 165], [3.2432432432432434, 2971], [3.242424242424242, 2687], [3.2419354838709675, 832], [3.2406876790830945, 780], [3.24025974025974, 2968], [3.238095238095238, 1051], [3.238095238095238, 2550], [3.237623762376238, 151], [3.236842105263158, 848], [3.236714975845411, 3107], [3.2357142857142858, 2539], [3.235294117647059, 3204], [3.235294117647059, 3726], [3.235294117647059, 3882], [3.234042553191489, 1057], [3.234042553191489, 2736], [3.2333333333333334, 215], [3.2333333333333334, 1966], [3.2333333333333334, 3480], [3.2333333333333334, 3896], [3.232876712328767, 3155], [3.2325581395348837, 837], [3.2317880794701987, 2987], [3.230769230769231, 647], [3.230769230769231, 2341], [3.230769230769231, 3296], [3.22972972972973, 2096], [3.2295081967213113, 2423], [3.2291666666666665, 1017], [3.2283464566929134, 2161], [3.227272727272727, 354], [3.227272727272727, 1476], [3.227272727272727, 2782], [3.226519337016575, 2006], [3.225, 3259], [3.2244897959183674, 2022], [3.2238805970149254, 1810], [3.2222222222222223, 900], [3.2222222222222223, 1194], [3.2222222222222223, 2663], [3.2222222222222223, 3111], [3.2222222222222223, 3412], [3.2184873949579833, 2366], [3.2183098591549295, 2193], [3.2162162162162162, 2240], [3.2162162162162162, 3700], [3.2151898734177213, 1350], [3.21505376344086, 1022], [3.2142857142857144, 72], [3.2142857142857144, 2166], [3.212962962962963, 2371], [3.212121212121212, 1464], [3.2119565217391304, 10], [3.2111111111111112, 3617], [3.210526315789474, 501], [3.210526315789474, 1645], [3.210526315789474, 1686], [3.210526315789474, 1913], [3.2103658536585367, 2683], [3.2094240837696337, 3450], [3.2083333333333335, 2097], [3.207317073170732, 2403], [3.206896551724138, 521], [3.2058823529411766, 1441], [3.2045454545454546, 3928], [3.2026143790849675, 3703], [3.2023809523809526, 1619], [3.2, 123], [3.2, 242], [3.2, 390], [3.2, 596], [3.2, 1029], [3.2, 1865], [3.2, 1916], [3.2, 2345], [3.2, 2661], [3.2, 3008], [3.2, 3117], [3.2, 3375], [3.2, 3653], [3.2, 3858], [3.198019801980198, 1047], [3.197674418604651, 2018], [3.196969696969697, 3633], [3.1956521739130435, 2025], [3.1948051948051948, 2065], [3.193548387096774, 147], [3.193103448275862, 3005], [3.1923076923076925, 2024], [3.1923076923076925, 2361], [3.1911764705882355, 3253], [3.1911764705882355, 3398], [3.1904761904761907, 1190], [3.1904761904761907, 3046], [3.189655172413793, 2424], [3.189189189189189, 3733], [3.1875, 2173], [3.1867469879518073, 353], [3.1867219917012446, 2174], [3.185567010309278, 7], [3.185185185185185, 85], [3.185185185185185, 163], [3.185185185185185, 1649], [3.1842105263157894, 1518], [3.183673469387755, 2085], [3.1818181818181817, 522], [3.1818181818181817, 2075], [3.1818181818181817, 2180], [3.1818181818181817, 2271], [3.1818181818181817, 2340], [3.1818181818181817, 3827], [3.1818181818181817, 3852], [3.18, 2083], [3.1794871794871793, 1875], [3.179310344827586, 2915], [3.1769230769230767, 3763], [3.1748633879781423, 1909], [3.1744186046511627, 1597], [3.1742424242424243, 3476], [3.1739130434782608, 154], [3.1739130434782608, 2290], [3.172932330827068, 2150], [3.1721311475409837, 1965], [3.1714285714285713, 2633], [3.1702127659574466, 3169], [3.169230769230769, 2779], [3.1690140845070425, 230], [3.168831168831169, 1370], [3.1666666666666665, 421], [3.1666666666666665, 735], [3.1666666666666665, 785], [3.1666666666666665, 2280], [3.1666666666666665, 3792], [3.1658291457286434, 3755], [3.1654135338345863, 3020], [3.1636363636363636, 2291], [3.1627906976744184, 1821], [3.161290322580645, 2287], [3.161290322580645, 2337], [3.161137440758294, 1777], [3.1609756097560977, 2985], [3.1607142857142856, 3740], [3.1603053435114505, 1805], [3.16, 2048], [3.16, 3771], [3.158536585365854, 2278], [3.1578947368421053, 2087], [3.1578947368421053, 2774], [3.157142857142857, 2414], [3.15625, 3061], [3.1555555555555554, 616], [3.1538461538461537, 43], [3.1538461538461537, 57], [3.1538461538461537, 695], [3.1538461538461537, 1582], [3.1538461538461537, 2239], [3.1527777777777777, 3685], [3.152173913043478, 2159], [3.150943396226415, 3087], [3.15, 938], [3.15, 3675], [3.1490683229813663, 2081], [3.1481481481481484, 2077], [3.1466666666666665, 799], [3.146067415730337, 1958], [3.1446540880503147, 2023], [3.142857142857143, 199], [3.142857142857143, 350], [3.142857142857143, 417], [3.142857142857143, 1173], [3.142857142857143, 1799], [3.142857142857143, 2899], [3.14, 1013], [3.13953488372093, 3251], [3.138888888888889, 3082], [3.1384615384615384, 481], [3.1382978723404253, 2001], [3.1379310344827585, 1587], [3.1379310344827585, 2860], [3.1379310344827585, 3513], [3.135593220338983, 2167], [3.1333333333333333, 2749], [3.1333333333333333, 2977], [3.1315789473684212, 1951], [3.1313131313131315, 145], [3.130434782608696, 352], [3.130434782608696, 2294], [3.130434782608696, 2867], [3.1296296296296298, 3566], [3.1294117647058823, 1747], [3.129032258064516, 2099], [3.129032258064516, 2866], [3.1280487804878048, 3702], [3.1265822784810124, 224], [3.1263736263736264, 500], [3.125, 175], [3.125, 1398], [3.125, 3914], [3.124223602484472, 2427], [3.122950819672131, 3301], [3.1225806451612903, 1129], [3.122448979591837, 3145], [3.121212121212121, 3770], [3.1203703703703702, 2046], [3.12, 1082], [3.12, 1735], [3.12, 3181], [3.12, 3729], [3.1187214611872145, 587], [3.1186440677966103, 2457], [3.1186440677966103, 3409], [3.1176470588235294, 1535], [3.1153846153846154, 2394], [3.1142857142857143, 448], [3.1133333333333333, 1380], [3.1132075471698113, 1688], [3.1132075471698113, 3501], [3.1123595505617976, 1620], [3.111111111111111, 205], [3.111111111111111, 453], [3.111111111111111, 1425], [3.111111111111111, 1753], [3.111111111111111, 2476], [3.111111111111111, 2714], [3.111111111111111, 2857], [3.108695652173913, 3430], [3.108108108108108, 2941], [3.1076923076923078, 2111], [3.107142857142857, 2134], [3.107011070110701, 1573], [3.1052631578947367, 2495], [3.1052631578947367, 3643], [3.103448275862069, 2861], [3.1020408163265305, 2946], [3.1, 1049], [3.1, 1317], [3.1, 3266], [3.0981308411214954, 2628], [3.0970149253731343, 708], [3.0963855421686746, 3261], [3.0952380952380953, 901], [3.0952380952380953, 2665], [3.0950226244343892, 316], [3.0945945945945947, 2622], [3.0942028985507246, 2433], [3.09375, 2331], [3.0930232558139537, 2005], [3.0920245398773005, 543], [3.090909090909091, 383], [3.090909090909091, 1621], [3.090909090909091, 3417], [3.090909090909091, 3425], [3.09009009009009, 2431], [3.088235294117647, 31], [3.0875912408759123, 1711], [3.0869565217391304, 3571], [3.0833333333333335, 35], [3.0833333333333335, 302], [3.0833333333333335, 513], [3.0833333333333335, 781], [3.0833333333333335, 3926], [3.0823529411764707, 494], [3.081730769230769, 2640], [3.08, 627], [3.08, 2420], [3.076923076923077, 2696], [3.076923076923077, 3591], [3.0753424657534247, 1093], [3.075268817204301, 144], [3.075, 1835], [3.074074074074074, 835], [3.0726256983240225, 2407], [3.0714285714285716, 26], [3.0714285714285716, 1083], [3.0714285714285716, 1480], [3.0714285714285716, 2463], [3.0714285714285716, 2928], [3.0714285714285716, 3250], [3.0707964601769913, 2528], [3.0704225352112675, 1883], [3.0701754385964914, 3760], [3.0689655172413794, 1713], [3.0675675675675675, 2143], [3.0675675675675675, 2474], [3.066666666666667, 2734], [3.0657894736842106, 1459], [3.064516129032258, 3445], [3.0642857142857145, 2021], [3.0636363636363635, 3300], [3.0625, 159], [3.0625, 1031], [3.0606060606060606, 18], [3.0606060606060606, 2059], [3.0606060606060606, 3519], [3.0606060606060606, 3550], [3.06, 2709], [3.0597014925373136, 2455], [3.0588235294117645, 1286], [3.0588235294117645, 2924], [3.0588235294117645, 3118], [3.057142857142857, 2929], [3.054054054054054, 140], [3.054054054054054, 2432], [3.0526315789473686, 292], [3.051282051282051, 3608], [3.0510204081632653, 610], [3.050632911392405, 2009], [3.05, 2261], [3.048076923076923, 802], [3.0476190476190474, 1399], [3.0476190476190474, 2784], [3.0476190476190474, 3153], [3.046242774566474, 1722], [3.045714285714286, 2003], [3.0454545454545454, 1008], [3.0454545454545454, 1754], [3.0445859872611467, 3809], [3.044334975369458, 2770], [3.043103448275862, 3863], [3.0425531914893615, 3032], [3.042372881355932, 1378], [3.041095890410959, 3699], [3.0408163265306123, 2553], [3.0403225806451615, 112], [3.04, 852], [3.039473684210526, 2110], [3.039473684210526, 2672], [3.039473684210526, 3615], [3.0384615384615383, 2165], [3.0377358490566038, 2089], [3.0373831775700935, 2013], [3.0357142857142856, 450], [3.0352941176470587, 2989], [3.0344827586206895, 1416], [3.0344827586206895, 2870], [3.033333333333333, 1836], [3.032967032967033, 2245], [3.032258064516129, 3015], [3.0319148936170213, 2759], [3.0319148936170213, 3524], [3.030456852791878, 2100], [3.0285714285714285, 1785], [3.0285714285714285, 3506], [3.027027027027027, 2102], [3.024390243902439, 1020], [3.0224719101123596, 2311], [3.0220588235294117, 2541], [3.021276595744681, 1727], [3.021276595744681, 3270], [3.021276595744681, 3745], [3.02, 2506], [3.019230769230769, 1611], [3.017857142857143, 2346], [3.017857142857143, 3927], [3.017543859649123, 1042], [3.015625, 351], [3.014705882352941, 3712], [3.0136986301369864, 3535], [3.011904761904762, 517], [3.0112359550561796, 216], [3.0063291139240507, 1339], [3.0, 13], [3.0, 38], [3.0, 210], [3.0, 277], [3.0, 369], [3.0, 451], [3.0, 458], [3.0, 465], [3.0, 477], [3.0, 491], [3.0, 952], [3.0, 1337], [3.0, 1447], [3.0, 1472], [3.0, 1589], [3.0, 1654], [3.0, 1703], [3.0, 1866], [3.0, 1884], [3.0, 2033], [3.0, 2184], [3.0, 2344], [3.0, 2434], [3.0, 2454], [3.0, 2470], [3.0, 2518], [3.0, 2560], [3.0, 2647], [3.0, 2694], [3.0, 2753], [3.0, 2780], [3.0, 2874], [3.0, 3055], [3.0, 3076], [3.0, 3197], [3.0, 3214], [3.0, 3230], [3.0, 3235], [3.0, 3272], [3.0, 3330], [3.0, 3502], [3.0, 3565], [3.0, 3628], [3.0, 3706], [3.0, 3724], [3.0, 3744], [3.0, 3806], [3.0, 3807], [2.9945355191256833, 2605], [2.99288256227758, 3623], [2.991869918699187, 1385], [2.9902439024390244, 1552], [2.9895833333333335, 2002], [2.988888888888889, 2413], [2.988888888888889, 2718], [2.986062717770035, 648], [2.9855072463768115, 2724], [2.984536082474227, 344], [2.984375, 1588], [2.984375, 3452], [2.980392156862745, 3707], [2.98019801980198, 372], [2.9782608695652173, 2090], [2.978021978021978, 3686], [2.977777777777778, 2145], [2.9767441860465116, 252], [2.975609756097561, 2320], [2.9740259740259742, 2249], [2.973684210526316, 2475], [2.973333333333333, 2567], [2.972972972972973, 3769], [2.9722222222222223, 45], [2.971830985915493, 1081], [2.9714285714285715, 1268], [2.9714285714285715, 2519], [2.971014492753623, 2015], [2.9702970297029703, 329], [2.9696969696969697, 2617], [2.9696969696969697, 2875], [2.96875, 1390], [2.966666666666667, 662], [2.966666666666667, 1130], [2.966666666666667, 1614], [2.9653465346534653, 2712], [2.965217391304348, 3274], [2.9651162790697674, 2702], [2.9645390070921986, 2976], [2.9642857142857144, 2546], [2.9642857142857144, 2846], [2.962025316455696, 2496], [2.9615384615384617, 1919], [2.9615384615384617, 3426], [2.9583333333333335, 3861], [2.9571428571428573, 2803], [2.9565217391304346, 998], [2.9565217391304346, 2978], [2.955357142857143, 2527], [2.9545454545454546, 22], [2.953488372093023, 661], [2.9527027027027026, 3263], [2.9523809523809526, 27], [2.9523809523809526, 1347], [2.9523809523809526, 2363], [2.9523809523809526, 3865], [2.9518072289156625, 376], [2.948717948717949, 3422], [2.948051948051948, 105], [2.945945945945946, 2116], [2.945945945945946, 2195], [2.945945945945946, 3529], [2.9452054794520546, 236], [2.9444444444444446, 1465], [2.9444444444444446, 1858], [2.943396226415094, 1541], [2.9411764705882355, 271], [2.9411764705882355, 1670], [2.9411764705882355, 2043], [2.9411764705882355, 3262], [2.9375, 1482], [2.9375, 1733], [2.9368421052631577, 3441], [2.9358974358974357, 2990], [2.9347826086956523, 2384], [2.9344262295081966, 2376], [2.933333333333333, 422], [2.933333333333333, 2362], [2.933333333333333, 3217], [2.933333333333333, 3457], [2.9322033898305087, 3018], [2.9318181818181817, 218], [2.9318181818181817, 381], [2.9302325581395348, 3404], [2.9298245614035086, 338], [2.9285714285714284, 691], [2.9285714285714284, 2356], [2.9285714285714284, 3698], [2.9285714285714284, 3738], [2.927536231884058, 3053], [2.925925925925926, 2587], [2.925, 3515], [2.9245283018867925, 3478], [2.923076923076923, 365], [2.9215686274509802, 2485], [2.92, 2435], [2.92, 2634], [2.9186046511627906, 2600], [2.918032786885246, 2676], [2.9178082191780823, 1769], [2.9166666666666665, 937], [2.9166666666666665, 1372], [2.9166666666666665, 1429], [2.9166666666666665, 1699], [2.9166666666666665, 1895], [2.9166666666666665, 3127], [2.9166666666666665, 3206], [2.9166666666666665, 3734], [2.9166666666666665, 3784], [2.9162995594713657, 70], [2.9152542372881354, 1689], [2.914285714285714, 3029], [2.913978494623656, 2881], [2.9134199134199132, 1917], [2.9130434782608696, 2645], [2.911290322580645, 24], [2.909090909090909, 1650], [2.909090909090909, 1840], [2.909090909090909, 2888], [2.909090909090909, 3318], [2.909090909090909, 3632], [2.9080459770114944, 1801], [2.9078947368421053, 586], [2.9069767441860463, 3786], [2.90625, 1479], [2.9047619047619047, 2168], [2.9047619047619047, 2459], [2.9047619047619047, 3427], [2.9047619047619047, 3619], [2.9027777777777777, 3249], [2.902439024390244, 328], [2.900990099009901, 3173], [2.9, 46], [2.9, 81], [2.9, 461], [2.9, 1241], [2.9, 1255], [2.9, 1507], [2.9, 1508], [2.9, 1809], [2.9, 2032], [2.9, 2756], [2.9, 2885], [2.9, 3846], [2.89937106918239, 2688], [2.8987341772151898, 170], [2.8968253968253967, 3], [2.896551724137931, 1135], [2.896551724137931, 2141], [2.896, 3614], [2.8947368421052633, 270], [2.8947368421052633, 2419], [2.893617021276596, 1566], [2.892156862745098, 3016], [2.891566265060241, 1409], [2.891304347826087, 367], [2.890909090909091, 3099], [2.889705882352941, 3785], [2.888888888888889, 469], [2.888888888888889, 988], [2.888888888888889, 2062], [2.888888888888889, 2135], [2.888888888888889, 2822], [2.8857142857142857, 3676], [2.8846153846153846, 188], [2.8823529411764706, 1661], [2.8823529411764706, 1791], [2.8823529411764706, 2844], [2.8819875776397517, 231], [2.8813559322033897, 88], [2.8813559322033897, 1375], [2.8807339449541285, 2409], [2.88, 532], [2.878787878787879, 490], [2.8771929824561404, 89], [2.8771929824561404, 282], [2.8762886597938144, 1876], [2.8762886597938144, 1888], [2.8756476683937824, 3033], [2.875, 229], [2.875, 1856], [2.875, 3103], [2.8744588744588744, 2011], [2.8732394366197185, 2262], [2.873015873015873, 3684], [2.8728813559322033, 1792], [2.869565217391304, 3810], [2.8686868686868685, 3791], [2.8684210526315788, 2836], [2.8666666666666667, 2416], [2.865546218487395, 2133], [2.863013698630137, 783], [2.8620689655172415, 2106], [2.860294117647059, 2581], [2.859872611464968, 2393], [2.8588235294117648, 748], [2.858695652173913, 2746], [2.857142857142857, 552], [2.857142857142857, 1010], [2.857142857142857, 1353], [2.857142857142857, 2472], [2.857142857142857, 3327], [2.8550724637681157, 317], [2.853932584269663, 3269], [2.8529411764705883, 2561], [2.8518518518518516, 2975], [2.8507462686567164, 3040], [2.85, 408], [2.848, 198], [2.847826086956522, 2469], [2.847826086956522, 3219], [2.846590909090909, 2105], [2.8461538461538463, 113], [2.8461538461538463, 384], [2.8461538461538463, 806], [2.8461538461538463, 2057], [2.8461538461538463, 3659], [2.8461538461538463, 3886], [2.8448275862068964, 3308], [2.842553191489362, 2012], [2.84251968503937, 653], [2.8421052631578947, 3752], [2.84, 187], [2.8372093023255816, 3930], [2.8365384615384617, 3157], [2.834008097165992, 736], [2.8333333333333335, 452], [2.8333333333333335, 700], [2.8333333333333335, 1006], [2.8333333333333335, 1191], [2.8333333333333335, 1404], [2.8333333333333335, 1475], [2.8333333333333335, 1943], [2.8333333333333335, 2179], [2.8333333333333335, 2625], [2.8333333333333335, 2926], [2.8333333333333335, 3534], [2.832, 3638], [2.830508474576271, 2155], [2.830188679245283, 434], [2.8285714285714287, 3549], [2.828125, 237], [2.8266666666666667, 3247], [2.824561403508772, 362], [2.823529411764706, 288], [2.823529411764706, 2267], [2.823529411764706, 2325], [2.823529411764706, 3194], [2.8208955223880596, 2405], [2.82, 371], [2.81875, 2826], [2.8181818181818183, 278], [2.8181818181818183, 295], [2.8181818181818183, 301], [2.8181818181818183, 346], [2.8181818181818183, 1457], [2.8181818181818183, 1600], [2.8181818181818183, 2055], [2.8181818181818183, 3525], [2.8181818181818183, 3869], [2.816326530612245, 1015], [2.814814814814815, 1804], [2.8135593220338984, 2802], [2.8125, 74], [2.8125, 2582], [2.8125, 2769], [2.8115942028985508, 382], [2.810810810810811, 2554], [2.810344827586207, 3444], [2.8095238095238093, 2651], [2.8088235294117645, 2747], [2.8085106382978724, 107], [2.808219178082192, 60], [2.8076923076923075, 225], [2.8043478260869565, 2124], [2.803921568627451, 1009], [2.8035714285714284, 707], [2.803030303030303, 3917], [2.8, 118], [2.8, 182], [2.8, 580], [2.8, 982], [2.8, 1018], [2.8, 1027], [2.8, 1088], [2.8, 1113], [2.8, 1841], [2.8, 2430], [2.8, 3503], [2.8, 3602], [2.8, 3732], [2.8, 3943], [2.798076923076923, 3701], [2.796875, 1422], [2.7941176470588234, 1848], [2.793939393939394, 1918], [2.7936507936507935, 3649], [2.793103448275862, 1024], [2.793103448275862, 1330], [2.791044776119403, 1833], [2.7888888888888888, 168], [2.7885714285714287, 1513], [2.7875, 5], [2.7868852459016393, 999], [2.7857142857142856, 100], [2.7857142857142856, 990], [2.7857142857142856, 1456], [2.7857142857142856, 2590], [2.785234899328859, 2], [2.78494623655914, 1687], [2.784313725490196, 2335], [2.7837837837837838, 2789], [2.782608695652174, 257], [2.78125, 3287], [2.78125, 3879], [2.7804878048780486, 2901], [2.779816513761468, 724], [2.7777777777777777, 1410], [2.7777777777777777, 2771], [2.7777777777777777, 2996], [2.7761194029850746, 423], [2.774436090225564, 3264], [2.774193548387097, 801], [2.774193548387097, 1366], [2.772727272727273, 511], [2.772727272727273, 2095], [2.7719298245614037, 2613], [2.7714285714285714, 2263], [2.7714285714285714, 2453], [2.769230769230769, 1341], [2.769230769230769, 1395], [2.769230769230769, 2840], [2.769230769230769, 3596], [2.76875, 2094], [2.7681159420289854, 3528], [2.764705882352941, 2283], [2.761904761904762, 340], [2.761904761904762, 2418], [2.761904761904762, 3399], [2.7601626016260163, 1676], [2.76, 1205], [2.76, 3142], [2.757575757575758, 3544], [2.7564102564102564, 1334], [2.756183745583039, 2710], [2.7560975609756095, 3773], [2.754601226993865, 2641], [2.7522935779816513, 3070], [2.75, 1746], [2.75, 1816], [2.75, 2148], [2.75, 2297], [2.75, 2520], [2.75, 3112], [2.75, 3497], [2.7466666666666666, 2722], [2.7450980392156863, 537], [2.744186046511628, 3326], [2.742857142857143, 468], [2.740740740740741, 1306], [2.740740740740741, 1974], [2.739130434782609, 1442], [2.739130434782609, 2447], [2.739130434782609, 2723], [2.736842105263158, 3436], [2.7364864864864864, 442], [2.7358490566037736, 2772], [2.7333333333333334, 1016], [2.7333333333333334, 1627], [2.7333333333333334, 3141], [2.732673267326733, 2699], [2.731707317073171, 2252], [2.730769230769231, 2136], [2.72972972972973, 239], [2.72972972972973, 2639], [2.727272727272727, 1428], [2.727272727272727, 3109], [2.727272727272727, 3765], [2.725806451612903, 2792], [2.7256317689530687, 1544], [2.7254901960784315, 2142], [2.7222222222222223, 1355], [2.7222222222222223, 2517], [2.721311475409836, 2558], [2.71875, 2540], [2.717948717948718, 3120], [2.717741935483871, 2598], [2.7163120567375887, 3704], [2.7142857142857144, 409], [2.7142857142857144, 1487], [2.7142857142857144, 1603], [2.7142857142857144, 2250], [2.7115384615384617, 303], [2.710526315789474, 550], [2.7096774193548385, 3036], [2.707692307692308, 2120], [2.707692307692308, 3477], [2.706422018348624, 786], [2.7058823529411766, 603], [2.7033898305084745, 1405], [2.7028985507246377, 1586], [2.7023809523809526, 48], [2.7012987012987013, 2942], [2.7, 472], [2.7, 1397], [2.7, 1829], [2.7, 3051], [2.696969696969697, 2956], [2.696969696969697, 3483], [2.6923076923076925, 656], [2.6923076923076925, 869], [2.6923076923076925, 1014], [2.6923076923076925, 1806], [2.6923076923076925, 3780], [2.690909090909091, 1030], [2.6901408450704225, 2513], [2.689189189189189, 516], [2.6850393700787403, 3717], [2.6842105263157894, 709], [2.682926829268293, 1593], [2.6808510638297873, 95], [2.6785714285714284, 804], [2.6785714285714284, 1363], [2.6785714285714284, 3225], [2.675, 2038], [2.6721311475409837, 719], [2.6721311475409837, 1717], [2.6721311475409837, 2478], [2.6666666666666665, 1440], [2.6666666666666665, 2377], [2.6666666666666665, 3045], [2.6666666666666665, 3276], [2.6666666666666665, 3514], [2.6666666666666665, 3743], [2.6666666666666665, 3937], [2.662721893491124, 1690], [2.6607142857142856, 2316], [2.66025641025641, 1371], [2.659090909090909, 2752], [2.6578947368421053, 3873], [2.656862745098039, 2378], [2.65625, 886], [2.65625, 2551], [2.6555555555555554, 520], [2.6538461538461537, 569], [2.6535433070866143, 185], [2.6530612244897958, 157], [2.6530612244897958, 330], [2.6530612244897958, 2060], [2.652173913043478, 203], [2.652173913043478, 2017], [2.6511627906976742, 479], [2.6507936507936507, 2374], [2.65, 2787], [2.6486486486486487, 1342], [2.6486486486486487, 1367], [2.6470588235294117, 1550], [2.6458333333333335, 784], [2.6451612903225805, 358], [2.642857142857143, 23], [2.642857142857143, 2741], [2.642857142857143, 3491], [2.642857142857143, 3509], [2.641025641025641, 44], [2.641025641025641, 2146], [2.64, 1646], [2.638888888888889, 2829], [2.638888888888889, 3557], [2.6382978723404253, 2533], [2.6372549019607843, 370], [2.6363636363636362, 55], [2.6363636363636362, 464], [2.6363636363636362, 2084], [2.6344086021505375, 3156], [2.6341463414634148, 1128], [2.6333333333333333, 1003], [2.6327433628318584, 788], [2.6285714285714286, 2375], [2.6283185840707963, 379], [2.6283185840707963, 2657], [2.627906976744186, 2154], [2.6266666666666665, 879], [2.6261682242990654, 585], [2.625730994152047, 2369], [2.625, 1647], [2.625, 2667], [2.625, 3428], [2.619047619047619, 426], [2.6180904522613067, 1320], [2.6176470588235294, 378], [2.6176470588235294, 2629], [2.6176470588235294, 3672], [2.6153846153846154, 2040], [2.6153846153846154, 3355], [2.6153846153846154, 3714], [2.6142857142857143, 466], [2.6118721461187215, 1377], [2.611111111111111, 2093], [2.611111111111111, 2372], [2.6106194690265485, 2805], [2.6097560975609757, 512], [2.6097560975609757, 1064], [2.608695652173913, 2615], [2.606837606837607, 2126], [2.606060606060606, 63], [2.6052631578947367, 2072], [2.6052631578947367, 2877], [2.6025641025641026, 2334], [2.6, 761], [2.6, 1896], [2.6, 1911], [2.6, 2781], [2.6, 2796], [2.6, 3115], [2.5961538461538463, 798], [2.59375, 387], [2.59375, 1894], [2.5921052631578947, 366], [2.591549295774648, 2961], [2.5903614457831323, 1379], [2.588235294117647, 8], [2.588235294117647, 1642], [2.588235294117647, 1658], [2.588235294117647, 2260], [2.5876288659793816, 2794], [2.5875, 1327], [2.5869565217391304, 195], [2.5866666666666664, 1488], [2.5833333333333335, 1346], [2.5822784810126582, 2247], [2.582089552238806, 830], [2.58, 407], [2.58, 2806], [2.5789473684210527, 1352], [2.5789473684210527, 2014], [2.5789473684210527, 3590], [2.5784313725490198, 2410], [2.576923076923077, 1629], [2.5762711864406778, 42], [2.5757575757575757, 459], [2.5757575757575757, 2428], [2.574468085106383, 1616], [2.5714285714285716, 54], [2.5714285714285716, 1881], [2.5714285714285716, 3146], [2.5714285714285716, 3577], [2.5692307692307694, 2188], [2.5675675675675675, 3324], [2.5660377358490565, 186], [2.5625, 2387], [2.5625, 2735], [2.56, 3627], [2.56, 3688], [2.559322033898305, 1783], [2.557142857142857, 3208], [2.557142857142857, 3489], [2.556603773584906, 1100], [2.5555555555555554, 1043], [2.5555555555555554, 2082], [2.5555555555555554, 3697], [2.5535714285714284, 2107], [2.5526315789473686, 248], [2.5517241379310347, 1598], [2.5517241379310347, 2151], [2.55, 2269], [2.5476190476190474, 2123], [2.5458333333333334, 1391], [2.5454545454545454, 343], [2.5454545454545454, 565], [2.5454545454545454, 1498], [2.5454545454545454, 2646], [2.5454545454545454, 2653], [2.5454545454545454, 3626], [2.544642857142857, 410], [2.542372881355932, 273], [2.5416666666666665, 725], [2.5416666666666665, 2597], [2.5405405405405403, 3918], [2.54, 1007], [2.54, 2524], [2.54, 3825], [2.5384615384615383, 3177], [2.5365853658536586, 76], [2.5357142857142856, 158], [2.535211267605634, 1762], [2.535211267605634, 2279], [2.533333333333333, 536], [2.533333333333333, 575], [2.53125, 2389], [2.5301204819277108, 1438], [2.5294117647058822, 609], [2.5294117647058822, 1167], [2.5294117647058822, 1887], [2.5294117647058822, 2007], [2.5294117647058822, 3834], [2.5277777777777777, 2505], [2.526315789473684, 433], [2.526315789473684, 1523], [2.5245901639344264, 204], [2.5217391304347827, 122], [2.52, 2402], [2.5185185185185186, 3273], [2.517857142857143, 276], [2.5167785234899327, 3257], [2.5161290322580645, 547], [2.5142857142857142, 1999], [2.5135135135135136, 1483], [2.5081967213114753, 996], [2.507936507936508, 1431], [2.5072463768115942, 196], [2.5072463768115942, 2793], [2.5, 209], [2.5, 436], [2.5, 467], [2.5, 674], [2.5, 1054], [2.5, 1726], [2.5, 2098], [2.5, 2491], [2.5, 2589], [2.5, 2637], [2.5, 3014], [2.5, 3511], [2.5, 3553], [2.494949494949495, 3254], [2.4935064935064934, 2530], [2.490566037735849, 3835], [2.489795918367347, 3693], [2.486842105263158, 3841], [2.4864864864864864, 267], [2.4864864864864864, 2717], [2.4857142857142858, 558], [2.484848484848485, 1382], [2.4827586206896552, 2354], [2.4814814814814814, 2327], [2.4814814814814814, 2606], [2.480769230769231, 438], [2.48, 818], [2.48, 1667], [2.4761904761904763, 2862], [2.473684210526316, 2259], [2.4731182795698925, 1091], [2.4727272727272727, 504], [2.4714285714285715, 2322], [2.4705882352941178, 1432], [2.4693877551020407, 3285], [2.46875, 2241], [2.46875, 3889], [2.4680851063829787, 2052], [2.466666666666667, 61], [2.466666666666667, 325], [2.466666666666667, 2328], [2.4657534246575343, 3316], [2.4642857142857144, 3758], [2.4615384615384617, 313], [2.4615384615384617, 499], [2.4594594594594597, 2027], [2.459016393442623, 1665], [2.459016393442623, 2034], [2.4583333333333335, 842], [2.457943925233645, 19], [2.4571428571428573, 227], [2.4571428571428573, 3063], [2.4571428571428573, 3864], [2.4545454545454546, 742], [2.4545454545454546, 992], [2.4545454545454546, 1331], [2.4523809523809526, 2429], [2.45, 1332], [2.45, 1744], [2.45, 2656], [2.4444444444444446, 2177], [2.4444444444444446, 2367], [2.442622950819672, 3821], [2.442105263157895, 2468], [2.441860465116279, 3660], [2.4411764705882355, 2170], [2.440944881889764, 1644], [2.4393939393939394, 3708], [2.4375, 870], [2.4347826086956523, 3013], [2.4285714285714284, 463], [2.4285714285714284, 533], [2.4285714285714284, 640], [2.4210526315789473, 152], [2.4193548387096775, 3584], [2.418918918918919, 1920], [2.4166666666666665, 135], [2.4166666666666665, 840], [2.4146341463414633, 2900], [2.413793103448276, 2042], [2.4123222748815167, 2054], [2.411764705882353, 1004], [2.411764705882353, 3459], [2.4098360655737703, 2121], [2.4074074074074074, 3837], [2.406779661016949, 3764], [2.4054054054054053, 2504], [2.4, 447], [2.4, 1605], [2.4, 1677], [2.4, 2190], [2.4, 2445], [2.4, 2492], [2.4, 2497], [2.4, 3165], [2.4, 3913], [2.397727272727273, 3258], [2.392857142857143, 3017], [2.392857142857143, 3354], [2.391304347826087, 697], [2.3902439024390243, 891], [2.3846153846153846, 765], [2.3846153846153846, 2035], [2.3846153846153846, 3838], [2.380952380952381, 542], [2.380952380952381, 881], [2.380952380952381, 3725], [2.3783783783783785, 2815], [2.3777777777777778, 485], [2.375, 2507], [2.375, 3484], [2.372093023255814, 177], [2.3703703703703702, 92], [2.369565217391304, 2574], [2.3684210526315788, 487], [2.3684210526315788, 882], [2.3684210526315788, 1601], [2.3684210526315788, 1604], [2.3684210526315788, 2458], [2.3666666666666667, 445], [2.365079365079365, 2531], [2.3636363636363638, 1460], [2.3636363636363638, 2147], [2.3636363636363638, 2417], [2.3636363636363638, 2479], [2.3636363636363638, 2884], [2.3617021276595747, 3387], [2.361111111111111, 2851], [2.358974358974359, 1970], [2.357142857142857, 9], [2.357142857142857, 1359], [2.357142857142857, 1609], [2.357142857142857, 2255], [2.357142857142857, 3395], [2.3555555555555556, 153], [2.3541666666666665, 332], [2.3529411764705883, 3423], [2.352112676056338, 1037], [2.35, 1461], [2.35, 3004], [2.347826086956522, 3895], [2.3443708609271523, 208], [2.3333333333333335, 256], [2.3333333333333335, 544], [2.3333333333333335, 1581], [2.3333333333333335, 1624], [2.3333333333333335, 2477], [2.3333333333333335, 2898], [2.3333333333333335, 3431], [2.3333333333333335, 3579], [2.3300970873786406, 2088], [2.324324324324324, 2385], [2.324324324324324, 2421], [2.323741007194245, 3113], [2.3225806451612905, 2451], [2.3220338983050848, 20], [2.32, 2500], [2.3194444444444446, 1991], [2.3191489361702127, 1983], [2.3181818181818183, 505], [2.3181818181818183, 2373], [2.3181818181818183, 2835], [2.317073170731707, 3325], [2.3125, 637], [2.3125, 3833], [2.3125, 3839], [2.3125, 3857], [2.310344827586207, 3453], [2.3076923076923075, 432], [2.3076923076923075, 1515], [2.305084745762712, 1021], [2.3043478260869565, 2471], [2.3043478260869565, 3901], [2.3013698630136985, 3388], [2.3, 79], [2.3, 1011], [2.3, 1752], [2.2982456140350878, 836], [2.2954545454545454, 1388], [2.294736842105263, 2411], [2.2941176470588234, 486], [2.2941176470588234, 1771], [2.2941176470588234, 2315], [2.2937062937062938, 2616], [2.2916666666666665, 64], [2.2890625, 1373], [2.2888888888888888, 4], [2.2884615384615383, 2004], [2.2857142857142856, 612], [2.2857142857142856, 1454], [2.2857142857142856, 2399], [2.2857142857142856, 3180], [2.2839506172839505, 2532], [2.28125, 809], [2.28, 3923], [2.272727272727273, 240], [2.272727272727273, 1526], [2.272727272727273, 1924], [2.272727272727273, 2638], [2.2711864406779663, 1779], [2.2710280373831777, 1591], [2.269230769230769, 415], [2.2666666666666666, 1837], [2.263157894736842, 3840], [2.262295081967213, 3438], [2.260869565217391, 259], [2.260869565217391, 3600], [2.26, 3394], [2.2595419847328246, 2713], [2.257142857142857, 1985], [2.25531914893617, 427], [2.2549019607843137, 2163], [2.25, 132], [2.25, 1839], [2.25, 2026], [2.25, 2169], [2.25, 2266], [2.25, 3620], [2.25, 3674], [2.2457627118644066, 673], [2.2413793103448274, 3709], [2.24, 2264], [2.238095238095238, 2856], [2.2325581395348837, 694], [2.2325581395348837, 3500], [2.230769230769231, 413], [2.230769230769231, 455], [2.230769230769231, 2016], [2.23, 2253], [2.2288135593220337, 1590], [2.227272727272727, 414], [2.2142857142857144, 813], [2.212121212121212, 1681], [2.212121212121212, 2460], [2.210526315789474, 528], [2.210526315789474, 3385], [2.2083333333333335, 1702], [2.2061855670103094, 3705], [2.204081632653061, 2907], [2.2, 275], [2.2, 430], [2.2, 473], [2.2, 518], [2.2, 2041], [2.2, 2446], [2.2, 2535], [2.2, 3754], [2.1984126984126986, 2719], [2.1971830985915495, 3802], [2.19672131147541, 3248], [2.1964285714285716, 2392], [2.1951219512195124, 3243], [2.1923076923076925, 1855], [2.1911764705882355, 2122], [2.1904761904761907, 3715], [2.189189189189189, 782], [2.188888888888889, 2995], [2.1881188118811883, 420], [2.1875, 1640], [2.1842105263157894, 2119], [2.1839080459770117, 2808], [2.183673469387755, 3646], [2.1818181818181817, 2876], [2.1818181818181817, 3691], [2.1777777777777776, 1468], [2.176470588235294, 710], [2.1743119266055047, 172], [2.1707317073170733, 2365], [2.1666666666666665, 3696], [2.161290322580645, 258], [2.1607142857142856, 429], [2.159090909090909, 360], [2.1578947368421053, 2522], [2.1538461538461537, 1995], [2.1538461538461537, 2652], [2.152, 1882], [2.1515151515151514, 312], [2.1470588235294117, 2364], [2.144578313253012, 3826], [2.1444444444444444, 2953], [2.142857142857143, 639], [2.142857142857143, 2306], [2.1363636363636362, 2408], [2.1363636363636362, 3946], [2.1341463414634148, 2404], [2.1333333333333333, 510], [2.128205128205128, 548], [2.1272727272727274, 2473], [2.12, 489], [2.12, 833], [2.1184210526315788, 2950], [2.1176470588235294, 2091], [2.1176470588235294, 3286], [2.116279069767442, 315], [2.1153846153846154, 424], [2.1136363636363638, 1975], [2.111111111111111, 2790], [2.111111111111111, 3130], [2.1013513513513513, 1831], [2.1012658227848102, 2827], [2.1, 437], [2.1, 3804], [2.098360655737705, 2379], [2.097560975609756, 419], [2.096296296296296, 435], [2.0943396226415096, 2448], [2.090909090909091, 829], [2.090909090909091, 2523], [2.090909090909091, 3299], [2.085714285714286, 1453], [2.085714285714286, 2149], [2.0854700854700856, 849], [2.0833333333333335, 2307], [2.0833333333333335, 3616], [2.08, 3048], [2.076923076923077, 87], [2.076923076923077, 179], [2.0714285714285716, 631], [2.0714285714285716, 743], [2.0714285714285716, 3064], [2.0697674418604652, 12], [2.0697674418604652, 839], [2.0697674418604652, 3766], [2.066666666666667, 1005], [2.066666666666667, 1417], [2.066666666666667, 1439], [2.066666666666667, 1602], [2.066666666666667, 1869], [2.066666666666667, 2526], [2.0655737704918034, 2906], [2.064935064935065, 355], [2.0632911392405062, 2668], [2.0625, 2882], [2.0588235294117645, 711], [2.057142857142857, 1971], [2.054054054054054, 606], [2.0526315789473686, 160], [2.0526315789473686, 444], [2.0492957746478875, 173], [2.048780487804878, 540], [2.046875, 1772], [2.0454545454545454, 1499], [2.04, 1606], [2.0392156862745097, 2296], [2.0357142857142856, 1592], [2.032258064516129, 2092], [2.026666666666667, 1969], [2.0232558139534884, 234], [2.0166666666666666, 1973], [2.0113636363636362, 2338], [2.0, 191], [2.0, 193], [2.0, 217], [2.0, 416], [2.0, 692], [2.0, 1427], [2.0, 1503], [2.0, 2050], [2.0, 2051], [2.0, 2386], [2.0, 2525], [2.0, 2548], [2.0, 2552], [2.0, 2642], [2.0, 2751], [2.0, 3024], [2.0, 3669], [2.0, 3692], [2.0, 3716], [1.9883720930232558, 762], [1.9846153846153847, 611], [1.9795918367346939, 2902], [1.9795918367346939, 3710], [1.9777777777777779, 1474], [1.9763779527559056, 2986], [1.975, 1977], [1.9714285714285715, 2036], [1.96875, 1986], [1.965034965034965, 1562], [1.962962962962963, 1979], [1.9615384615384615, 2498], [1.96, 1987], [1.9534883720930232, 2549], [1.9473684210526316, 2461], [1.9444444444444444, 2614], [1.9411764705882353, 2786], [1.9375, 305], [1.9333333333333333, 2521], [1.9285714285714286, 174], [1.9259259259259258, 1984], [1.923913043478261, 327], [1.9230769230769231, 2733], [1.9166666666666667, 2044], [1.9166666666666667, 3919], [1.9142857142857144, 2748], [1.912280701754386, 374], [1.9107142857142858, 1972], [1.9090909090909092, 1655], [1.9090909090909092, 3442], [1.9074074074074074, 2568], [1.9047619047619047, 667], [1.903225806451613, 2828], [1.901639344262295, 688], [1.9, 867], [1.9, 2456], [1.8985507246376812, 3238], [1.894736842105263, 2974], [1.8936170212765957, 1760], [1.8928571428571428, 3391], [1.8888888888888888, 166], [1.8888888888888888, 291], [1.8888888888888888, 2965], [1.8888888888888888, 3340], [1.8857142857142857, 1623], [1.8846153846153846, 1445], [1.8823529411764706, 1750], [1.875, 1863], [1.8695652173913044, 1980], [1.8666666666666667, 564], [1.8636363636363635, 255], [1.8620689655172413, 3824], [1.8571428571428572, 15], [1.8571428571428572, 3401], [1.8541666666666667, 65], [1.853658536585366, 3689], [1.8529411764705883, 3690], [1.8470588235294119, 1126], [1.8404255319148937, 2053], [1.8354430379746836, 2422], [1.8333333333333333, 460], [1.8333333333333333, 888], [1.8333333333333333, 1336], [1.8333333333333333, 1525], [1.8333333333333333, 2514], [1.8253968253968254, 3439], [1.825, 2701], [1.8181818181818181, 2286], [1.8181818181818181, 3054], [1.8095238095238095, 1626], [1.8, 2979], [1.8, 3432], [1.7924528301886793, 2380], [1.7924528301886793, 2450], [1.7916666666666667, 3908], [1.7894736842105263, 71], [1.7857142857142858, 880], [1.7857142857142858, 1756], [1.7777777777777777, 93], [1.7738095238095237, 2720], [1.7692307692307692, 737], [1.7647058823529411, 3774], [1.763157894736842, 3564], [1.75, 747], [1.7407407407407407, 2113], [1.736842105263158, 3031], [1.7307692307692308, 1976], [1.7234042553191489, 3190], [1.7222222222222223, 1862], [1.7209302325581395, 1707], [1.7160493827160495, 2412], [1.7142857142857142, 1992], [1.7115384615384615, 502], [1.711340206185567, 1556], [1.7058823529411764, 2798], [1.7045454545454546, 2816], [1.7, 3820], [1.6944444444444444, 2162], [1.6923076923076923, 1497], [1.6875, 1731], [1.6666666666666667, 1389], [1.6666666666666667, 2868], [1.6666666666666667, 3662], [1.6666666666666667, 3694], [1.6603773584905661, 405], [1.6603773584905661, 3268], [1.65625, 2807], [1.6551724137931034, 1993], [1.6363636363636365, 1679], [1.6333333333333333, 3661], [1.6326530612244898, 2381], [1.6296296296296295, 1978], [1.625, 1988], [1.6226415094339623, 3877], [1.6206896551724137, 3799], [1.6111111111111112, 3392], [1.6022727272727273, 2643], [1.6, 3673], [1.5909090909090908, 3695], [1.5862068965517242, 2903], [1.5833333333333333, 220], [1.5833333333333333, 546], [1.5833333333333333, 2265], [1.5833333333333333, 3043], [1.5806451612903225, 169], [1.5806451612903225, 1996], [1.5769230769230769, 1381], [1.5692307692307692, 2153], [1.5625, 2655], [1.5555555555555556, 2515], [1.5517241379310345, 1998], [1.5517241379310345, 3593], [1.5483870967741935, 3572], [1.5333333333333334, 2555], [1.5272727272727273, 3440], [1.5263157894736843, 2462], [1.5263157894736843, 3393], [1.5217391304347827, 1981], [1.52, 126], [1.5151515151515151, 393], [1.5, 181], [1.5, 470], [1.5, 1599], [1.5, 2382], [1.5, 2465], [1.5, 2982], [1.5, 3433], [1.5, 3667], [1.5, 3767], [1.4782608695652173, 1595], [1.4761904761904763, 3042], [1.4680851063829787, 519], [1.4666666666666666, 810], [1.4545454545454546, 2878], [1.4545454545454546, 3390], [1.4545454545454546, 3663], [1.4444444444444444, 66], [1.4285714285714286, 2383], [1.4166666666666667, 3434], [1.411764705882353, 2152], [1.411764705882353, 3768], [1.4, 102], [1.4, 3041], [1.375, 2799], [1.3571428571428572, 1739], [1.3529411764705883, 1326], [1.35, 2368], [1.3333333333333333, 3664], [1.3333333333333333, 3945], [1.3142857142857143, 2817], [1.2941176470588236, 1495], [1.2727272727272727, 1325], [1.2727272727272727, 3665], [1.2666666666666666, 2818], [1.2, 1990], [1.2, 2516], [1.2, 3573], [1.1538461538461537, 1105], [1.0, 1322], [1.0, 1323]]\n"
     ]
    }
   ],
   "source": [
    "result_list.sort(key=lambda x: x[0], reverse=True)\n",
    "print(result_list)"
   ]
  },
  {
   "cell_type": "code",
   "execution_count": 33,
   "id": "02423ad5-10ee-4fe3-87c0-c69f45a9575e",
   "metadata": {},
   "outputs": [
    {
     "name": "stdout",
     "output_type": "stream",
     "text": [
      "Top 5 rated movie IDs: [1178, 50, 3470, 2019, 3091]\n"
     ]
    }
   ],
   "source": [
    "top_5_movies = []\n",
    "\n",
    "for val, movie_id in result_list[:5]:\n",
    "    top_5_movies.append(movie_id)\n",
    "\n",
    "print(\"Top 5 rated movie IDs:\", top_5_movies)"
   ]
  },
  {
   "cell_type": "code",
   "execution_count": 34,
   "id": "eff28976-22fa-4307-ad1a-420587841731",
   "metadata": {},
   "outputs": [],
   "source": [
    "movie_id_to_name = dict(zip(movies_df['MovieID'], movies_df['Title']))"
   ]
  },
  {
   "cell_type": "code",
   "execution_count": 35,
   "id": "a1ac4a4c-c630-4a0f-81e4-93977f1e5b94",
   "metadata": {},
   "outputs": [
    {
     "name": "stdout",
     "output_type": "stream",
     "text": [
      "For User ID: 47, recommended movies are: \n",
      "- Movie Name: Paths of Glory (1957)                   \n",
      "- Movie Name: Usual Suspects, The (1995)              \n",
      "- Movie Name: Dersu Uzala (1974)                      \n",
      "- Movie Name: Seven Samurai (The Magnificent Seven) (Shichinin no samurai) (1954)\n",
      "- Movie Name: Kagemusha (1980)                        \n"
     ]
    }
   ],
   "source": [
    "print(f\"For User ID: {target_user_id}, recommended movies are: \")\n",
    "for movie_id in top_5_movies:\n",
    "    movie_name = movie_id_to_name.get(movie_id, \"Unknown Movie\")\n",
    "    print(f\"- Movie Name: {movie_name.ljust(40)}\")"
   ]
  },
  {
   "cell_type": "code",
   "execution_count": 54,
   "id": "29a5c516",
   "metadata": {},
   "outputs": [
    {
     "name": "stdout",
     "output_type": "stream",
     "text": [
      "Enter User ID: 6042\n",
      "Enter the number of movies you want to rate: 4\n",
      "Enter movie name: Georgia (1995)\n",
      "Enter rating for Georgia (1995): 3\n",
      "Enter movie name: Shopping (1994)\n",
      "Enter rating for Shopping (1994): 2\n",
      "Enter movie name: Love & Human Remains (1993)\n",
      "Enter rating for Love & Human Remains (1993): 4\n",
      "Enter movie name: Species (1995)\n",
      "Enter rating for Species (1995): 2\n",
      "   UserID  MovieID  Rating\n",
      "0    6041       55     3.0\n",
      "1    6041       98     2.0\n",
      "2    6041      178     4.0\n",
      "3    6041      196     2.0\n"
     ]
    }
   ],
   "source": [
    "# Take user input for user ID\n",
    "user_id_new = int(input(\"Enter User ID: \"))\n",
    "\n",
    "# Take the number of movies as input\n",
    "num_movies = int(input(\"Enter the number of movies you want to rate: \"))\n",
    "\n",
    "# Create empty lists to store movie names and ratings\n",
    "movie_names = []\n",
    "ratings_new = []\n",
    "\n",
    "# Use a loop to take input for each movie\n",
    "for _ in range(num_movies):\n",
    "    movie_name = input(\"Enter movie name: \")\n",
    "    \n",
    "    # Check if the entered movie name is in the DataFrame\n",
    "    if movie_name in movies_df['Title'].values:\n",
    "        rating = float(input(f\"Enter rating for {movie_name}: \"))\n",
    "        movie_names.append(movie_name)\n",
    "        ratings_new.append(rating)\n",
    "    else:\n",
    "        print(f\"{movie_name} not found in the movie database. Please enter a valid movie name.\")\n",
    "\n",
    "# Create a DataFrame with user input\n",
    "user_input_data = {'UserID': [user_id] * len(movie_names),\n",
    "                   'MovieID': movies_df[movies_df['Title'].isin(movie_names)]['MovieID'].tolist(),\n",
    "                   'Rating': ratings_new}\n",
    "\n",
    "user_input_df = pd.DataFrame(user_input_data)\n",
    "\n",
    "# Display the resulting DataFrame\n",
    "print(user_input_df)"
   ]
  },
  {
   "cell_type": "code",
   "execution_count": 55,
   "id": "b31e6de4",
   "metadata": {},
   "outputs": [
    {
     "name": "stdout",
     "output_type": "stream",
     "text": [
      "   UserID  MovieID  Rating\n",
      "0    6041       55     3.0\n",
      "1    6041       98     2.0\n",
      "2    6041      178     4.0\n",
      "3    6041      196     2.0\n"
     ]
    }
   ],
   "source": [
    "print(user_input_df)"
   ]
  },
  {
   "cell_type": "code",
   "execution_count": 56,
   "id": "03df3fc1",
   "metadata": {},
   "outputs": [
    {
     "name": "stdout",
     "output_type": "stream",
     "text": [
      "[ 55  98 178 196]\n"
     ]
    }
   ],
   "source": [
    "movie_ids_array = user_input_df['MovieID'].values\n",
    "\n",
    "print(movie_ids_array)"
   ]
  },
  {
   "cell_type": "code",
   "execution_count": 57,
   "id": "0b0b151c",
   "metadata": {},
   "outputs": [
    {
     "name": "stdout",
     "output_type": "stream",
     "text": [
      "[2.0, 2.5, 2.5, 2.5, 4.0, 2.5, 2.5, 3.0, 2.5, 2.5, 2.0, 2.5, 2.5, 2.5, 2.0, 2.0, 2.5, 2.5]\n"
     ]
    }
   ],
   "source": [
    "genres_list = ['Action', 'Adventure', 'Animation', 'Children\\'s', 'Comedy', 'Crime', 'Documentary', 'Drama', 'Fantasy',\n",
    "          'Film-Noir', 'Horror', 'Musical', 'Mystery', 'Romance', 'Sci-Fi', 'Thriller', 'War', 'Western']\n",
    "\n",
    "# Merge new user ratings with movies data\n",
    "new_user_merged_df = pd.merge(user_input_df, movies_df, left_on='MovieID', right_on='MovieID')\n",
    "\n",
    "# Explode genres and create a pivot table for the new user\n",
    "new_user_genres_df = new_user_merged_df.assign(Genres=new_user_merged_df['Genres'].str.split('|')).explode('Genres').reset_index(drop=True)\n",
    "new_user_ratings_pivot = new_user_genres_df.pivot_table(values='Rating', index='UserID', columns='Genres', aggfunc='mean')\n",
    "\n",
    "# Fill NaN values with 0\n",
    "new_user_ratings_pivot = new_user_ratings_pivot.fillna(0)\n",
    "\n",
    "column_names_array = np.array(new_user_ratings_pivot.columns)\n",
    "\n",
    "# Create an empty list to store the values\n",
    "result_values = []\n",
    "\n",
    "# Iterate through genres_list\n",
    "for genre in genres_list:\n",
    "    # Check if the genre is present in column_names_array\n",
    "    if genre in column_names_array:\n",
    "        # If present, append the corresponding value from the DataFrame\n",
    "        result_values.append(new_user_ratings_pivot[genre].values[0])\n",
    "    else:\n",
    "        result_values.append(2.5)\n",
    "        \n",
    "# new_user_genere_matrix = np.array(result_values)\n",
    "# user_genre_matrix = ratings_array\n",
    "\n",
    "print(result_values)"
   ]
  },
  {
   "cell_type": "code",
   "execution_count": 58,
   "id": "097271c0",
   "metadata": {},
   "outputs": [],
   "source": [
    "ratings_array = np.vstack((ratings_array, result_values))"
   ]
  },
  {
   "cell_type": "code",
   "execution_count": null,
   "id": "bacd7790",
   "metadata": {},
   "outputs": [],
   "source": []
  },
  {
   "cell_type": "code",
   "execution_count": 59,
   "id": "e810ba57",
   "metadata": {},
   "outputs": [
    {
     "data": {
      "text/plain": [
       "(6042, 18)"
      ]
     },
     "execution_count": 59,
     "metadata": {},
     "output_type": "execute_result"
    }
   ],
   "source": [
    "ratings_array.shape"
   ]
  },
  {
   "cell_type": "code",
   "execution_count": 60,
   "id": "5146d2da",
   "metadata": {},
   "outputs": [
    {
     "name": "stdout",
     "output_type": "stream",
     "text": [
      "Shape of the resulting array: (6042, 10)\n",
      "[[ 1.84837455e+04 -1.78435090e+02 -3.49028278e+01 ...  2.43211142e+00\n",
      "   2.94317097e+01  7.32511495e+00]\n",
      " [ 1.67340446e+04  4.51567159e+01  9.69575314e+01 ... -1.79580552e+01\n",
      "   2.38674675e+01 -1.76755101e+00]\n",
      " [ 1.80765834e+04 -1.55770343e+02 -4.62601748e+01 ... -1.06608526e+01\n",
      "  -1.56695475e+01 -2.84465341e+01]\n",
      " ...\n",
      " [ 1.80059848e+04  1.15018193e+02 -6.69116513e+01 ...  9.25596734e+00\n",
      "  -4.79526199e+01  9.45915120e+00]\n",
      " [ 1.23896079e+04  1.86761155e+01  1.98357468e+01 ...  1.21200701e+01\n",
      "   1.05450603e+01 -7.47168181e+00]\n",
      " [ 1.24190554e+04  1.35406988e+01 -4.24829836e+01 ... -4.70759836e+00\n",
      "  -9.08650296e+00  8.49371547e+00]]\n"
     ]
    }
   ],
   "source": [
    "# Initialize a list to store the resulting 1x15 matrices for each row\n",
    "result_list = []\n",
    "\n",
    "next_ratings=ratings_array\n",
    "V1=VTK.T\n",
    "\n",
    "for row in ratings_array:\n",
    "    # Perform matrix multiplication: (1x18) * (18x10) * (10x10)\n",
    "    intermediate_result = np.dot(row, V1)\n",
    "    final_result = np.dot(intermediate_result, sigmak)\n",
    "    \n",
    "    # Append the resulting 1x10 matrix to the result list\n",
    "    result_list.append(final_result)\n",
    "\n",
    "result_array = np.array(result_list)\n",
    "\n",
    "print(\"Shape of the resulting array:\", result_array.shape)\n",
    "print(result_array)"
   ]
  },
  {
   "cell_type": "code",
   "execution_count": 61,
   "id": "95bc0ebd",
   "metadata": {},
   "outputs": [
    {
     "name": "stdout",
     "output_type": "stream",
     "text": [
      "Cluster labels: [4 0 4 ... 0 3 3]\n",
      "(6042,)\n"
     ]
    }
   ],
   "source": [
    "class KMeans:\n",
    "    def __init__(self, n_clusters=5, max_iter=300):\n",
    "        self.n_clusters = n_clusters\n",
    "        self.max_iter = max_iter\n",
    "\n",
    "    def fit(self, X):\n",
    "        self.centroids = X[np.random.choice(X.shape[0], self.n_clusters, replace=False)]\n",
    "        \n",
    "        for _ in range(self.max_iter):\n",
    "            labels = self._assign_labels(X)\n",
    "            new_centroids = self._update_centroids(X, labels)            \n",
    "            if np.allclose(self.centroids, new_centroids):\n",
    "                break            \n",
    "            self.centroids = new_centroids\n",
    "        \n",
    "        self.labels_ = self._assign_labels(X)\n",
    "    \n",
    "    def _assign_labels(self, X):\n",
    "        distances = np.sqrt(((X - self.centroids[:, np.newaxis])**2).sum(axis=2))\n",
    "        return np.argmin(distances, axis=0)\n",
    "    \n",
    "    def _update_centroids(self, X, labels):\n",
    "        new_centroids = np.zeros_like(self.centroids)\n",
    "        for i in range(self.n_clusters):\n",
    "            new_centroids[i] = np.mean(X[labels == i], axis=0)\n",
    "        return new_centroids\n",
    "\n",
    "    \n",
    "    \n",
    "kmeans = KMeans(n_clusters=5)\n",
    "\n",
    "kmeans.fit(result_array)\n",
    "\n",
    "cluster_labels=kmeans.labels_\n",
    "# Get cluster labels\n",
    "print(\"Cluster labels:\", cluster_labels)\n",
    "print(cluster_labels.shape)"
   ]
  },
  {
   "cell_type": "code",
   "execution_count": 62,
   "id": "fe2b06cb",
   "metadata": {},
   "outputs": [],
   "source": [
    "cluster_labels_with_index = [(index+1, cluster_id) for index, cluster_id in enumerate(cluster_labels)]"
   ]
  },
  {
   "cell_type": "code",
   "execution_count": 63,
   "id": "9229e7e0",
   "metadata": {},
   "outputs": [
    {
     "name": "stdout",
     "output_type": "stream",
     "text": [
      "6042\n"
     ]
    }
   ],
   "source": [
    "print(len(cluster_labels_with_index))"
   ]
  },
  {
   "cell_type": "code",
   "execution_count": 64,
   "id": "a8d1cbab",
   "metadata": {},
   "outputs": [],
   "source": [
    "movies_not_rated_by_user=[]\n",
    "movies_rated_by_user=[]\n",
    "ratings_by_user=[]\n",
    "people_in_same_cluster = []\n",
    "\n",
    "target_user_id = user_id_new\n",
    "\n",
    "for col in user_item_matrix.columns:\n",
    "    if col not in movie_ids_array:\n",
    "        movies_not_rated_by_user.append(col)\n",
    "\n",
    "# Identify users in the same cluster as the target user\n",
    "target_user_cluster = cluster_labels[target_user_id - 1]\n",
    "\n",
    "#Finding People in the same cluster as the target user\n",
    "for user_id, cluster in cluster_labels_with_index:\n",
    "    if cluster == target_user_cluster and user_id != target_user_id:\n",
    "        people_in_same_cluster.append(user_id)"
   ]
  },
  {
   "cell_type": "code",
   "execution_count": 67,
   "id": "57ec19f5",
   "metadata": {},
   "outputs": [],
   "source": [
    "# Compute recommendations for movies not rated by the target user\n",
    "result_list = []\n",
    "\n",
    "for movie in movies_not_rated_by_user:\n",
    "    s = 0\n",
    "    c = 0\n",
    "    for user in people_in_same_cluster:\n",
    "        if user<=6040 and user_item_matrix.loc[user,movie] > 0:\n",
    "            s += user_item_matrix.loc[user,movie]\n",
    "            c += 1\n",
    "    if c >= 10:\n",
    "        val = s / c\n",
    "        result_list.append([val,movie])"
   ]
  },
  {
   "cell_type": "code",
   "execution_count": 68,
   "id": "3b5d7c72",
   "metadata": {},
   "outputs": [
    {
     "name": "stdout",
     "output_type": "stream",
     "text": [
      "[[3.427350427350427, 1], [2.6153846153846154, 2], [2.3461538461538463, 3], [2.1176470588235294, 4], [2.2, 5], [3.35, 6], [2.6875, 7], [2.2, 8], [2.8484848484848486, 10], [3.0172413793103448, 11], [1.7894736842105263, 12], [1.75, 13], [2.8181818181818183, 14], [1.4761904761904763, 15], [3.25, 16], [3.388888888888889, 17], [2.8, 18], [1.8333333333333333, 19], [2.0, 20], [2.8191489361702127, 21], [2.4, 22], [2.0, 23], [2.2758620689655173, 24], [3.1627906976744184, 25], [3.0, 26], [3.4615384615384617, 28], [3.6666666666666665, 29], [2.25, 31], [3.4831460674157304, 32], [3.0210526315789474, 34], [3.2439024390243905, 36], [2.869047619047619, 39], [3.210526315789474, 41], [2.2758620689655173, 42], [2.8181818181818183, 43], [2.193548387096774, 44], [2.8857142857142857, 45], [2.7, 46], [3.596774193548387, 47], [2.1470588235294117, 48], [4.118421052631579, 50], [3.0, 52], [3.5714285714285716, 58], [2.2666666666666666, 60], [2.923076923076923, 62], [2.6666666666666665, 63], [1.8, 64], [1.736842105263158, 65], [1.3125, 66], [3.4444444444444446, 69], [2.36144578313253, 70], [1.2, 71], [3.0, 73], [1.9090909090909092, 74], [2.1052631578947367, 76], [2.142857142857143, 79], [2.0625, 81], [2.75, 85], [2.6, 86], [1.4666666666666666, 87], [2.5416666666666665, 88], [2.3181818181818183, 89], [1.6153846153846154, 92], [1.2727272727272727, 93], [3.2142857142857144, 94], [2.0, 95], [2.4, 100], [3.1666666666666665, 101], [3.121212121212121, 104], [2.642857142857143, 105], [2.1944444444444446, 107], [3.717391304347826, 110], [3.564516129032258, 111], [2.8863636363636362, 112], [2.217391304347826, 122], [3.4, 123], [2.9565217391304346, 125], [1.6666666666666667, 126], [1.8461538461538463, 132], [2.0526315789473686, 135], [2.0, 140], [2.836734693877551, 141], [3.0357142857142856, 144], [2.5128205128205128, 145], [3.142857142857143, 147], [3.152542372881356, 150], [2.902439024390244, 151], [2.6, 152], [1.971830985915493, 153], [1.9444444444444444, 157], [2.16, 158], [2.5714285714285716, 159], [1.5483870967741935, 160], [2.9555555555555557, 161], [3.3, 162], [2.673469387755102, 163], [3.0416666666666665, 164], [2.6307692307692307, 165], [2.0526315789473686, 168], [1.25, 169], [2.3846153846153846, 170], [1.8888888888888888, 172], [1.6666666666666667, 173], [1.5833333333333333, 174], [3.0, 175], [3.1538461538461537, 176], [1.625, 177], [3.1538461538461537, 180], [1.0909090909090908, 181], [1.9841269841269842, 185], [2.1923076923076925, 186], [2.5, 188], [1.75, 193], [3.2142857142857144, 194], [2.3333333333333335, 195], [2.673076923076923, 198], [2.2857142857142856, 203], [2.0588235294117645, 204], [2.3076923076923075, 207], [1.9830508474576272, 208], [2.8780487804878048, 216], [2.5714285714285716, 218], [3.235294117647059, 222], [3.7373737373737375, 223], [2.5384615384615383, 224], [2.761904761904762, 225], [2.1578947368421053, 227], [2.4444444444444446, 230], [2.590909090909091, 231], [3.5, 232], [3.3333333333333335, 233], [1.7222222222222223, 234], [3.4038461538461537, 235], [2.380952380952381, 236], [2.2666666666666666, 237], [1.9615384615384615, 239], [3.6774193548387095, 246], [3.413793103448276, 247], [1.7333333333333334, 248], [3.0, 249], [2.8529411764705883, 252], [2.966666666666667, 253], [1.7142857142857142, 256], [2.3333333333333335, 257], [1.5925925925925926, 258], [2.2857142857142856, 259], [3.748031496062992, 260], [2.4166666666666665, 261], [2.8181818181818183, 262], [3.5, 265], [2.6440677966101696, 266], [2.0, 267], [3.1578947368421053, 272], [2.107142857142857, 273], [2.12, 276], [2.8, 277], [2.9545454545454546, 280], [1.9411764705882353, 282], [2.816666666666667, 288], [2.8666666666666667, 289], [2.9, 290], [2.390625, 292], [3.425925925925926, 293], [4.042105263157895, 296], [3.3255813953488373, 300], [2.0, 303], [3.8823529411764706, 306], [4.0, 307], [3.5625, 308], [1.5, 312], [3.5833333333333335, 314], [1.8095238095238095, 315], [2.765432098765432, 316], [2.3076923076923075, 317], [4.161290322580645, 318], [3.4, 319], [3.380952380952381, 322], [1.7, 325], [1.6216216216216217, 327], [2.5, 328], [2.7058823529411766, 329], [1.8571428571428572, 330], [1.8, 332], [2.697674418604651, 333], [2.972972972972973, 337], [2.0434782608695654, 338], [2.977272727272727, 339], [3.1, 340], [2.962962962962963, 342], [2.638888888888889, 344], [3.0625, 345], [3.0, 348], [2.9315068493150687, 349], [2.6875, 350], [2.4285714285714284, 351], [2.2142857142857144, 352], [2.6875, 353], [1.7575757575757576, 355], [3.449612403100775, 356], [3.123076923076923, 357], [3.1666666666666665, 358], [1.5, 360], [2.526315789473684, 361], [2.375, 362], [2.869565217391304, 364], [2.1724137931034484, 366], [2.4831460674157304, 367], [2.7936507936507935, 368], [2.290909090909091, 370], [2.75, 371], [2.6052631578947367, 372], [3.142857142857143, 373], [1.5555555555555556, 374], [2.3333333333333335, 376], [2.8823529411764706, 377], [2.0, 378], [2.022222222222222, 379], [2.8958333333333335, 380], [2.357142857142857, 381], [2.3333333333333335, 382], [2.4761904761904763, 383], [2.8, 388], [1.6153846153846154, 393], [1.52, 405], [2.1578947368421053, 407], [2.2884615384615383, 410], [2.9444444444444446, 412], [2.111111111111111, 413], [2.0, 414], [1.7916666666666667, 415], [2.7, 417], [1.4444444444444444, 419], [1.9069767441860466, 420], [2.1818181818181817, 421], [2.64, 423], [2.730769230769231, 426], [2.2, 427], [3.142857142857143, 428], [1.85, 429], [2.9393939393939394, 431], [1.85, 432], [2.370967741935484, 434], [1.9090909090909092, 435], [1.9285714285714286, 436], [1.7, 438], [3.2903225806451615, 440], [3.382978723404255, 441], [2.269230769230769, 442], [2.3846153846153846, 445], [3.6363636363636362, 446], [2.5, 448], [2.5, 450], [2.7222222222222223, 454], [1.75, 455], [3.4895833333333335, 457], [2.0, 458], [2.0555555555555554, 459], [1.8064516129032258, 464], [2.823529411764706, 465], [2.0153846153846153, 466], [2.761904761904762, 468], [3.125, 471], [2.1, 472], [1.2777777777777777, 473], [3.3492063492063493, 474], [3.1818181818181817, 475], [2.8333333333333335, 477], [2.1052631578947367, 479], [3.051282051282051, 480], [3.0357142857142856, 481], [3.0625, 482], [1.7884615384615385, 485], [2.1666666666666665, 486], [1.8, 489], [2.590909090909091, 490], [2.44, 491], [3.3636363636363638, 492], [2.793103448275862, 493], [2.5555555555555554, 494], [3.606060606060606, 497], [2.5217391304347827, 500], [1.2692307692307692, 502], [2.3684210526315788, 504], [3.1, 506], [2.9285714285714284, 507], [3.1875, 508], [2.764705882352941, 509], [2.6, 511], [2.12, 512], [3.0357142857142856, 514], [3.375, 515], [2.0, 516], [2.4375, 517], [2.0, 518], [1.625, 519], [2.3846153846153846, 520], [2.642857142857143, 521], [2.8125, 522], [3.076923076923077, 524], [3.830357142857143, 527], [3.2954545454545454, 529], [2.588235294117647, 531], [2.225, 532], [2.1052631578947367, 533], [3.142857142857143, 534], [3.1818181818181817, 535], [1.6923076923076923, 537], [3.588235294117647, 538], [2.967741935483871, 539], [1.8095238095238095, 540], [3.7160493827160495, 541], [1.8095238095238095, 542], [2.4038461538461537, 543], [1.8823529411764706, 544], [1.462962962962963, 546], [1.7857142857142858, 547], [1.8333333333333333, 548], [2.235294117647059, 550], [3.0, 551], [2.617021276595745, 552], [2.7419354838709675, 553], [3.595744680851064, 555], [2.0833333333333335, 558], [3.088235294117647, 562], [2.142857142857143, 569], [2.769230769230769, 574], [1.9047619047619047, 575], [3.1, 581], [2.1538461538461537, 585], [2.357142857142857, 586], [2.5764705882352943, 587], [2.817204301075269, 588], [3.5144927536231885, 589], [3.0405405405405403, 590], [2.880952380952381, 592], [3.8512396694214877, 593], [2.488372093023256, 594], [2.819672131147541, 595], [2.4838709677419355, 596], [2.8615384615384616, 597], [3.0, 599], [2.5238095238095237, 605], [1.9090909090909092, 606], [3.67, 608], [2.85, 610], [1.7692307692307692, 611], [1.7, 612], [2.0, 616], [3.0, 627], [2.9696969696969697, 628], [1.3333333333333333, 631], [1.8421052631578947, 637], [2.7941176470588234, 647], [2.532608695652174, 648], [2.45, 653], [2.696969696969697, 661], [1.9090909090909092, 662], [3.0555555555555554, 663], [3.1379310344827585, 671], [2.0163934426229506, 673], [2.111111111111111, 674], [3.769230769230769, 678], [2.5, 680], [1.5862068965517242, 688], [2.5, 691], [1.2941176470588236, 692], [1.6470588235294117, 694], [2.25, 695], [2.6666666666666665, 700], [2.3333333333333335, 707], [2.607843137254902, 708], [1.8695652173913044, 709], [3.4285714285714284, 714], [1.8888888888888888, 719], [3.6666666666666665, 720], [2.6818181818181817, 724], [3.076923076923077, 728], [2.8105263157894735, 733], [2.4, 735], [2.3563218390804597, 736], [1.1904761904761905, 737], [3.75, 741], [1.9615384615384615, 742], [2.1, 743], [4.190476190476191, 745], [2.4358974358974357, 748], [3.8793103448275863, 750], [2.0, 761], [1.8529411764705883, 762], [2.08, 765], [3.6, 778], [2.690265486725664, 780], [2.4, 781], [1.95, 782], [2.269230769230769, 783], [2.0208333333333335, 784], [2.9295774647887325, 785], [2.1818181818181817, 786], [2.2954545454545454, 788], [1.8888888888888888, 798], [2.7027027027027026, 799], [3.033333333333333, 800], [2.2777777777777777, 801], [2.46875, 802], [2.1666666666666665, 804], [2.875, 805], [2.1333333333333333, 809], [1.1818181818181819, 810], [1.9130434782608696, 818], [1.7916666666666667, 829], [2.225806451612903, 830], [2.5576923076923075, 832], [1.9090909090909092, 833], [2.0, 836], [2.4761904761904763, 837], [3.3636363636363638, 838], [1.6, 839], [1.8823529411764706, 842], [2.090909090909091, 848], [1.690909090909091, 849], [3.2, 851], [2.660377358490566, 852], [4.064516129032258, 858], [2.3684210526315788, 861], [3.261904761904762, 866], [2.3846153846153846, 879], [1.6046511627906976, 880], [1.6428571428571428, 881], [2.4, 886], [2.0625, 891], [3.28, 898], [3.896551724137931, 899], [3.1052631578947367, 900], [3.2325581395348837, 902], [3.5128205128205128, 903], [3.7857142857142856, 904], [3.4615384615384617, 905], [2.9285714285714284, 906], [3.7719298245614037, 908], [2.8666666666666667, 909], [3.638888888888889, 910], [3.076923076923077, 911], [3.513157894736842, 912], [3.6666666666666665, 913], [3.185185185185185, 914], [3.411764705882353, 915], [3.25, 916], [2.909090909090909, 918], [3.1153846153846154, 919], [3.0, 920], [3.0, 921], [4.173913043478261, 922], [4.138888888888889, 923], [3.525, 924], [3.176470588235294, 926], [3.2, 928], [3.619047619047619, 930], [3.125, 931], [2.8181818181818183, 932], [3.0, 933], [2.6842105263157894, 934], [2.3, 938], [2.7, 940], [3.7222222222222223, 942], [3.4615384615384617, 945], [2.357142857142857, 946], [2.8, 947], [3.357142857142857, 950], [3.611111111111111, 951], [2.5714285714285716, 952], [3.361111111111111, 953], [3.6666666666666665, 954], [3.3043478260869565, 955], [3.1538461538461537, 965], [3.0384615384615383, 968], [3.193548387096774, 969], [3.1666666666666665, 971], [2.45, 986], [1.6666666666666667, 990], [3.0714285714285716, 991], [3.5789473684210527, 994], [2.1379310344827585, 996], [2.1818181818181817, 998], [3.0476190476190474, 999], [2.1176470588235294, 1003], [1.6923076923076923, 1004], [1.55, 1005], [2.210526315789474, 1007], [2.4444444444444446, 1009], [2.176470588235294, 1010], [2.347826086956522, 1012], [2.6, 1013], [2.25, 1014], [2.142857142857143, 1015], [2.357142857142857, 1016], [2.7222222222222223, 1017], [2.1666666666666665, 1018], [2.5, 1019], [2.475, 1020], [1.9090909090909092, 1021], [2.5365853658536586, 1022], [2.6363636363636362, 1023], [2.1666666666666665, 1024], [2.4347826086956523, 1025], [2.375, 1027], [2.913793103448276, 1028], [2.484848484848485, 1029], [1.875, 1030], [2.56, 1031], [2.473684210526316, 1032], [2.24, 1033], [3.2142857142857144, 1034], [3.022222222222222, 1035], [3.4133333333333336, 1036], [2.0307692307692307, 1037], [3.8421052631578947, 1041], [2.4285714285714284, 1042], [2.473684210526316, 1047], [2.6842105263157894, 1049], [3.4615384615384617, 1050], [3.0, 1051], [2.8076923076923075, 1057], [2.5454545454545454, 1059], [3.2666666666666666, 1060], [2.676470588235294, 1061], [2.0, 1064], [3.6, 1066], [3.0, 1069], [3.1549295774647885, 1073], [3.2777777777777777, 1077], [3.16, 1078], [3.1403508771929824, 1079], [3.4545454545454546, 1080], [2.4761904761904763, 1081], [3.4, 1082], [3.6, 1083], [3.7142857142857144, 1084], [3.25, 1086], [2.2162162162162162, 1088], [3.676470588235294, 1089], [3.466666666666667, 1090], [2.064516129032258, 1091], [2.6538461538461537, 1092], [2.9310344827586206, 1093], [3.2033898305084745, 1094], [3.5, 1095], [3.238095238095238, 1096], [2.9316239316239314, 1097], [2.9285714285714284, 1099], [1.7954545454545454, 1100], [2.694915254237288, 1101], [2.9, 1103], [3.4444444444444446, 1104], [3.054054054054054, 1120], [2.619047619047619, 1124], [2.761904761904762, 1125], [1.6, 1126], [3.2, 1127], [2.4285714285714284, 1128], [2.892857142857143, 1129], [2.764705882352941, 1130], [3.5, 1132], [2.225806451612903, 1135], [3.78125, 1136], [3.7857142857142856, 1147], [3.9722222222222223, 1148], [3.3076923076923075, 1171], [3.75, 1172], [3.0, 1173], [3.0625, 1175], [3.8181818181818183, 1176], [3.2, 1178], [3.3142857142857145, 1179], [2.796875, 1183], [3.238095238095238, 1185], [2.888888888888889, 1186], [2.8181818181818183, 1187], [3.3513513513513513, 1188], [3.5714285714285716, 1189], [3.1, 1190], [2.1, 1191], [3.882978723404255, 1193], [3.1875, 1194], [3.5923076923076924, 1196], [3.618556701030928, 1197], [3.8846153846153846, 1198], [3.9761904761904763, 1199], [3.5824175824175826, 1200], [3.289473684210526, 1201], [3.0833333333333335, 1203], [3.272727272727273, 1204], [2.130434782608696, 1205], [3.7358490566037736, 1206], [3.590909090909091, 1207], [3.4655172413793105, 1208], [3.0, 1209], [3.139705882352941, 1210], [3.5, 1211], [3.75, 1212], [3.863013698630137, 1213], [3.4193548387096775, 1214], [2.9846153846153847, 1215], [3.2, 1217], [3.466666666666667, 1218], [3.7758620689655173, 1219], [2.966666666666667, 1220], [3.871794871794872, 1221], [3.7384615384615385, 1222], [4.071428571428571, 1223], [3.3181818181818183, 1224], [3.6153846153846154, 1225], [3.0, 1227], [3.774193548387097, 1228], [3.425925925925926, 1230], [3.1379310344827585, 1231], [3.4615384615384617, 1233], [3.675, 1234], [3.263157894736842, 1235], [3.4705882352941178, 1237], [3.0, 1238], [3.6041666666666665, 1240], [3.7037037037037037, 1242], [3.55, 1243], [3.9166666666666665, 1244], [3.5238095238095237, 1245], [3.391304347826087, 1246], [3.64, 1247], [3.3076923076923075, 1248], [3.525, 1249], [3.4318181818181817, 1250], [3.6153846153846154, 1251], [3.82, 1252], [3.032258064516129, 1253], [3.263157894736842, 1254], [3.2, 1256], [3.2857142857142856, 1257], [3.7049180327868854, 1258], [3.4642857142857144, 1259], [3.9473684210526314, 1260], [2.871794871794872, 1261], [3.8285714285714287, 1262], [3.3333333333333335, 1263], [3.1666666666666665, 1264], [3.482142857142857, 1265], [3.404255319148936, 1266], [3.6666666666666665, 1267], [2.4285714285714284, 1268], [3.41025641025641, 1269], [3.2333333333333334, 1270], [2.9166666666666665, 1271], [3.4285714285714284, 1272], [3.6363636363636362, 1273], [3.4827586206896552, 1274], [3.108108108108108, 1275], [3.3902439024390243, 1276], [3.2, 1277], [3.3636363636363638, 1278], [3.3636363636363638, 1279], [3.2, 1281], [2.96, 1282], [2.888888888888889, 1283], [3.857142857142857, 1284], [3.282051282051282, 1285], [2.533333333333333, 1286], [3.085714285714286, 1287], [3.4651162790697674, 1288], [2.8333333333333335, 1289], [2.5454545454545454, 1290], [3.486111111111111, 1291], [2.8636363636363638, 1292], [3.3636363636363638, 1293], [3.021276595744681, 1294], [3.125, 1295], [2.909090909090909, 1296], [2.9285714285714284, 1297], [2.96, 1298], [3.3157894736842106, 1299], [3.8666666666666667, 1300], [2.7142857142857144, 1301], [3.4, 1302], [3.411764705882353, 1304], [3.5714285714285716, 1305], [3.3384615384615386, 1307], [2.604651162790698, 1320], [3.0526315789473686, 1321], [2.7142857142857144, 1327], [2.3636363636363638, 1330], [2.1538461538461537, 1332], [3.076923076923077, 1333], [2.40625, 1334], [2.5686274509803924, 1339], [2.625, 1340], [2.25, 1342], [3.230769230769231, 1343], [3.2, 1344], [3.0285714285714285, 1345], [2.5, 1346], [2.588235294117647, 1347], [3.3125, 1348], [3.0689655172413794, 1350], [2.3333333333333335, 1352], [2.0, 1353], [3.066666666666667, 1354], [2.3, 1355], [2.95, 1356], [2.9615384615384617, 1357], [3.6, 1358], [1.84, 1359], [2.4, 1363], [2.6363636363636362, 1366], [2.2790697674418605, 1367], [2.759493670886076, 1370], [2.4081632653061225, 1371], [2.681159420289855, 1372], [2.019607843137255, 1373], [3.3142857142857145, 1374], [2.5344827586206895, 1375], [2.727272727272727, 1376], [2.1511627906976742, 1377], [2.693877551020408, 1378], [2.173076923076923, 1379], [2.7735849056603774, 1380], [1.36, 1381], [1.7857142857142858, 1382], [2.6666666666666665, 1385], [3.5789473684210527, 1387], [1.9705882352941178, 1388], [1.3333333333333333, 1389], [2.3, 1390], [2.1808510638297873, 1391], [2.909090909090909, 1392], [3.391304347826087, 1393], [3.381818181818182, 1394], [2.4, 1395], [3.0, 1396], [2.909090909090909, 1399], [2.5, 1401], [2.0, 1404], [2.6222222222222222, 1405], [3.0277777777777777, 1407], [3.4242424242424243, 1408], [2.0256410256410255, 1409], [3.4285714285714284, 1411], [3.0, 1414], [2.9166666666666665, 1416], [2.4242424242424243, 1422], [2.5833333333333335, 1425], [2.8947368421052633, 1429], [2.0555555555555554, 1431], [2.1142857142857143, 1438], [2.696969696969697, 1441], [1.5789473684210527, 1445], [3.5833333333333335, 1446], [3.9047619047619047, 1449], [1.6666666666666667, 1453], [2.5238095238095237, 1457], [2.607142857142857, 1459], [2.0, 1460], [2.0869565217391304, 1461], [2.888888888888889, 1464], [2.8333333333333335, 1465], [3.073170731707317, 1466], [2.05, 1468], [1.3043478260869565, 1474], [3.0, 1476], [2.2758620689655173, 1479], [2.55, 1480], [2.142857142857143, 1483], [2.86, 1485], [1.8571428571428572, 1487], [2.0294117647058822, 1488], [1.6, 1489], [1.1538461538461537, 1497], [1.5, 1499], [3.2698412698412698, 1500], [1.8076923076923077, 1503], [2.208955223880597, 1513], [1.95, 1515], [3.0121951219512195, 1517], [2.6666666666666665, 1518], [1.8333333333333333, 1526], [3.051546391752577, 1527], [3.411764705882353, 1537], [2.357142857142857, 1541], [2.7333333333333334, 1542], [2.256880733944954, 1544], [1.6, 1550], [2.5342465753424657, 1552], [1.346938775510204, 1556], [1.5576923076923077, 1562], [2.2093023255813953, 1566], [2.8620689655172415, 1569], [2.66, 1573], [3.0472972972972974, 1580], [2.3, 1582], [3.034090909090909, 1584], [2.280701754385965, 1586], [2.5405405405405403, 1587], [2.4827586206896552, 1588], [2.72972972972973, 1589], [1.9285714285714286, 1590], [1.830188679245283, 1591], [2.0, 1592], [2.0625, 1593], [3.25, 1594], [2.5, 1597], [2.0714285714285716, 1598], [1.0, 1599], [2.0833333333333335, 1601], [2.0833333333333335, 1603], [2.0, 1604], [1.4444444444444444, 1606], [2.8309859154929575, 1608], [3.1797752808988764, 1610], [3.0526315789473686, 1611], [2.5128205128205128, 1614], [2.7222222222222223, 1615], [2.342857142857143, 1616], [3.4583333333333335, 1617], [2.6333333333333333, 1619], [2.3513513513513513, 1620], [2.5, 1621], [1.8333333333333333, 1623], [3.6065573770491803, 1625], [1.9230769230769231, 1626], [2.5, 1627], [2.6666666666666665, 1633], [3.375, 1635], [3.3962264150943398, 1639], [2.1, 1640], [3.253731343283582, 1641], [2.727272727272727, 1643], [2.0357142857142856, 1644], [2.6885245901639343, 1645], [2.090909090909091, 1647], [3.1176470588235294, 1648], [2.9, 1649], [3.027027027027027, 1653], [1.75, 1655], [2.727272727272727, 1658], [3.1, 1660], [3.0, 1663], [2.263157894736842, 1665], [2.0714285714285716, 1667], [3.074074074074074, 1672], [3.1216216216216215, 1673], [3.163265306122449, 1674], [2.2976190476190474, 1676], [3.2903225806451615, 1678], [3.391304347826087, 1680], [1.5625, 1681], [3.3230769230769233, 1682], [3.1538461538461537, 1683], [2.0714285714285716, 1686], [2.5476190476190474, 1687], [2.55, 1688], [2.3214285714285716, 1689], [2.259259259259259, 1690], [2.9696969696969697, 1693], [2.88, 1694], [2.7, 1701], [1.8529411764705883, 1702], [3.5921052631578947, 1704], [1.5217391304347827, 1707], [2.5555555555555554, 1711], [2.3225806451612905, 1713], [2.4375, 1717], [3.611111111111111, 1719], [2.7676767676767677, 1721], [2.6615384615384614, 1722], [2.076923076923077, 1726], [2.3076923076923075, 1727], [2.981132075471698, 1729], [2.933333333333333, 1730], [3.2567567567567566, 1732], [2.4285714285714284, 1734], [2.7142857142857144, 1735], [1.1818181818181819, 1739], [1.5384615384615385, 1744], [2.3, 1746], [3.084507042253521, 1747], [3.135593220338983, 1748], [1.25, 1750], [1.76, 1752], [3.0, 1753], [2.6744186046511627, 1754], [1.2142857142857142, 1760], [1.9696969696969697, 1762], [2.3333333333333335, 1769], [1.9047619047619047, 1772], [2.972972972972973, 1777], [1.896551724137931, 1779], [1.9230769230769231, 1783], [3.310344827586207, 1784], [2.6956521739130435, 1785], [2.36734693877551, 1792], [2.642857142857143, 1794], [2.3333333333333335, 1799], [2.1714285714285713, 1801], [2.5384615384615383, 1804], [2.888888888888889, 1805], [2.0, 1806], [3.1904761904761907, 1810], [2.3333333333333335, 1816], [2.2857142857142856, 1821], [3.2, 1824], [1.5942028985507246, 1831], [2.3214285714285716, 1833], [3.2413793103448274, 1834], [2.388888888888889, 1835], [2.769230769230769, 1836], [3.210526315789474, 1840], [2.230769230769231, 1841], [2.7037037037037037, 1845], [1.9166666666666667, 1848], [1.6, 1855], [2.5625, 1858], [1.588235294117647, 1862], [1.4736842105263157, 1863], [2.5238095238095237, 1866], [1.5384615384615385, 1869], [3.2941176470588234, 1873], [3.6, 1875], [2.4074074074074074, 1876], [1.7457627118644068, 1882], [2.8541666666666665, 1883], [3.4444444444444446, 1884], [2.9705882352941178, 1885], [2.142857142857143, 1888], [2.6315789473684212, 1892], [2.135135135135135, 1894], [2.4, 1895], [3.0, 1897], [2.5, 1904], [2.742857142857143, 1907], [3.0140845070422535, 1909], [2.25, 1911], [3.2037037037037037, 1912], [2.888888888888889, 1914], [3.142857142857143, 1916], [2.404255319148936, 1917], [2.2857142857142856, 1918], [1.853658536585366, 1920], [3.5609756097560976, 1921], [3.2857142857142856, 1923], [2.238095238095238, 1924], [3.6153846153846154, 1927], [2.3, 1937], [2.7857142857142856, 1939], [2.8181818181818183, 1941], [2.8823529411764706, 1944], [3.3157894736842106, 1945], [3.054054054054054, 1947], [3.5454545454545454, 1949], [3.235294117647059, 1950], [2.6923076923076925, 1951], [3.5, 1952], [3.1025641025641026, 1953], [3.327272727272727, 1954], [2.9565217391304346, 1955], [3.3461538461538463, 1956], [3.033333333333333, 1957], [2.6486486486486487, 1958], [2.9375, 1959], [3.085714285714286, 1960], [3.278481012658228, 1961], [3.206896551724138, 1962], [3.25, 1963], [3.3076923076923075, 1964], [2.9, 1965], [3.25, 1966], [2.975, 1967], [3.2674418604651163, 1968], [2.0, 1969], [2.3793103448275863, 1970], [2.125, 1971], [1.8214285714285714, 1972], [1.903225806451613, 1973], [2.4705882352941178, 1974], [2.1176470588235294, 1975], [2.0, 1976], [2.0, 1977], [2.0, 1978], [2.2666666666666666, 1979], [1.9230769230769231, 1980], [1.7333333333333334, 1981], [3.3333333333333335, 1982], [2.5294117647058822, 1983], [1.6363636363636365, 1984], [1.9444444444444444, 1985], [1.9047619047619047, 1986], [2.25, 1991], [1.7647058823529411, 1992], [1.8461538461538463, 1993], [3.0555555555555554, 1994], [1.95, 1995], [1.4666666666666666, 1996], [3.608695652173913, 1997], [1.3076923076923077, 1998], [2.2, 1999], [3.0123456790123457, 2000], [2.557377049180328, 2001], [2.2816901408450705, 2002], [2.727272727272727, 2003], [1.8135593220338984, 2004], [2.7, 2005], [2.823529411764706, 2006], [2.7241379310344827, 2009], [3.05, 2010], [2.4935064935064934, 2011], [2.4130434782608696, 2012], [3.0, 2013], [2.375, 2014], [2.6551724137931036, 2015], [1.5, 2016], [2.3529411764705883, 2017], [2.3421052631578947, 2018], [3.75, 2019], [3.4642857142857144, 2020], [2.7636363636363637, 2021], [2.736842105263158, 2022], [2.6417910447761193, 2023], [2.4, 2024], [2.764705882352941, 2025], [2.3157894736842106, 2026], [1.55, 2027], [3.79136690647482, 2028], [2.4347826086956523, 2033], [1.9523809523809523, 2034], [1.4705882352941178, 2036], [2.066666666666667, 2038], [2.0, 2040], [2.2, 2041], [1.6071428571428572, 2042], [2.0, 2043], [2.6511627906976742, 2046], [2.3076923076923075, 2048], [1.4, 2050], [2.04, 2052], [1.510204081632653, 2053], [2.1153846153846154, 2054], [2.966666666666667, 2058], [2.12, 2059], [2.4, 2060], [3.515151515151515, 2064], [2.9130434782608696, 2065], [3.0, 2067], [3.5384615384615383, 2068], [3.230769230769231, 2070], [3.7333333333333334, 2071], [2.4166666666666665, 2072], [3.3846153846153846, 2076], [2.888888888888889, 2078], [2.7346938775510203, 2080], [2.6875, 2081], [1.9696969696969697, 2082], [3.0, 2083], [2.1818181818181817, 2084], [2.488372093023256, 2085], [2.4857142857142858, 2087], [1.8285714285714285, 2088], [1.8461538461538463, 2089], [2.227272727272727, 2090], [1.8823529411764706, 2091], [1.75, 2092], [1.875, 2093], [2.3934426229508197, 2094], [1.8, 2095], [2.3666666666666667, 2096], [2.875, 2097], [2.4375, 2099], [2.646153846153846, 2100], [2.5, 2102], [2.8333333333333335, 2105], [2.2, 2106], [2.269230769230769, 2107], [3.0392156862745097, 2108], [3.1666666666666665, 2109], [2.9047619047619047, 2110], [2.4, 2111], [2.727272727272727, 2112], [2.1818181818181817, 2113], [2.8421052631578947, 2114], [3.0392156862745097, 2115], [2.5185185185185186, 2116], [3.1666666666666665, 2117], [2.814814814814815, 2118], [1.6666666666666667, 2119], [2.1538461538461537, 2120], [2.0869565217391304, 2121], [2.1666666666666665, 2122], [1.72, 2123], [2.3870967741935485, 2124], [2.7857142857142856, 2125], [1.82, 2126], [3.0588235294117645, 2130], [2.75, 2132], [2.3636363636363638, 2133], [2.738095238095238, 2134], [2.2777777777777777, 2135], [2.409090909090909, 2136], [2.909090909090909, 2137], [3.0952380952380953, 2138], [3.0833333333333335, 2139], [3.046511627906977, 2140], [2.4545454545454546, 2141], [1.8, 2142], [2.2413793103448274, 2143], [2.9047619047619047, 2144], [2.422222222222222, 2145], [2.2916666666666665, 2146], [1.9473684210526316, 2147], [2.1904761904761907, 2148], [1.3125, 2149], [3.081081081081081, 2150], [1.5714285714285714, 2152], [1.4, 2153], [2.3529411764705883, 2155], [3.0, 2159], [3.35, 2160], [2.6041666666666665, 2161], [1.7222222222222223, 2162], [1.8235294117647058, 2163], [2.5625, 2166], [2.8358208955223883, 2167], [1.8125, 2169], [1.9411764705882353, 2170], [2.9411764705882355, 2171], [2.567901234567901, 2174], [3.3636363636363638, 2176], [3.1, 2182], [2.6363636363636362, 2183], [2.5714285714285716, 2184], [3.24, 2186], [2.1842105263157894, 2188], [2.6808510638297873, 2193], [3.4339622641509435, 2194], [2.8125, 2195], [2.588235294117647, 2202], [3.4285714285714284, 2203], [3.263157894736842, 2206], [3.5384615384615383, 2208], [2.909090909090909, 2212], [2.857142857142857, 2231], [3.0434782608695654, 2232], [2.8666666666666667, 2236], [2.3076923076923075, 2240], [2.0, 2241], [2.764705882352941, 2243], [2.6842105263157894, 2245], [1.8421052631578947, 2247], [3.230769230769231, 2248], [2.0454545454545454, 2249], [2.2, 2252], [1.5106382978723405, 2253], [1.8181818181818181, 2259], [2.2222222222222223, 2261], [2.1818181818181817, 2262], [2.6875, 2263], [2.0, 2264], [2.6470588235294117, 2266], [1.9090909090909092, 2267], [3.19672131147541, 2268], [2.3181818181818183, 2269], [2.74, 2273], [2.980769230769231, 2278], [2.0, 2279], [2.869565217391304, 2282], [2.35, 2287], [2.980392156862745, 2288], [3.6, 2289], [3.090909090909091, 2290], [2.977272727272727, 2291], [2.675, 2294], [2.125, 2296], [2.24, 2297], [3.259259259259259, 2300], [2.8, 2301], [2.857142857142857, 2302], [3.2857142857142856, 2303], [2.0, 2306], [3.3, 2310], [2.72972972972973, 2311], [2.9166666666666665, 2312], [3.4615384615384617, 2313], [2.176470588235294, 2315], [1.9411764705882353, 2316], [3.2758620689655173, 2318], [2.3157894736842106, 2320], [3.3380281690140845, 2321], [2.411764705882353, 2322], [3.7674418604651163, 2324], [2.5, 2325], [2.3125, 2327], [1.6875, 2328], [3.688888888888889, 2329], [2.5384615384615383, 2331], [3.2941176470588234, 2333], [2.5142857142857142, 2334], [2.38, 2335], [3.6923076923076925, 2336], [1.6585365853658536, 2338], [2.7142857142857144, 2340], [2.5, 2344], [2.4444444444444446, 2346], [3.2142857142857144, 2348], [3.0, 2352], [2.8194444444444446, 2353], [2.1818181818181817, 2354], [3.0642201834862384, 2355], [3.5428571428571427, 2359], [2.9166666666666665, 2361], [2.5454545454545454, 2363], [2.5454545454545454, 2364], [2.7169811320754715, 2366], [1.7407407407407407, 2367], [2.125, 2369], [2.7096774193548385, 2371], [2.1176470588235294, 2372], [1.8636363636363635, 2373], [2.0, 2374], [2.0625, 2375], [2.380952380952381, 2376], [2.1578947368421053, 2377], [2.185185185185185, 2378], [2.1538461538461537, 2379], [1.5714285714285714, 2380], [1.5833333333333333, 2381], [2.75, 2384], [1.8, 2385], [2.5, 2387], [1.71875, 2389], [3.25, 2390], [3.186046511627907, 2391], [1.3636363636363635, 2392], [2.546875, 2393], [2.658536585365854, 2394], [3.393258426966292, 2395], [3.4322033898305087, 2396], [3.1904761904761907, 2398], [2.2, 2399], [2.6, 2401], [2.057142857142857, 2402], [3.0357142857142856, 2403], [1.6896551724137931, 2404], [2.1136363636363638, 2405], [2.9558823529411766, 2406], [2.4745762711864407, 2407], [1.64, 2408], [2.3636363636363638, 2409], [2.0285714285714285, 2410], [2.0344827586206895, 2411], [1.5, 2412], [2.3823529411764706, 2413], [2.769230769230769, 2414], [2.6315789473684212, 2416], [2.1666666666666665, 2418], [2.4166666666666665, 2420], [1.794871794871795, 2421], [1.4166666666666667, 2422], [2.972972972972973, 2423], [2.5344827586206895, 2424], [2.875, 2427], [2.230769230769231, 2428], [2.0416666666666665, 2429], [2.0, 2430], [2.533333333333333, 2431], [2.5454545454545454, 2432], [2.9375, 2433], [3.2, 2439], [3.466666666666667, 2442], [3.1666666666666665, 2443], [1.9, 2446], [2.6785714285714284, 2447], [1.6333333333333333, 2448], [1.3243243243243243, 2450], [2.090909090909091, 2451], [2.5, 2453], [2.7222222222222223, 2454], [2.7945205479452055, 2455], [1.9090909090909092, 2456], [2.4545454545454546, 2457], [1.4, 2458], [2.6666666666666665, 2459], [1.3333333333333333, 2460], [2.8484848484848486, 2463], [2.9285714285714284, 2467], [2.096774193548387, 2468], [2.323529411764706, 2469], [2.5517241379310347, 2470], [1.7666666666666666, 2471], [1.8333333333333333, 2473], [2.7777777777777777, 2474], [2.8, 2475], [2.608695652173913, 2476], [2.2222222222222223, 2478], [2.2083333333333335, 2485], [2.9242424242424243, 2490], [2.1538461538461537, 2491], [2.411764705882353, 2492], [2.6, 2496], [2.0, 2497], [1.4375, 2498], [2.35, 2500], [3.24, 2501], [3.2131147540983607, 2502], [2.35, 2504], [2.392857142857143, 2505], [2.8, 2506], [2.3333333333333335, 2513], [1.7647058823529411, 2514], [2.25, 2517], [2.5833333333333335, 2518], [2.8, 2519], [2.388888888888889, 2524], [1.6842105263157894, 2525], [2.0, 2526], [2.4594594594594597, 2527], [2.7027027027027026, 2528], [2.75, 2529], [2.0, 2530], [1.875, 2531], [1.8888888888888888, 2532], [2.0, 2533], [2.619047619047619, 2539], [2.3181818181818183, 2540], [2.5925925925925926, 2541], [3.3255813953488373, 2542], [2.076923076923077, 2546], [1.8666666666666667, 2548], [1.5483870967741935, 2549], [2.6666666666666665, 2550], [2.7333333333333334, 2551], [2.4210526315789473, 2553], [2.473684210526316, 2554], [1.4782608695652173, 2555], [2.111111111111111, 2558], [2.8333333333333335, 2560], [1.9230769230769231, 2561], [2.7333333333333334, 2565], [2.730769230769231, 2567], [1.5151515151515151, 2568], [3.856060606060606, 2571], [2.842857142857143, 2572], [2.2857142857142856, 2574], [3.8333333333333335, 2575], [3.3333333333333335, 2580], [2.7818181818181817, 2581], [3.1333333333333333, 2583], [3.142857142857143, 2596], [2.152173913043478, 2598], [3.6526315789473682, 2599], [2.864864864864865, 2600], [2.2203389830508473, 2605], [2.375, 2606], [2.24, 2613], [1.894736842105263, 2615], [1.9107142857142858, 2616], [2.7439024390243905, 2617], [2.787878787878788, 2622], [3.5, 2624], [2.5952380952380953, 2628], [1.6666666666666667, 2629], [2.7777777777777777, 2633], [2.5833333333333335, 2634], [2.3, 2639], [2.6417910447761193, 2640], [2.3934426229508197, 2641], [1.4186046511627908, 2642], [1.40625, 2643], [2.85, 2644], [2.1538461538461537, 2645], [3.1724137931034484, 2648], [2.5, 2651], [3.1538461538461537, 2654], [2.5, 2657], [2.0, 2661], [2.7714285714285714, 2662], [2.9166666666666665, 2664], [1.8148148148148149, 2668], [2.923076923076923, 2671], [2.3846153846153846, 2672], [2.5384615384615383, 2676], [3.5454545454545454, 2677], [2.9495798319327733, 2683], [3.2051282051282053, 2686], [2.8076923076923075, 2687], [2.6, 2688], [3.0, 2690], [3.9591836734693877, 2692], [3.0, 2693], [2.7857142857142856, 2694], [2.3846153846153846, 2699], [3.247191011235955, 2700], [1.3555555555555556, 2701], [2.382978723404255, 2702], [3.206611570247934, 2706], [2.8333333333333335, 2707], [2.303030303030303, 2709], [2.796116504854369, 2710], [2.825, 2712], [2.022727272727273, 2713], [3.299145299145299, 2716], [2.2244897959183674, 2717], [2.347826086956522, 2718], [1.709090909090909, 2719], [1.6046511627906976, 2720], [2.3098591549295775, 2722], [2.3970588235294117, 2723], [2.46, 2724], [3.4615384615384617, 2726], [3.4347826086956523, 2728], [3.7142857142857144, 2729], [2.6666666666666665, 2730], [3.1818181818181817, 2731], [3.0, 2734], [2.21875, 2735], [2.8, 2736], [3.0952380952380953, 2739], [3.3333333333333335, 2745], [2.55, 2746], [2.310344827586207, 2747], [1.3846153846153846, 2748], [3.235294117647059, 2750], [2.125, 2752], [2.6470588235294117, 2759], [2.973684210526316, 2761], [3.992, 2762], [2.8902439024390243, 2763], [2.875, 2764], [2.635135135135135, 2770], [2.217391304347826, 2771], [2.586206896551724, 2772], [2.923076923076923, 2779], [2.388888888888889, 2787], [3.590909090909091, 2788], [2.533333333333333, 2789], [3.3444444444444446, 2791], [2.682926829268293, 2792], [2.096774193548387, 2793], [1.9230769230769231, 2794], [3.1875, 2795], [2.1578947368421053, 2796], [2.848101265822785, 2797], [1.3157894736842106, 2798], [1.3571428571428572, 2799], [2.3333333333333335, 2802], [2.2, 2803], [3.532258064516129, 2804], [2.3513513513513513, 2805], [2.142857142857143, 2806], [1.1764705882352942, 2807], [1.9545454545454546, 2808], [1.8846153846153846, 2815], [1.1818181818181819, 2816], [1.1666666666666667, 2817], [3.25, 2819], [2.388888888888889, 2822], [2.358974358974359, 2826], [1.6511627906976745, 2827], [1.5, 2828], [2.3076923076923075, 2829], [2.6363636363636362, 2836], [2.1627906976744184, 2840], [2.652173913043478, 2841], [2.5, 2844], [2.2, 2846], [2.0, 2851], [2.782608695652174, 2857], [3.9414634146341463, 2858], [3.7, 2859], [2.4705882352941178, 2860], [2.0, 2861], [3.090909090909091, 2863], [3.0, 2866], [2.75, 2867], [3.3076923076923075, 2870], [3.25, 2871], [2.838709677419355, 2872], [1.9411764705882353, 2875], [2.3076923076923075, 2877], [3.1818181818181817, 2879], [2.4347826086956523, 2881], [2.2857142857142856, 2882], [2.6923076923076925, 2883], [1.2, 2886], [2.2, 2888], [2.6666666666666665, 2889], [3.044776119402985, 2890], [2.8125, 2891], [2.1904761904761907, 2898], [2.5833333333333335, 2899], [2.176470588235294, 2900], [2.1818181818181817, 2901], [1.9523809523809523, 2902], [1.8928571428571428, 2906], [2.3529411764705883, 2907], [3.542372881355932, 2908], [3.361111111111111, 2912], [2.8536585365853657, 2915], [2.9482758620689653, 2916], [3.04, 2917], [3.5277777777777777, 2918], [3.0, 2919], [2.4615384615384617, 2921], [3.2857142857142856, 2924], [2.413793103448276, 2926], [2.6923076923076925, 2929], [2.8181818181818183, 2941], [2.1666666666666665, 2942], [3.138888888888889, 2944], [3.6666666666666665, 2946], [3.1025641025641026, 2947], [2.972972972972973, 2948], [3.08, 2949], [1.8, 2950], [3.16, 2951], [2.9285714285714284, 2952], [1.794871794871795, 2953], [2.3333333333333335, 2956], [3.6422018348623855, 2959], [2.391304347826087, 2961], [3.769230769230769, 2966], [2.9322033898305087, 2968], [2.8333333333333335, 2971], [3.588235294117647, 2973], [2.9166666666666665, 2975], [2.7142857142857144, 2976], [2.3636363636363638, 2978], [2.7794117647058822, 2985], [1.7049180327868851, 2986], [2.9375, 2987], [2.68, 2989], [2.2916666666666665, 2990], [2.736842105263158, 2991], [3.0, 2993], [1.736842105263158, 2995], [3.7, 2997], [3.8636363636363638, 3000], [1.96875, 3004], [2.7096774193548385, 3005], [3.6486486486486487, 3006], [3.2666666666666666, 3007], [2.5238095238095237, 3016], [2.85, 3018], [3.2777777777777777, 3019], [2.7555555555555555, 3020], [3.357142857142857, 3022], [1.6363636363636365, 3024], [2.6470588235294117, 3029], [3.6923076923076925, 3030], [2.3125, 3032], [2.5238095238095237, 3033], [2.3333333333333335, 3034], [2.789473684210526, 3035], [2.1, 3036], [3.3529411764705883, 3037], [3.0851063829787235, 3039], [2.391304347826087, 3040], [3.2580645161290325, 3044], [2.3, 3051], [3.289855072463768, 3052], [2.090909090909091, 3053], [1.3846153846153846, 3054], [2.9393939393939394, 3060], [3.130434782608696, 3062], [2.25, 3063], [2.8333333333333335, 3066], [3.25, 3067], [2.9444444444444446, 3068], [2.6578947368421053, 3070], [3.0, 3071], [2.978723404255319, 3072], [3.1, 3074], [2.8333333333333335, 3078], [3.0632911392405062, 3081], [2.4696969696969697, 3082], [3.6842105263157894, 3083], [2.764705882352941, 3087], [3.230769230769231, 3088], [3.75, 3089], [3.0833333333333335, 3091], [2.9310344827586206, 3095], [3.1875, 3098], [2.3846153846153846, 3099], [3.085714285714286, 3100], [2.8222222222222224, 3101], [2.933333333333333, 3102], [2.925, 3104], [3.0526315789473686, 3105], [2.703125, 3107], [3.175438596491228, 3108], [2.9, 3111], [1.9838709677419355, 3113], [3.3333333333333335, 3114], [2.8461538461538463, 3115], [2.4285714285714284, 3120], [3.3333333333333335, 3125], [3.5217391304347827, 3129], [3.9166666666666665, 3134], [2.7857142857142856, 3145], [2.375, 3146], [3.425, 3147], [3.5277777777777777, 3148], [3.533333333333333, 3152], [2.933333333333333, 3153], [2.4782608695652173, 3155], [2.081081081081081, 3156], [2.212121212121212, 3157], [3.2580645161290325, 3159], [3.506849315068493, 3160], [3.769230769230769, 3163], [1.9, 3165], [3.0454545454545454, 3168], [3.0, 3169], [2.659090909090909, 3173], [3.064935064935065, 3174], [3.0625, 3175], [3.032608695652174, 3176], [2.1666666666666665, 3177], [3.292682926829268, 3178], [3.107142857142857, 3179], [3.357142857142857, 3181], [2.9285714285714284, 3185], [2.9285714285714284, 3186], [3.238095238095238, 3189], [2.0, 3190], [2.933333333333333, 3194], [2.8666666666666667, 3196], [2.375, 3197], [3.3076923076923075, 3198], [3.272727272727273, 3200], [3.3333333333333335, 3201], [3.0, 3203], [2.130434782608696, 3208], [3.1951219512195124, 3210], [2.6842105263157894, 3213], [2.5357142857142856, 3219], [2.7058823529411766, 3225], [1.7894736842105263, 3238], [1.8823529411764706, 3243], [3.1785714285714284, 3246], [2.3333333333333335, 3247], [1.9696969696969697, 3248], [2.2666666666666666, 3249], [2.909090909090909, 3250], [2.3333333333333335, 3251], [3.138888888888889, 3252], [3.041095890410959, 3253], [2.0652173913043477, 3254], [3.1333333333333333, 3255], [3.0153846153846153, 3256], [1.9836065573770492, 3257], [2.0344827586206895, 3258], [2.566666666666667, 3259], [2.6666666666666665, 3260], [2.9411764705882355, 3261], [2.230769230769231, 3262], [2.6129032258064515, 3263], [2.3541666666666665, 3264], [3.3636363636363638, 3265], [3.2666666666666666, 3266], [3.1025641025641026, 3267], [1.391304347826087, 3268], [2.0588235294117645, 3269], [2.1538461538461537, 3270], [3.2580645161290325, 3271], [2.4, 3272], [2.1025641025641026, 3273], [2.0952380952380953, 3274], [2.2745098039215685, 3285], [2.0, 3286], [1.75, 3287], [3.0833333333333335, 3296], [2.9193548387096775, 3298], [1.6666666666666667, 3299], [2.709090909090909, 3300], [2.795918367346939, 3301], [3.3333333333333335, 3307], [2.3333333333333335, 3308], [2.4571428571428573, 3316], [3.4285714285714284, 3317], [2.25, 3324], [1.391304347826087, 3325], [2.5625, 3326], [2.7857142857142856, 3327], [3.0454545454545454, 3328], [3.526315789473684, 3334], [3.3846153846153846, 3342], [3.3333333333333335, 3347], [2.1272727272727274, 3354], [2.066666666666667, 3355], [3.1, 3358], [3.130434782608696, 3359], [3.5483870967741935, 3360], [3.0434782608695654, 3361], [3.4358974358974357, 3362], [3.2045454545454546, 3363], [2.933333333333333, 3365], [3.0833333333333335, 3366], [2.5, 3384], [3.0697674418604652, 3386], [1.9090909090909092, 3387], [2.04, 3388], [1.9285714285714286, 3392], [1.9473684210526316, 3394], [3.13953488372093, 3396], [3.04, 3397], [2.8214285714285716, 3398], [2.272727272727273, 3399], [1.5454545454545454, 3401], [2.0714285714285716, 3404], [3.235294117647059, 3408], [2.5686274509803924, 3409], [2.2142857142857144, 3412], [2.847058823529412, 3418], [3.142857142857143, 3420], [3.290909090909091, 3421], [3.3, 3422], [3.225, 3424], [2.6666666666666665, 3425], [2.4761904761904763, 3426], [3.6666666666666665, 3429], [2.2941176470588234, 3430], [1.8333333333333333, 3431], [1.7272727272727273, 3432], [3.95, 3435], [2.1333333333333333, 3436], [1.8867924528301887, 3438], [1.3928571428571428, 3439], [1.3076923076923077, 3440], [2.757575757575758, 3441], [2.6315789473684212, 3444], [2.4545454545454546, 3445], [3.03125, 3448], [2.8333333333333335, 3450], [3.25, 3451], [2.5714285714285716, 3452], [2.0833333333333335, 3453], [2.5555555555555554, 3457], [2.6818181818181817, 3461], [3.3846153846153846, 3462], [2.7, 3466], [2.7142857142857144, 3467], [3.5294117647058822, 3468], [3.1, 3469], [3.264705882352941, 3471], [3.0943396226415096, 3476], [2.3513513513513513, 3477], [2.642857142857143, 3478], [3.0, 3479], [3.49438202247191, 3481], [2.466666666666667, 3483], [2.5142857142857142, 3484], [2.142857142857143, 3489], [2.857142857142857, 3494], [1.9166666666666667, 3497], [3.2142857142857144, 3498], [3.056603773584906, 3499], [2.3076923076923075, 3500], [2.611111111111111, 3501], [2.8461538461538463, 3503], [3.0689655172413794, 3504], [2.96, 3505], [3.25, 3506], [3.4285714285714284, 3507], [3.142857142857143, 3508], [2.0, 3509], [2.9166666666666665, 3510], [1.9333333333333333, 3511], [3.1875, 3512], [2.8055555555555554, 3513], [2.4347826086956523, 3515], [3.3333333333333335, 3516], [2.6, 3519], [3.3076923076923075, 3521], [2.242424242424242, 3524], [2.25, 3525], [2.880952380952381, 3526], [2.986111111111111, 3527], [2.5, 3528], [2.5319148936170213, 3534], [2.8225806451612905, 3535], [3.081081081081081, 3536], [3.1470588235294117, 3543], [2.9473684210526314, 3545], [2.8823529411764706, 3546], [3.076923076923077, 3548], [2.9, 3549], [2.4166666666666665, 3550], [3.15, 3551], [2.9166666666666665, 3552], [2.5, 3553], [2.4545454545454546, 3554], [3.0303030303030303, 3555], [3.0, 3556], [2.2666666666666666, 3557], [1.2105263157894737, 3564], [2.5238095238095237, 3565], [2.6451612903225805, 3566], [3.1052631578947367, 3576], [3.6083333333333334, 3578], [2.5384615384615383, 3584], [2.4651162790697674, 3591], [1.4473684210526316, 3593], [2.7142857142857144, 3594], [2.3529411764705883, 3598], [2.4705882352941178, 3608], [2.575, 3614], [2.4193548387096775, 3615], [2.1818181818181817, 3616], [2.6842105263157894, 3617], [2.925925925925926, 3618], [2.4854368932038833, 3623], [2.953125, 3624], [2.2, 3628], [3.466666666666667, 3629], [2.5, 3633], [2.5652173913043477, 3635], [2.4047619047619047, 3638], [2.9047619047619047, 3639], [2.6, 3646], [2.4210526315789473, 3649], [3.0, 3654], [2.0625, 3660], [1.8333333333333333, 3661], [1.7857142857142858, 3662], [1.8, 3664], [2.588235294117647, 3668], [1.4, 3669], [3.1702127659574466, 3671], [1.8, 3672], [3.375, 3675], [2.857142857142857, 3681], [3.7241379310344827, 3683], [2.8260869565217392, 3684], [2.857142857142857, 3685], [2.5172413793103448, 3686], [1.9615384615384615, 3688], [1.8333333333333333, 3690], [1.8, 3693], [2.1884057971014492, 3697], [2.5454545454545454, 3698], [2.5434782608695654, 3699], [2.2142857142857144, 3700], [2.473684210526316, 3701], [2.9310344827586206, 3702], [2.9038461538461537, 3703], [2.7, 3704], [1.7674418604651163, 3705], [2.625, 3706], [2.2857142857142856, 3707], [2.36, 3708], [1.75, 3709], [1.5217391304347827, 3710], [2.3333333333333335, 3712], [2.3793103448275863, 3717], [2.8461538461538463, 3718], [2.5833333333333335, 3719], [3.185185185185185, 3723], [2.8, 3724], [3.1818181818181817, 3727], [3.272727272727273, 3728], [2.5, 3729], [4.0, 3730], [3.125, 3733], [3.423076923076923, 3735], [2.7222222222222223, 3740], [3.8, 3741], [3.4285714285714284, 3742], [2.0, 3743], [3.0, 3744], [2.9767441860465116, 3745], [2.6, 3746], [3.1, 3747], [3.2794117647058822, 3751], [2.535211267605634, 3752], [3.129032258064516, 3753], [1.8387096774193548, 3754], [2.8904109589041096, 3755], [2.111111111111111, 3758], [2.652173913043478, 3760], [2.7777777777777777, 3763], [2.033333333333333, 3764], [1.5909090909090908, 3766], [1.5, 3767], [1.5384615384615385, 3768], [2.9166666666666665, 3769], [2.64, 3770], [2.388888888888889, 3773], [1.6428571428571428, 3774], [3.857142857142857, 3783], [2.0588235294117645, 3784], [2.7049180327868854, 3785], [3.1, 3786], [2.0, 3791], [3.238095238095238, 3793], [2.3636363636363638, 3794], [2.86046511627907, 3798], [1.0769230769230769, 3799], [3.5, 3801], [1.7073170731707317, 3802], [2.9565217391304346, 3809], [3.5714285714285716, 3811], [2.9473684210526314, 3812], [3.1538461538461537, 3814], [3.5625, 3819], [2.08, 3821], [1.4285714285714286, 3824], [2.4545454545454546, 3825], [2.152173913043478, 3826], [2.793103448275862, 3827], [2.9285714285714284, 3831], [2.0, 3834], [1.9411764705882353, 3835], [3.4782608695652173, 3836], [2.263157894736842, 3840], [2.0588235294117645, 3841], [2.764705882352941, 3844], [2.857142857142857, 3846], [3.875, 3852], [2.772727272727273, 3861], [2.767857142857143, 3863], [1.9047619047619047, 3864], [2.8333333333333335, 3865], [2.9607843137254903, 3868], [2.3684210526315788, 3869], [2.6363636363636362, 3871], [2.2, 3873], [1.6923076923076923, 3877], [2.210526315789474, 3879], [2.8461538461538463, 3882], [1.7894736842105263, 3889], [2.8684210526315788, 3893], [3.0, 3896], [3.8363636363636364, 3897], [1.8571428571428572, 3901], [1.7894736842105263, 3908], [3.04, 3910], [3.6153846153846154, 3911], [2.15, 3915], [3.0238095238095237, 3916], [2.5, 3917], [2.6923076923076925, 3918], [1.8571428571428572, 3923], [3.230769230769231, 3925], [2.8333333333333335, 3927], [2.8125, 3928], [3.1, 3929], [1.9230769230769231, 3930], [2.9523809523809526, 3932], [2.7142857142857144, 3937], [2.6666666666666665, 3943], [2.3333333333333335, 3946], [3.3333333333333335, 3948], [4.0, 3949], [3.064516129032258, 3952]]\n"
     ]
    }
   ],
   "source": [
    "print(result_list)"
   ]
  },
  {
   "cell_type": "code",
   "execution_count": 69,
   "id": "d8e72ae5",
   "metadata": {},
   "outputs": [
    {
     "name": "stdout",
     "output_type": "stream",
     "text": [
      "[[4.190476190476191, 745], [4.173913043478261, 922], [4.161290322580645, 318], [4.138888888888889, 923], [4.118421052631579, 50], [4.071428571428571, 1223], [4.064516129032258, 858], [4.042105263157895, 296], [4.0, 307], [4.0, 3730], [4.0, 3949], [3.992, 2762], [3.9761904761904763, 1199], [3.9722222222222223, 1148], [3.9591836734693877, 2692], [3.95, 3435], [3.9473684210526314, 1260], [3.9414634146341463, 2858], [3.9166666666666665, 1244], [3.9166666666666665, 3134], [3.9047619047619047, 1449], [3.896551724137931, 899], [3.8846153846153846, 1198], [3.882978723404255, 1193], [3.8823529411764706, 306], [3.8793103448275863, 750], [3.875, 3852], [3.871794871794872, 1221], [3.8666666666666667, 1300], [3.8636363636363638, 3000], [3.863013698630137, 1213], [3.857142857142857, 1284], [3.857142857142857, 3783], [3.856060606060606, 2571], [3.8512396694214877, 593], [3.8421052631578947, 1041], [3.8363636363636364, 3897], [3.8333333333333335, 2575], [3.830357142857143, 527], [3.8285714285714287, 1262], [3.82, 1252], [3.8181818181818183, 1176], [3.8, 3741], [3.79136690647482, 2028], [3.7857142857142856, 904], [3.7857142857142856, 1147], [3.78125, 1136], [3.7758620689655173, 1219], [3.774193548387097, 1228], [3.7719298245614037, 908], [3.769230769230769, 678], [3.769230769230769, 2966], [3.769230769230769, 3163], [3.7674418604651163, 2324], [3.75, 741], [3.75, 1172], [3.75, 1212], [3.75, 2019], [3.75, 3089], [3.748031496062992, 260], [3.7384615384615385, 1222], [3.7373737373737375, 223], [3.7358490566037736, 1206], [3.7333333333333334, 2071], [3.7241379310344827, 3683], [3.7222222222222223, 942], [3.717391304347826, 110], [3.7160493827160495, 541], [3.7142857142857144, 1084], [3.7142857142857144, 2729], [3.7049180327868854, 1258], [3.7037037037037037, 1242], [3.7, 2859], [3.7, 2997], [3.6923076923076925, 2336], [3.6923076923076925, 3030], [3.688888888888889, 2329], [3.6842105263157894, 3083], [3.6774193548387095, 246], [3.676470588235294, 1089], [3.675, 1234], [3.67, 608], [3.6666666666666665, 29], [3.6666666666666665, 720], [3.6666666666666665, 913], [3.6666666666666665, 954], [3.6666666666666665, 1267], [3.6666666666666665, 2946], [3.6666666666666665, 3429], [3.6526315789473682, 2599], [3.6486486486486487, 3006], [3.6422018348623855, 2959], [3.64, 1247], [3.638888888888889, 910], [3.6363636363636362, 446], [3.6363636363636362, 1273], [3.619047619047619, 930], [3.618556701030928, 1197], [3.6153846153846154, 1225], [3.6153846153846154, 1251], [3.6153846153846154, 1927], [3.6153846153846154, 3911], [3.611111111111111, 951], [3.611111111111111, 1719], [3.608695652173913, 1997], [3.6083333333333334, 3578], [3.6065573770491803, 1625], [3.606060606060606, 497], [3.6041666666666665, 1240], [3.6, 778], [3.6, 1066], [3.6, 1083], [3.6, 1358], [3.6, 1875], [3.6, 2289], [3.596774193548387, 47], [3.595744680851064, 555], [3.5923076923076924, 1196], [3.5921052631578947, 1704], [3.590909090909091, 1207], [3.590909090909091, 2788], [3.588235294117647, 538], [3.588235294117647, 2973], [3.5833333333333335, 314], [3.5833333333333335, 1446], [3.5824175824175826, 1200], [3.5789473684210527, 994], [3.5789473684210527, 1387], [3.5714285714285716, 58], [3.5714285714285716, 1189], [3.5714285714285716, 1305], [3.5714285714285716, 3811], [3.564516129032258, 111], [3.5625, 308], [3.5625, 3819], [3.5609756097560976, 1921], [3.55, 1243], [3.5483870967741935, 3360], [3.5454545454545454, 1949], [3.5454545454545454, 2677], [3.5428571428571427, 2359], [3.542372881355932, 2908], [3.5384615384615383, 2068], [3.5384615384615383, 2208], [3.533333333333333, 3152], [3.532258064516129, 2804], [3.5294117647058822, 3468], [3.5277777777777777, 2918], [3.5277777777777777, 3148], [3.526315789473684, 3334], [3.525, 924], [3.525, 1249], [3.5238095238095237, 1245], [3.5217391304347827, 3129], [3.515151515151515, 2064], [3.5144927536231885, 589], [3.513157894736842, 912], [3.5128205128205128, 903], [3.506849315068493, 3160], [3.5, 232], [3.5, 265], [3.5, 1095], [3.5, 1132], [3.5, 1211], [3.5, 1952], [3.5, 2624], [3.5, 3801], [3.49438202247191, 3481], [3.4895833333333335, 457], [3.486111111111111, 1291], [3.4831460674157304, 32], [3.4827586206896552, 1274], [3.482142857142857, 1265], [3.4782608695652173, 3836], [3.4705882352941178, 1237], [3.466666666666667, 1090], [3.466666666666667, 1218], [3.466666666666667, 2442], [3.466666666666667, 3629], [3.4655172413793105, 1208], [3.4651162790697674, 1288], [3.4642857142857144, 1259], [3.4642857142857144, 2020], [3.4615384615384617, 28], [3.4615384615384617, 905], [3.4615384615384617, 945], [3.4615384615384617, 1050], [3.4615384615384617, 1233], [3.4615384615384617, 2313], [3.4615384615384617, 2726], [3.4583333333333335, 1617], [3.4545454545454546, 1080], [3.449612403100775, 356], [3.4444444444444446, 69], [3.4444444444444446, 1104], [3.4444444444444446, 1884], [3.4358974358974357, 3362], [3.4347826086956523, 2728], [3.4339622641509435, 2194], [3.4322033898305087, 2396], [3.4318181818181817, 1250], [3.4285714285714284, 714], [3.4285714285714284, 1272], [3.4285714285714284, 1411], [3.4285714285714284, 2203], [3.4285714285714284, 3317], [3.4285714285714284, 3507], [3.4285714285714284, 3742], [3.427350427350427, 1], [3.425925925925926, 293], [3.425925925925926, 1230], [3.425, 3147], [3.4242424242424243, 1408], [3.423076923076923, 3735], [3.4193548387096775, 1214], [3.413793103448276, 247], [3.4133333333333336, 1036], [3.411764705882353, 915], [3.411764705882353, 1304], [3.411764705882353, 1537], [3.41025641025641, 1269], [3.404255319148936, 1266], [3.4038461538461537, 235], [3.4, 123], [3.4, 319], [3.4, 1082], [3.4, 1302], [3.3962264150943398, 1639], [3.393258426966292, 2395], [3.391304347826087, 1246], [3.391304347826087, 1393], [3.391304347826087, 1680], [3.3902439024390243, 1276], [3.388888888888889, 17], [3.3846153846153846, 2076], [3.3846153846153846, 3342], [3.3846153846153846, 3462], [3.382978723404255, 441], [3.381818181818182, 1394], [3.380952380952381, 322], [3.375, 515], [3.375, 1635], [3.375, 3675], [3.3636363636363638, 492], [3.3636363636363638, 838], [3.3636363636363638, 1278], [3.3636363636363638, 1279], [3.3636363636363638, 1293], [3.3636363636363638, 2176], [3.3636363636363638, 3265], [3.361111111111111, 953], [3.361111111111111, 2912], [3.357142857142857, 950], [3.357142857142857, 3022], [3.357142857142857, 3181], [3.3529411764705883, 3037], [3.3513513513513513, 1188], [3.35, 6], [3.35, 2160], [3.3492063492063493, 474], [3.3461538461538463, 1956], [3.3444444444444446, 2791], [3.3384615384615386, 1307], [3.3380281690140845, 2321], [3.3333333333333335, 233], [3.3333333333333335, 1263], [3.3333333333333335, 1982], [3.3333333333333335, 2580], [3.3333333333333335, 2745], [3.3333333333333335, 3114], [3.3333333333333335, 3125], [3.3333333333333335, 3201], [3.3333333333333335, 3307], [3.3333333333333335, 3347], [3.3333333333333335, 3516], [3.3333333333333335, 3948], [3.327272727272727, 1954], [3.3255813953488373, 300], [3.3255813953488373, 2542], [3.3230769230769233, 1682], [3.3181818181818183, 1224], [3.3157894736842106, 1299], [3.3157894736842106, 1945], [3.3142857142857145, 1179], [3.3142857142857145, 1374], [3.3125, 1348], [3.310344827586207, 1784], [3.3076923076923075, 1171], [3.3076923076923075, 1248], [3.3076923076923075, 1964], [3.3076923076923075, 2870], [3.3076923076923075, 3198], [3.3076923076923075, 3521], [3.3043478260869565, 955], [3.3, 162], [3.3, 2310], [3.3, 3422], [3.299145299145299, 2716], [3.2954545454545454, 529], [3.2941176470588234, 1873], [3.2941176470588234, 2333], [3.292682926829268, 3178], [3.290909090909091, 3421], [3.2903225806451615, 440], [3.2903225806451615, 1678], [3.289855072463768, 3052], [3.289473684210526, 1201], [3.2857142857142856, 1257], [3.2857142857142856, 1923], [3.2857142857142856, 2303], [3.2857142857142856, 2924], [3.282051282051282, 1285], [3.28, 898], [3.2794117647058822, 3751], [3.278481012658228, 1961], [3.2777777777777777, 1077], [3.2777777777777777, 3019], [3.2758620689655173, 2318], [3.272727272727273, 1204], [3.272727272727273, 3200], [3.272727272727273, 3728], [3.2698412698412698, 1500], [3.2674418604651163, 1968], [3.2666666666666666, 1060], [3.2666666666666666, 3007], [3.2666666666666666, 3266], [3.264705882352941, 3471], [3.263157894736842, 1235], [3.263157894736842, 1254], [3.263157894736842, 2206], [3.261904761904762, 866], [3.259259259259259, 2300], [3.2580645161290325, 3044], [3.2580645161290325, 3159], [3.2580645161290325, 3271], [3.2567567567567566, 1732], [3.253731343283582, 1641], [3.25, 16], [3.25, 916], [3.25, 1086], [3.25, 1594], [3.25, 1963], [3.25, 1966], [3.25, 2390], [3.25, 2819], [3.25, 2871], [3.25, 3067], [3.25, 3451], [3.25, 3506], [3.247191011235955, 2700], [3.2439024390243905, 36], [3.2413793103448274, 1834], [3.24, 2186], [3.24, 2501], [3.238095238095238, 1096], [3.238095238095238, 1185], [3.238095238095238, 3189], [3.238095238095238, 3793], [3.235294117647059, 222], [3.235294117647059, 1950], [3.235294117647059, 2750], [3.235294117647059, 3408], [3.2333333333333334, 1270], [3.2325581395348837, 902], [3.230769230769231, 1343], [3.230769230769231, 2070], [3.230769230769231, 2248], [3.230769230769231, 3088], [3.230769230769231, 3925], [3.225, 3424], [3.2142857142857144, 94], [3.2142857142857144, 194], [3.2142857142857144, 1034], [3.2142857142857144, 2348], [3.2142857142857144, 3498], [3.2131147540983607, 2502], [3.210526315789474, 41], [3.210526315789474, 1840], [3.206896551724138, 1962], [3.206611570247934, 2706], [3.2051282051282053, 2686], [3.2045454545454546, 3363], [3.2037037037037037, 1912], [3.2033898305084745, 1094], [3.2, 851], [3.2, 928], [3.2, 1127], [3.2, 1178], [3.2, 1217], [3.2, 1256], [3.2, 1277], [3.2, 1281], [3.2, 1344], [3.2, 1824], [3.2, 2439], [3.19672131147541, 2268], [3.1951219512195124, 3210], [3.193548387096774, 969], [3.1904761904761907, 1810], [3.1904761904761907, 2398], [3.1875, 508], [3.1875, 1194], [3.1875, 2795], [3.1875, 3098], [3.1875, 3512], [3.186046511627907, 2391], [3.185185185185185, 914], [3.185185185185185, 3723], [3.1818181818181817, 475], [3.1818181818181817, 535], [3.1818181818181817, 2731], [3.1818181818181817, 2879], [3.1818181818181817, 3727], [3.1797752808988764, 1610], [3.1785714285714284, 3246], [3.176470588235294, 926], [3.175438596491228, 3108], [3.1724137931034484, 2648], [3.1702127659574466, 3671], [3.1666666666666665, 101], [3.1666666666666665, 358], [3.1666666666666665, 971], [3.1666666666666665, 1264], [3.1666666666666665, 2109], [3.1666666666666665, 2117], [3.1666666666666665, 2443], [3.163265306122449, 1674], [3.1627906976744184, 25], [3.16, 1078], [3.16, 2951], [3.1578947368421053, 272], [3.1549295774647885, 1073], [3.1538461538461537, 176], [3.1538461538461537, 180], [3.1538461538461537, 965], [3.1538461538461537, 1683], [3.1538461538461537, 2654], [3.1538461538461537, 3814], [3.152542372881356, 150], [3.15, 3551], [3.1470588235294117, 3543], [3.142857142857143, 147], [3.142857142857143, 373], [3.142857142857143, 428], [3.142857142857143, 534], [3.142857142857143, 1916], [3.142857142857143, 2596], [3.142857142857143, 3420], [3.142857142857143, 3508], [3.1403508771929824, 1079], [3.139705882352941, 1210], [3.13953488372093, 3396], [3.138888888888889, 2944], [3.138888888888889, 3252], [3.1379310344827585, 671], [3.1379310344827585, 1231], [3.135593220338983, 1748], [3.1333333333333333, 2583], [3.1333333333333333, 3255], [3.130434782608696, 3062], [3.130434782608696, 3359], [3.129032258064516, 3753], [3.125, 471], [3.125, 931], [3.125, 1295], [3.125, 3733], [3.123076923076923, 357], [3.1216216216216215, 1673], [3.121212121212121, 104], [3.1176470588235294, 1648], [3.1153846153846154, 919], [3.108108108108108, 1275], [3.107142857142857, 3179], [3.1052631578947367, 900], [3.1052631578947367, 3576], [3.1025641025641026, 1953], [3.1025641025641026, 2947], [3.1025641025641026, 3267], [3.1, 340], [3.1, 506], [3.1, 581], [3.1, 1190], [3.1, 1660], [3.1, 2182], [3.1, 3074], [3.1, 3358], [3.1, 3469], [3.1, 3747], [3.1, 3786], [3.1, 3929], [3.0952380952380953, 2138], [3.0952380952380953, 2739], [3.0943396226415096, 3476], [3.090909090909091, 2290], [3.090909090909091, 2863], [3.088235294117647, 562], [3.085714285714286, 1287], [3.085714285714286, 1960], [3.085714285714286, 3100], [3.0851063829787235, 3039], [3.084507042253521, 1747], [3.0833333333333335, 1203], [3.0833333333333335, 2139], [3.0833333333333335, 3091], [3.0833333333333335, 3296], [3.0833333333333335, 3366], [3.081081081081081, 2150], [3.081081081081081, 3536], [3.08, 2949], [3.076923076923077, 524], [3.076923076923077, 728], [3.076923076923077, 911], [3.076923076923077, 1333], [3.076923076923077, 3548], [3.074074074074074, 1672], [3.073170731707317, 1466], [3.0714285714285716, 991], [3.0697674418604652, 3386], [3.0689655172413794, 1350], [3.0689655172413794, 3504], [3.066666666666667, 1354], [3.064935064935065, 3174], [3.064516129032258, 3952], [3.0642201834862384, 2355], [3.0632911392405062, 3081], [3.0625, 345], [3.0625, 482], [3.0625, 1175], [3.0625, 3175], [3.0588235294117645, 2130], [3.056603773584906, 3499], [3.0555555555555554, 663], [3.0555555555555554, 1994], [3.054054054054054, 1120], [3.054054054054054, 1947], [3.0526315789473686, 1321], [3.0526315789473686, 1611], [3.0526315789473686, 3105], [3.051546391752577, 1527], [3.051282051282051, 480], [3.05, 2010], [3.0476190476190474, 999], [3.0472972972972974, 1580], [3.046511627906977, 2140], [3.0454545454545454, 3168], [3.0454545454545454, 3328], [3.044776119402985, 2890], [3.0434782608695654, 2232], [3.0434782608695654, 3361], [3.0416666666666665, 164], [3.041095890410959, 3253], [3.0405405405405403, 590], [3.04, 2917], [3.04, 3397], [3.04, 3910], [3.0392156862745097, 2108], [3.0392156862745097, 2115], [3.0384615384615383, 968], [3.0357142857142856, 144], [3.0357142857142856, 481], [3.0357142857142856, 514], [3.0357142857142856, 2403], [3.034090909090909, 1584], [3.033333333333333, 800], [3.033333333333333, 1957], [3.032608695652174, 3176], [3.032258064516129, 1253], [3.03125, 3448], [3.0303030303030303, 3555], [3.0285714285714285, 1345], [3.0277777777777777, 1407], [3.027027027027027, 1653], [3.0238095238095237, 3916], [3.022222222222222, 1035], [3.021276595744681, 1294], [3.0210526315789474, 34], [3.0172413793103448, 11], [3.0153846153846153, 3256], [3.0140845070422535, 1909], [3.0123456790123457, 2000], [3.0121951219512195, 1517], [3.0, 26], [3.0, 52], [3.0, 73], [3.0, 175], [3.0, 249], [3.0, 348], [3.0, 551], [3.0, 599], [3.0, 627], [3.0, 920], [3.0, 921], [3.0, 933], [3.0, 1051], [3.0, 1069], [3.0, 1173], [3.0, 1209], [3.0, 1227], [3.0, 1238], [3.0, 1396], [3.0, 1414], [3.0, 1476], [3.0, 1663], [3.0, 1753], [3.0, 1897], [3.0, 2013], [3.0, 2067], [3.0, 2083], [3.0, 2159], [3.0, 2352], [3.0, 2690], [3.0, 2693], [3.0, 2734], [3.0, 2866], [3.0, 2919], [3.0, 2993], [3.0, 3071], [3.0, 3169], [3.0, 3203], [3.0, 3479], [3.0, 3556], [3.0, 3654], [3.0, 3744], [3.0, 3896], [2.986111111111111, 3527], [2.9846153846153847, 1215], [2.981132075471698, 1729], [2.980769230769231, 2278], [2.980392156862745, 2288], [2.978723404255319, 3072], [2.977272727272727, 339], [2.977272727272727, 2291], [2.9767441860465116, 3745], [2.975, 1967], [2.973684210526316, 2761], [2.972972972972973, 337], [2.972972972972973, 1777], [2.972972972972973, 2423], [2.972972972972973, 2948], [2.9705882352941178, 1885], [2.9696969696969697, 628], [2.9696969696969697, 1693], [2.967741935483871, 539], [2.966666666666667, 253], [2.966666666666667, 1220], [2.966666666666667, 2058], [2.962962962962963, 342], [2.9615384615384617, 1357], [2.9607843137254903, 3868], [2.96, 1282], [2.96, 1298], [2.96, 3505], [2.9565217391304346, 125], [2.9565217391304346, 1955], [2.9565217391304346, 3809], [2.9558823529411766, 2406], [2.9555555555555557, 161], [2.9545454545454546, 280], [2.953125, 3624], [2.9523809523809526, 3932], [2.95, 1356], [2.9495798319327733, 2683], [2.9482758620689653, 2916], [2.9473684210526314, 3545], [2.9473684210526314, 3812], [2.9444444444444446, 412], [2.9444444444444446, 3068], [2.9411764705882355, 2171], [2.9411764705882355, 3261], [2.9393939393939394, 431], [2.9393939393939394, 3060], [2.9375, 1959], [2.9375, 2433], [2.9375, 2987], [2.933333333333333, 1730], [2.933333333333333, 3102], [2.933333333333333, 3153], [2.933333333333333, 3194], [2.933333333333333, 3365], [2.9322033898305087, 2968], [2.9316239316239314, 1097], [2.9315068493150687, 349], [2.9310344827586206, 1093], [2.9310344827586206, 3095], [2.9310344827586206, 3702], [2.9295774647887325, 785], [2.9285714285714284, 507], [2.9285714285714284, 906], [2.9285714285714284, 1099], [2.9285714285714284, 1297], [2.9285714285714284, 2467], [2.9285714285714284, 2952], [2.9285714285714284, 3185], [2.9285714285714284, 3186], [2.9285714285714284, 3831], [2.925925925925926, 3618], [2.925, 3104], [2.9242424242424243, 2490], [2.923076923076923, 62], [2.923076923076923, 2671], [2.923076923076923, 2779], [2.9193548387096775, 3298], [2.9166666666666665, 1271], [2.9166666666666665, 1416], [2.9166666666666665, 2312], [2.9166666666666665, 2361], [2.9166666666666665, 2664], [2.9166666666666665, 2975], [2.9166666666666665, 3510], [2.9166666666666665, 3552], [2.9166666666666665, 3769], [2.913793103448276, 1028], [2.9130434782608696, 2065], [2.909090909090909, 918], [2.909090909090909, 1296], [2.909090909090909, 1392], [2.909090909090909, 1399], [2.909090909090909, 2137], [2.909090909090909, 2212], [2.909090909090909, 3250], [2.9047619047619047, 2110], [2.9047619047619047, 2144], [2.9047619047619047, 3639], [2.9038461538461537, 3703], [2.902439024390244, 151], [2.9, 290], [2.9, 1103], [2.9, 1649], [2.9, 1965], [2.9, 3111], [2.9, 3549], [2.8958333333333335, 380], [2.8947368421052633, 1429], [2.892857142857143, 1129], [2.8904109589041096, 3755], [2.8902439024390243, 2763], [2.888888888888889, 1186], [2.888888888888889, 1283], [2.888888888888889, 1464], [2.888888888888889, 1805], [2.888888888888889, 1914], [2.888888888888889, 2078], [2.8863636363636362, 112], [2.8857142857142857, 45], [2.8823529411764706, 377], [2.8823529411764706, 1944], [2.8823529411764706, 3546], [2.880952380952381, 592], [2.880952380952381, 3526], [2.88, 1694], [2.8780487804878048, 216], [2.875, 805], [2.875, 2097], [2.875, 2427], [2.875, 2764], [2.871794871794872, 1261], [2.869565217391304, 364], [2.869565217391304, 2282], [2.869047619047619, 39], [2.8684210526315788, 3893], [2.8666666666666667, 289], [2.8666666666666667, 909], [2.8666666666666667, 2236], [2.8666666666666667, 3196], [2.864864864864865, 2600], [2.8636363636363638, 1292], [2.8620689655172415, 1569], [2.8615384615384616, 597], [2.86046511627907, 3798], [2.86, 1485], [2.857142857142857, 2231], [2.857142857142857, 2302], [2.857142857142857, 3494], [2.857142857142857, 3681], [2.857142857142857, 3685], [2.857142857142857, 3846], [2.8541666666666665, 1883], [2.8536585365853657, 2915], [2.8529411764705883, 252], [2.85, 610], [2.85, 2644], [2.85, 3018], [2.8484848484848486, 10], [2.8484848484848486, 2463], [2.848101265822785, 2797], [2.847058823529412, 3418], [2.8461538461538463, 3115], [2.8461538461538463, 3503], [2.8461538461538463, 3718], [2.8461538461538463, 3882], [2.842857142857143, 2572], [2.8421052631578947, 2114], [2.838709677419355, 2872], [2.836734693877551, 141], [2.8358208955223883, 2167], [2.8333333333333335, 477], [2.8333333333333335, 1289], [2.8333333333333335, 1465], [2.8333333333333335, 2105], [2.8333333333333335, 2560], [2.8333333333333335, 2707], [2.8333333333333335, 2971], [2.8333333333333335, 3066], [2.8333333333333335, 3078], [2.8333333333333335, 3450], [2.8333333333333335, 3865], [2.8333333333333335, 3927], [2.8309859154929575, 1608], [2.8260869565217392, 3684], [2.825, 2712], [2.823529411764706, 465], [2.823529411764706, 2006], [2.8225806451612905, 3535], [2.8222222222222224, 3101], [2.8214285714285716, 3398], [2.819672131147541, 595], [2.8194444444444446, 2353], [2.8191489361702127, 21], [2.8181818181818183, 14], [2.8181818181818183, 43], [2.8181818181818183, 262], [2.8181818181818183, 932], [2.8181818181818183, 1187], [2.8181818181818183, 1941], [2.8181818181818183, 2941], [2.817204301075269, 588], [2.816666666666667, 288], [2.814814814814815, 2118], [2.8125, 522], [2.8125, 2195], [2.8125, 2891], [2.8125, 3928], [2.8105263157894735, 733], [2.8076923076923075, 1057], [2.8076923076923075, 2687], [2.8055555555555554, 3513], [2.8, 18], [2.8, 277], [2.8, 388], [2.8, 947], [2.8, 2301], [2.8, 2475], [2.8, 2506], [2.8, 2519], [2.8, 2736], [2.8, 3724], [2.796875, 1183], [2.796116504854369, 2710], [2.795918367346939, 3301], [2.7945205479452055, 2455], [2.7941176470588234, 647], [2.7936507936507935, 368], [2.793103448275862, 493], [2.793103448275862, 3827], [2.789473684210526, 3035], [2.787878787878788, 2622], [2.7857142857142856, 1939], [2.7857142857142856, 2125], [2.7857142857142856, 2694], [2.7857142857142856, 3145], [2.7857142857142856, 3327], [2.782608695652174, 2857], [2.7818181818181817, 2581], [2.7794117647058822, 2985], [2.7777777777777777, 2474], [2.7777777777777777, 2633], [2.7777777777777777, 3763], [2.7735849056603774, 1380], [2.772727272727273, 3861], [2.7714285714285714, 2662], [2.769230769230769, 574], [2.769230769230769, 1836], [2.769230769230769, 2414], [2.767857142857143, 3863], [2.7676767676767677, 1721], [2.765432098765432, 316], [2.764705882352941, 509], [2.764705882352941, 1130], [2.764705882352941, 2025], [2.764705882352941, 2243], [2.764705882352941, 3087], [2.764705882352941, 3844], [2.7636363636363637, 2021], [2.761904761904762, 225], [2.761904761904762, 468], [2.761904761904762, 1125], [2.759493670886076, 1370], [2.757575757575758, 3441], [2.7555555555555555, 3020], [2.75, 85], [2.75, 371], [2.75, 2132], [2.75, 2384], [2.75, 2529], [2.75, 2867], [2.7439024390243905, 2617], [2.742857142857143, 1907], [2.7419354838709675, 553], [2.74, 2273], [2.738095238095238, 2134], [2.736842105263158, 2022], [2.736842105263158, 2991], [2.7346938775510203, 2080], [2.7333333333333334, 1542], [2.7333333333333334, 2551], [2.7333333333333334, 2565], [2.730769230769231, 426], [2.730769230769231, 2567], [2.72972972972973, 1589], [2.72972972972973, 2311], [2.727272727272727, 1376], [2.727272727272727, 1643], [2.727272727272727, 1658], [2.727272727272727, 2003], [2.727272727272727, 2112], [2.7241379310344827, 2009], [2.7222222222222223, 454], [2.7222222222222223, 1017], [2.7222222222222223, 1615], [2.7222222222222223, 2454], [2.7222222222222223, 3740], [2.7169811320754715, 2366], [2.7142857142857144, 1301], [2.7142857142857144, 1327], [2.7142857142857144, 1735], [2.7142857142857144, 2340], [2.7142857142857144, 2976], [2.7142857142857144, 3467], [2.7142857142857144, 3594], [2.7142857142857144, 3937], [2.7096774193548385, 2371], [2.7096774193548385, 3005], [2.709090909090909, 3300], [2.7058823529411766, 329], [2.7058823529411766, 3225], [2.7049180327868854, 3785], [2.7037037037037037, 1845], [2.703125, 3107], [2.7027027027027026, 799], [2.7027027027027026, 2528], [2.7, 46], [2.7, 417], [2.7, 940], [2.7, 1701], [2.7, 2005], [2.7, 3466], [2.7, 3704], [2.697674418604651, 333], [2.696969696969697, 661], [2.696969696969697, 1441], [2.6956521739130435, 1785], [2.694915254237288, 1101], [2.693877551020408, 1378], [2.6923076923076925, 1951], [2.6923076923076925, 2883], [2.6923076923076925, 2929], [2.6923076923076925, 3918], [2.690265486725664, 780], [2.6885245901639343, 1645], [2.6875, 7], [2.6875, 350], [2.6875, 353], [2.6875, 2081], [2.6875, 2263], [2.6842105263157894, 934], [2.6842105263157894, 1049], [2.6842105263157894, 2245], [2.6842105263157894, 3213], [2.6842105263157894, 3617], [2.682926829268293, 2792], [2.6818181818181817, 724], [2.6818181818181817, 3461], [2.681159420289855, 1372], [2.6808510638297873, 2193], [2.68, 2989], [2.6785714285714284, 2447], [2.676470588235294, 1061], [2.675, 2294], [2.6744186046511627, 1754], [2.673469387755102, 163], [2.673076923076923, 198], [2.6666666666666665, 63], [2.6666666666666665, 700], [2.6666666666666665, 1385], [2.6666666666666665, 1518], [2.6666666666666665, 1633], [2.6666666666666665, 2459], [2.6666666666666665, 2550], [2.6666666666666665, 2730], [2.6666666666666665, 2889], [2.6666666666666665, 3260], [2.6666666666666665, 3425], [2.6666666666666665, 3943], [2.6615384615384614, 1722], [2.660377358490566, 852], [2.66, 1573], [2.659090909090909, 3173], [2.658536585365854, 2394], [2.6578947368421053, 3070], [2.6551724137931036, 2015], [2.6538461538461537, 1092], [2.652173913043478, 2841], [2.652173913043478, 3760], [2.6511627906976742, 2046], [2.6486486486486487, 1958], [2.6470588235294117, 2266], [2.6470588235294117, 2759], [2.6470588235294117, 3029], [2.646153846153846, 2100], [2.6451612903225805, 3566], [2.6440677966101696, 266], [2.642857142857143, 105], [2.642857142857143, 521], [2.642857142857143, 1794], [2.642857142857143, 3478], [2.6417910447761193, 2023], [2.6417910447761193, 2640], [2.64, 423], [2.64, 3770], [2.638888888888889, 344], [2.6363636363636362, 1023], [2.6363636363636362, 1366], [2.6363636363636362, 2183], [2.6363636363636362, 2836], [2.6363636363636362, 3871], [2.635135135135135, 2770], [2.6333333333333333, 1619], [2.6315789473684212, 1892], [2.6315789473684212, 2416], [2.6315789473684212, 3444], [2.6307692307692307, 165], [2.625, 1340], [2.625, 3706], [2.6222222222222222, 1405], [2.619047619047619, 1124], [2.619047619047619, 2539], [2.617021276595745, 552], [2.6153846153846154, 2], [2.6129032258064515, 3263], [2.611111111111111, 3501], [2.608695652173913, 2476], [2.607843137254902, 708], [2.607142857142857, 1459], [2.6052631578947367, 372], [2.604651162790698, 1320], [2.6041666666666665, 2161], [2.6, 86], [2.6, 152], [2.6, 511], [2.6, 1013], [2.6, 2401], [2.6, 2496], [2.6, 2688], [2.6, 3519], [2.6, 3646], [2.6, 3746], [2.5952380952380953, 2628], [2.5925925925925926, 2541], [2.590909090909091, 231], [2.590909090909091, 490], [2.588235294117647, 531], [2.588235294117647, 1347], [2.588235294117647, 2202], [2.588235294117647, 3668], [2.586206896551724, 2772], [2.5833333333333335, 1425], [2.5833333333333335, 2518], [2.5833333333333335, 2634], [2.5833333333333335, 2899], [2.5833333333333335, 3719], [2.5764705882352943, 587], [2.575, 3614], [2.5714285714285716, 159], [2.5714285714285716, 218], [2.5714285714285716, 952], [2.5714285714285716, 2184], [2.5714285714285716, 3452], [2.5686274509803924, 1339], [2.5686274509803924, 3409], [2.567901234567901, 2174], [2.566666666666667, 3259], [2.5652173913043477, 3635], [2.5625, 1858], [2.5625, 2166], [2.5625, 3326], [2.56, 1031], [2.5576923076923075, 832], [2.557377049180328, 2001], [2.5555555555555554, 494], [2.5555555555555554, 1711], [2.5555555555555554, 3457], [2.5517241379310347, 2470], [2.55, 1480], [2.55, 1688], [2.55, 2746], [2.5476190476190474, 1687], [2.546875, 2393], [2.5454545454545454, 1059], [2.5454545454545454, 1290], [2.5454545454545454, 2363], [2.5454545454545454, 2364], [2.5454545454545454, 2432], [2.5454545454545454, 3698], [2.5434782608695654, 3699], [2.5416666666666665, 88], [2.5405405405405403, 1587], [2.5384615384615383, 224], [2.5384615384615383, 1804], [2.5384615384615383, 2331], [2.5384615384615383, 2676], [2.5384615384615383, 3584], [2.5365853658536586, 1022], [2.5357142857142856, 3219], [2.535211267605634, 3752], [2.5344827586206895, 1375], [2.5344827586206895, 2424], [2.5342465753424657, 1552], [2.533333333333333, 1286], [2.533333333333333, 2431], [2.533333333333333, 2789], [2.532608695652174, 648], [2.5319148936170213, 3534], [2.5294117647058822, 1983], [2.526315789473684, 361], [2.5238095238095237, 605], [2.5238095238095237, 1457], [2.5238095238095237, 1866], [2.5238095238095237, 3016], [2.5238095238095237, 3033], [2.5238095238095237, 3565], [2.5217391304347827, 500], [2.5185185185185186, 2116], [2.5172413793103448, 3686], [2.5142857142857142, 2334], [2.5142857142857142, 3484], [2.5128205128205128, 145], [2.5128205128205128, 1614], [2.5, 188], [2.5, 328], [2.5, 448], [2.5, 450], [2.5, 680], [2.5, 691], [2.5, 1019], [2.5, 1346], [2.5, 1401], [2.5, 1597], [2.5, 1621], [2.5, 1627], [2.5, 1904], [2.5, 2102], [2.5, 2325], [2.5, 2344], [2.5, 2387], [2.5, 2453], [2.5, 2651], [2.5, 2657], [2.5, 2844], [2.5, 3384], [2.5, 3528], [2.5, 3553], [2.5, 3633], [2.5, 3729], [2.5, 3917], [2.4935064935064934, 2011], [2.488372093023256, 594], [2.488372093023256, 2085], [2.4857142857142858, 2087], [2.4854368932038833, 3623], [2.484848484848485, 1029], [2.4838709677419355, 596], [2.4831460674157304, 367], [2.4827586206896552, 1588], [2.4782608695652173, 3155], [2.4761904761904763, 383], [2.4761904761904763, 837], [2.4761904761904763, 1081], [2.4761904761904763, 3426], [2.475, 1020], [2.4745762711864407, 2407], [2.473684210526316, 1032], [2.473684210526316, 1047], [2.473684210526316, 2554], [2.473684210526316, 3701], [2.4705882352941178, 1974], [2.4705882352941178, 2860], [2.4705882352941178, 3608], [2.4696969696969697, 3082], [2.46875, 802], [2.466666666666667, 3483], [2.4651162790697674, 3591], [2.4615384615384617, 2921], [2.46, 2724], [2.4594594594594597, 2527], [2.4571428571428573, 3316], [2.4545454545454546, 2141], [2.4545454545454546, 2457], [2.4545454545454546, 3445], [2.4545454545454546, 3554], [2.4545454545454546, 3825], [2.45, 653], [2.45, 986], [2.4444444444444446, 230], [2.4444444444444446, 1009], [2.4444444444444446, 2346], [2.44, 491], [2.4375, 517], [2.4375, 1717], [2.4375, 2099], [2.4358974358974357, 748], [2.4347826086956523, 1025], [2.4347826086956523, 2033], [2.4347826086956523, 2881], [2.4347826086956523, 3515], [2.4285714285714284, 351], [2.4285714285714284, 1042], [2.4285714285714284, 1128], [2.4285714285714284, 1268], [2.4285714285714284, 1734], [2.4285714285714284, 3120], [2.4242424242424243, 1422], [2.422222222222222, 2145], [2.4210526315789473, 2553], [2.4210526315789473, 3649], [2.4193548387096775, 3615], [2.4166666666666665, 261], [2.4166666666666665, 2072], [2.4166666666666665, 2420], [2.4166666666666665, 3550], [2.413793103448276, 2926], [2.4130434782608696, 2012], [2.411764705882353, 2322], [2.411764705882353, 2492], [2.409090909090909, 2136], [2.4081632653061225, 1371], [2.4074074074074074, 1876], [2.40625, 1334], [2.4047619047619047, 3638], [2.404255319148936, 1917], [2.4038461538461537, 543], [2.4, 22], [2.4, 100], [2.4, 735], [2.4, 781], [2.4, 886], [2.4, 1363], [2.4, 1395], [2.4, 1895], [2.4, 2024], [2.4, 2060], [2.4, 2111], [2.4, 3272], [2.3970588235294117, 2723], [2.3934426229508197, 2094], [2.3934426229508197, 2641], [2.392857142857143, 2505], [2.391304347826087, 2961], [2.391304347826087, 3040], [2.390625, 292], [2.388888888888889, 1835], [2.388888888888889, 2524], [2.388888888888889, 2787], [2.388888888888889, 2822], [2.388888888888889, 3773], [2.3870967741935485, 2124], [2.3846153846153846, 170], [2.3846153846153846, 445], [2.3846153846153846, 520], [2.3846153846153846, 879], [2.3846153846153846, 2672], [2.3846153846153846, 2699], [2.3846153846153846, 3099], [2.382978723404255, 2702], [2.3823529411764706, 2413], [2.380952380952381, 236], [2.380952380952381, 2376], [2.38, 2335], [2.3793103448275863, 1970], [2.3793103448275863, 3717], [2.375, 362], [2.375, 1027], [2.375, 2014], [2.375, 2606], [2.375, 3146], [2.375, 3197], [2.370967741935484, 434], [2.3684210526315788, 504], [2.3684210526315788, 861], [2.3684210526315788, 3869], [2.36734693877551, 1792], [2.3666666666666667, 2096], [2.3636363636363638, 1330], [2.3636363636363638, 2133], [2.3636363636363638, 2409], [2.3636363636363638, 2978], [2.3636363636363638, 3794], [2.36144578313253, 70], [2.36, 3708], [2.358974358974359, 2826], [2.357142857142857, 381], [2.357142857142857, 586], [2.357142857142857, 946], [2.357142857142857, 1016], [2.357142857142857, 1541], [2.3563218390804597, 736], [2.3541666666666665, 3264], [2.3529411764705883, 2017], [2.3529411764705883, 2155], [2.3529411764705883, 2907], [2.3529411764705883, 3598], [2.3513513513513513, 1620], [2.3513513513513513, 2805], [2.3513513513513513, 3477], [2.35, 2287], [2.35, 2500], [2.35, 2504], [2.347826086956522, 1012], [2.347826086956522, 2718], [2.3461538461538463, 3], [2.342857142857143, 1616], [2.3421052631578947, 2018], [2.3333333333333335, 195], [2.3333333333333335, 257], [2.3333333333333335, 376], [2.3333333333333335, 382], [2.3333333333333335, 707], [2.3333333333333335, 1352], [2.3333333333333335, 1769], [2.3333333333333335, 1799], [2.3333333333333335, 1816], [2.3333333333333335, 2513], [2.3333333333333335, 2802], [2.3333333333333335, 2956], [2.3333333333333335, 3034], [2.3333333333333335, 3247], [2.3333333333333335, 3251], [2.3333333333333335, 3308], [2.3333333333333335, 3712], [2.3333333333333335, 3946], [2.323529411764706, 2469], [2.3225806451612905, 1713], [2.3214285714285716, 1689], [2.3214285714285716, 1833], [2.3181818181818183, 89], [2.3181818181818183, 2269], [2.3181818181818183, 2540], [2.3157894736842106, 2026], [2.3157894736842106, 2320], [2.3125, 2327], [2.3125, 3032], [2.310344827586207, 2747], [2.3098591549295775, 2722], [2.3076923076923075, 207], [2.3076923076923075, 317], [2.3076923076923075, 1727], [2.3076923076923075, 2048], [2.3076923076923075, 2240], [2.3076923076923075, 2829], [2.3076923076923075, 2877], [2.3076923076923075, 3500], [2.303030303030303, 2709], [2.3, 938], [2.3, 1355], [2.3, 1390], [2.3, 1582], [2.3, 1746], [2.3, 1937], [2.3, 2639], [2.3, 3051], [2.2976190476190474, 1676], [2.2954545454545454, 788], [2.2941176470588234, 3430], [2.2916666666666665, 2146], [2.2916666666666665, 2990], [2.290909090909091, 370], [2.2884615384615383, 410], [2.2857142857142856, 203], [2.2857142857142856, 259], [2.2857142857142856, 1821], [2.2857142857142856, 1918], [2.2857142857142856, 2574], [2.2857142857142856, 2882], [2.2857142857142856, 3707], [2.2816901408450705, 2002], [2.280701754385965, 1586], [2.2790697674418605, 1367], [2.2777777777777777, 801], [2.2777777777777777, 2135], [2.2758620689655173, 24], [2.2758620689655173, 42], [2.2758620689655173, 1479], [2.2745098039215685, 3285], [2.272727272727273, 3399], [2.269230769230769, 442], [2.269230769230769, 783], [2.269230769230769, 2107], [2.2666666666666666, 60], [2.2666666666666666, 237], [2.2666666666666666, 1979], [2.2666666666666666, 3249], [2.2666666666666666, 3557], [2.263157894736842, 1665], [2.263157894736842, 3840], [2.259259259259259, 1690], [2.256880733944954, 1544], [2.25, 31], [2.25, 695], [2.25, 1014], [2.25, 1342], [2.25, 1911], [2.25, 1991], [2.25, 2517], [2.25, 3063], [2.25, 3324], [2.25, 3525], [2.242424242424242, 3524], [2.2413793103448274, 2143], [2.24, 1033], [2.24, 2297], [2.24, 2613], [2.238095238095238, 1924], [2.235294117647059, 550], [2.230769230769231, 1841], [2.230769230769231, 2428], [2.230769230769231, 3262], [2.227272727272727, 2090], [2.225806451612903, 830], [2.225806451612903, 1135], [2.225, 532], [2.2244897959183674, 2717], [2.2222222222222223, 2261], [2.2222222222222223, 2478], [2.2203389830508473, 2605], [2.21875, 2735], [2.217391304347826, 122], [2.217391304347826, 2771], [2.2162162162162162, 1088], [2.2142857142857144, 352], [2.2142857142857144, 3412], [2.2142857142857144, 3700], [2.212121212121212, 3157], [2.210526315789474, 1007], [2.210526315789474, 3879], [2.2093023255813953, 1566], [2.208955223880597, 1513], [2.2083333333333335, 2485], [2.2, 5], [2.2, 8], [2.2, 427], [2.2, 1999], [2.2, 2041], [2.2, 2106], [2.2, 2252], [2.2, 2399], [2.2, 2803], [2.2, 2846], [2.2, 2888], [2.2, 3628], [2.2, 3873], [2.1944444444444446, 107], [2.193548387096774, 44], [2.1923076923076925, 186], [2.1904761904761907, 2148], [2.1904761904761907, 2898], [2.1884057971014492, 3697], [2.185185185185185, 2378], [2.1842105263157894, 2188], [2.1818181818181817, 421], [2.1818181818181817, 786], [2.1818181818181817, 998], [2.1818181818181817, 2084], [2.1818181818181817, 2113], [2.1818181818181817, 2262], [2.1818181818181817, 2354], [2.1818181818181817, 2901], [2.1818181818181817, 3616], [2.1808510638297873, 1391], [2.176470588235294, 1010], [2.176470588235294, 2315], [2.176470588235294, 2900], [2.173076923076923, 1379], [2.1724137931034484, 366], [2.1714285714285713, 1801], [2.1666666666666665, 486], [2.1666666666666665, 804], [2.1666666666666665, 1018], [2.1666666666666665, 1024], [2.1666666666666665, 2122], [2.1666666666666665, 2418], [2.1666666666666665, 2942], [2.1666666666666665, 3177], [2.1627906976744184, 2840], [2.16, 158], [2.1578947368421053, 227], [2.1578947368421053, 407], [2.1578947368421053, 2377], [2.1578947368421053, 2796], [2.1538461538461537, 585], [2.1538461538461537, 1332], [2.1538461538461537, 2120], [2.1538461538461537, 2379], [2.1538461538461537, 2491], [2.1538461538461537, 2645], [2.1538461538461537, 3270], [2.152173913043478, 2598], [2.152173913043478, 3826], [2.1511627906976742, 1377], [2.15, 3915], [2.1470588235294117, 48], [2.142857142857143, 79], [2.142857142857143, 569], [2.142857142857143, 1015], [2.142857142857143, 1483], [2.142857142857143, 1888], [2.142857142857143, 2806], [2.142857142857143, 3489], [2.1379310344827585, 996], [2.135135135135135, 1894], [2.1333333333333333, 809], [2.1333333333333333, 3436], [2.130434782608696, 1205], [2.130434782608696, 3208], [2.1272727272727274, 3354], [2.125, 1971], [2.125, 2296], [2.125, 2369], [2.125, 2752], [2.12, 276], [2.12, 512], [2.12, 2059], [2.1176470588235294, 4], [2.1176470588235294, 1003], [2.1176470588235294, 1975], [2.1176470588235294, 2372], [2.1153846153846154, 2054], [2.1142857142857143, 1438], [2.1136363636363638, 2405], [2.111111111111111, 413], [2.111111111111111, 674], [2.111111111111111, 2558], [2.111111111111111, 3758], [2.107142857142857, 273], [2.1052631578947367, 76], [2.1052631578947367, 479], [2.1052631578947367, 533], [2.1025641025641026, 3273], [2.1, 472], [2.1, 743], [2.1, 1191], [2.1, 1640], [2.1, 3036], [2.096774193548387, 2468], [2.096774193548387, 2793], [2.0952380952380953, 3274], [2.090909090909091, 848], [2.090909090909091, 1647], [2.090909090909091, 2451], [2.090909090909091, 3053], [2.0869565217391304, 1461], [2.0869565217391304, 2121], [2.0833333333333335, 558], [2.0833333333333335, 1601], [2.0833333333333335, 1603], [2.0833333333333335, 3453], [2.081081081081081, 3156], [2.08, 765], [2.08, 3821], [2.076923076923077, 1726], [2.076923076923077, 2546], [2.0714285714285716, 1598], [2.0714285714285716, 1667], [2.0714285714285716, 1686], [2.0714285714285716, 3404], [2.066666666666667, 2038], [2.066666666666667, 3355], [2.0652173913043477, 3254], [2.064516129032258, 1091], [2.0625, 81], [2.0625, 891], [2.0625, 1593], [2.0625, 2375], [2.0625, 3660], [2.0588235294117645, 204], [2.0588235294117645, 3269], [2.0588235294117645, 3784], [2.0588235294117645, 3841], [2.057142857142857, 2402], [2.0555555555555554, 459], [2.0555555555555554, 1431], [2.0526315789473686, 135], [2.0526315789473686, 168], [2.05, 1468], [2.0454545454545454, 2249], [2.0434782608695654, 338], [2.0416666666666665, 2429], [2.04, 2052], [2.04, 3388], [2.0357142857142856, 1644], [2.0344827586206895, 2411], [2.0344827586206895, 3258], [2.033333333333333, 3764], [2.0307692307692307, 1037], [2.0294117647058822, 1488], [2.0285714285714285, 2410], [2.0256410256410255, 1409], [2.022727272727273, 2713], [2.022222222222222, 379], [2.0208333333333335, 784], [2.019607843137255, 1373], [2.0163934426229506, 673], [2.0153846153846153, 466], [2.0, 20], [2.0, 23], [2.0, 95], [2.0, 140], [2.0, 267], [2.0, 303], [2.0, 378], [2.0, 414], [2.0, 458], [2.0, 516], [2.0, 518], [2.0, 616], [2.0, 761], [2.0, 836], [2.0, 1064], [2.0, 1353], [2.0, 1404], [2.0, 1460], [2.0, 1592], [2.0, 1604], [2.0, 1806], [2.0, 1969], [2.0, 1976], [2.0, 1977], [2.0, 1978], [2.0, 2040], [2.0, 2043], [2.0, 2241], [2.0, 2264], [2.0, 2279], [2.0, 2306], [2.0, 2374], [2.0, 2430], [2.0, 2497], [2.0, 2526], [2.0, 2530], [2.0, 2533], [2.0, 2661], [2.0, 2851], [2.0, 2861], [2.0, 3190], [2.0, 3286], [2.0, 3509], [2.0, 3743], [2.0, 3791], [2.0, 3834], [1.9841269841269842, 185], [1.9838709677419355, 3113], [1.9836065573770492, 3257], [1.9830508474576272, 208], [1.971830985915493, 153], [1.9705882352941178, 1388], [1.9696969696969697, 1762], [1.9696969696969697, 2082], [1.9696969696969697, 3248], [1.96875, 3004], [1.9615384615384615, 239], [1.9615384615384615, 742], [1.9615384615384615, 3688], [1.9545454545454546, 2808], [1.9523809523809523, 2034], [1.9523809523809523, 2902], [1.95, 782], [1.95, 1515], [1.95, 1995], [1.9473684210526316, 2147], [1.9473684210526316, 3394], [1.9444444444444444, 157], [1.9444444444444444, 1985], [1.9411764705882353, 282], [1.9411764705882353, 2170], [1.9411764705882353, 2316], [1.9411764705882353, 2875], [1.9411764705882353, 3835], [1.9333333333333333, 3511], [1.9285714285714286, 436], [1.9285714285714286, 1590], [1.9285714285714286, 3392], [1.9230769230769231, 1626], [1.9230769230769231, 1783], [1.9230769230769231, 1980], [1.9230769230769231, 2561], [1.9230769230769231, 2794], [1.9230769230769231, 3930], [1.9166666666666667, 1848], [1.9166666666666667, 3497], [1.9130434782608696, 818], [1.9107142857142858, 2616], [1.9090909090909092, 74], [1.9090909090909092, 435], [1.9090909090909092, 606], [1.9090909090909092, 662], [1.9090909090909092, 833], [1.9090909090909092, 1021], [1.9090909090909092, 2267], [1.9090909090909092, 2456], [1.9090909090909092, 3387], [1.9069767441860466, 420], [1.9047619047619047, 575], [1.9047619047619047, 1772], [1.9047619047619047, 1986], [1.9047619047619047, 3864], [1.903225806451613, 1973], [1.9, 2446], [1.9, 3165], [1.896551724137931, 1779], [1.894736842105263, 2615], [1.8928571428571428, 2906], [1.8888888888888888, 172], [1.8888888888888888, 719], [1.8888888888888888, 798], [1.8888888888888888, 2532], [1.8867924528301887, 3438], [1.8846153846153846, 2815], [1.8823529411764706, 544], [1.8823529411764706, 842], [1.8823529411764706, 2091], [1.8823529411764706, 3243], [1.875, 1030], [1.875, 2093], [1.875, 2531], [1.8695652173913044, 709], [1.8666666666666667, 2548], [1.8636363636363635, 2373], [1.8571428571428572, 330], [1.8571428571428572, 1487], [1.8571428571428572, 3901], [1.8571428571428572, 3923], [1.853658536585366, 1920], [1.8529411764705883, 762], [1.8529411764705883, 1702], [1.85, 429], [1.85, 432], [1.8461538461538463, 132], [1.8461538461538463, 1993], [1.8461538461538463, 2089], [1.8421052631578947, 637], [1.8421052631578947, 2247], [1.84, 1359], [1.8387096774193548, 3754], [1.8333333333333333, 19], [1.8333333333333333, 548], [1.8333333333333333, 1526], [1.8333333333333333, 1623], [1.8333333333333333, 2473], [1.8333333333333333, 3431], [1.8333333333333333, 3661], [1.8333333333333333, 3690], [1.830188679245283, 1591], [1.8285714285714285, 2088], [1.8235294117647058, 2163], [1.8214285714285714, 1972], [1.82, 2126], [1.8181818181818181, 2259], [1.8148148148148149, 2668], [1.8135593220338984, 2004], [1.8125, 2169], [1.8095238095238095, 315], [1.8095238095238095, 540], [1.8095238095238095, 542], [1.8076923076923077, 1503], [1.8064516129032258, 464], [1.8, 64], [1.8, 332], [1.8, 489], [1.8, 2095], [1.8, 2142], [1.8, 2385], [1.8, 2950], [1.8, 3664], [1.8, 3672], [1.8, 3693], [1.7954545454545454, 1100], [1.794871794871795, 2421], [1.794871794871795, 2953], [1.7916666666666667, 415], [1.7916666666666667, 829], [1.7894736842105263, 12], [1.7894736842105263, 3238], [1.7894736842105263, 3889], [1.7894736842105263, 3908], [1.7884615384615385, 485], [1.7857142857142858, 547], [1.7857142857142858, 1382], [1.7857142857142858, 3662], [1.7692307692307692, 611], [1.7674418604651163, 3705], [1.7666666666666666, 2471], [1.7647058823529411, 1992], [1.7647058823529411, 2514], [1.76, 1752], [1.7575757575757576, 355], [1.75, 13], [1.75, 193], [1.75, 455], [1.75, 1655], [1.75, 2092], [1.75, 3287], [1.75, 3709], [1.7457627118644068, 1882], [1.7407407407407407, 2367], [1.736842105263158, 65], [1.736842105263158, 2995], [1.7333333333333334, 248], [1.7333333333333334, 1981], [1.7272727272727273, 3432], [1.7222222222222223, 234], [1.7222222222222223, 2162], [1.72, 2123], [1.71875, 2389], [1.7142857142857142, 256], [1.709090909090909, 2719], [1.7073170731707317, 3802], [1.7049180327868851, 2986], [1.7, 325], [1.7, 438], [1.7, 612], [1.6923076923076923, 537], [1.6923076923076923, 1004], [1.6923076923076923, 3877], [1.690909090909091, 849], [1.6896551724137931, 2404], [1.6875, 2328], [1.6842105263157894, 2525], [1.6666666666666667, 126], [1.6666666666666667, 173], [1.6666666666666667, 990], [1.6666666666666667, 1453], [1.6666666666666667, 2119], [1.6666666666666667, 2629], [1.6666666666666667, 3299], [1.6585365853658536, 2338], [1.6511627906976745, 2827], [1.6470588235294117, 694], [1.6428571428571428, 881], [1.6428571428571428, 3774], [1.64, 2408], [1.6363636363636365, 1984], [1.6363636363636365, 3024], [1.6333333333333333, 2448], [1.625, 177], [1.625, 519], [1.6216216216216217, 327], [1.6153846153846154, 92], [1.6153846153846154, 393], [1.6071428571428572, 2042], [1.6046511627906976, 880], [1.6046511627906976, 2720], [1.6, 839], [1.6, 1126], [1.6, 1489], [1.6, 1550], [1.6, 1855], [1.5942028985507246, 1831], [1.5925925925925926, 258], [1.5909090909090908, 3766], [1.588235294117647, 1862], [1.5862068965517242, 688], [1.5833333333333333, 174], [1.5833333333333333, 2381], [1.5789473684210527, 1445], [1.5714285714285714, 2152], [1.5714285714285714, 2380], [1.5625, 1681], [1.5576923076923077, 1562], [1.5555555555555556, 374], [1.55, 1005], [1.55, 2027], [1.5483870967741935, 160], [1.5483870967741935, 2549], [1.5454545454545454, 3401], [1.5384615384615385, 1744], [1.5384615384615385, 1869], [1.5384615384615385, 3768], [1.5217391304347827, 1707], [1.5217391304347827, 3710], [1.52, 405], [1.5151515151515151, 2568], [1.5106382978723405, 2253], [1.510204081632653, 2053], [1.5, 312], [1.5, 360], [1.5, 1499], [1.5, 2016], [1.5, 2412], [1.5, 2828], [1.5, 3767], [1.4782608695652173, 2555], [1.4761904761904763, 15], [1.4736842105263157, 1863], [1.4705882352941178, 2036], [1.4666666666666666, 87], [1.4666666666666666, 1996], [1.462962962962963, 546], [1.4473684210526316, 3593], [1.4444444444444444, 419], [1.4444444444444444, 1606], [1.4375, 2498], [1.4285714285714286, 3824], [1.4186046511627908, 2642], [1.4166666666666667, 2422], [1.40625, 2643], [1.4, 2050], [1.4, 2153], [1.4, 2458], [1.4, 3669], [1.3928571428571428, 3439], [1.391304347826087, 3268], [1.391304347826087, 3325], [1.3846153846153846, 2748], [1.3846153846153846, 3054], [1.3636363636363635, 2392], [1.36, 1381], [1.3571428571428572, 2799], [1.3555555555555556, 2701], [1.346938775510204, 1556], [1.3333333333333333, 631], [1.3333333333333333, 1389], [1.3333333333333333, 2460], [1.3243243243243243, 2450], [1.3157894736842106, 2798], [1.3125, 66], [1.3125, 2149], [1.3076923076923077, 1998], [1.3076923076923077, 3440], [1.3043478260869565, 1474], [1.2941176470588236, 692], [1.2777777777777777, 473], [1.2727272727272727, 93], [1.2692307692307692, 502], [1.25, 169], [1.25, 1750], [1.2142857142857142, 1760], [1.2105263157894737, 3564], [1.2, 71], [1.2, 2886], [1.1904761904761905, 737], [1.1818181818181819, 810], [1.1818181818181819, 1739], [1.1818181818181819, 2816], [1.1764705882352942, 2807], [1.1666666666666667, 2817], [1.1538461538461537, 1497], [1.0909090909090908, 181], [1.0769230769230769, 3799], [1.0, 1599]]\n"
     ]
    }
   ],
   "source": [
    "result_list.sort(key=lambda x: x[0], reverse=True)\n",
    "print(result_list)"
   ]
  },
  {
   "cell_type": "code",
   "execution_count": 70,
   "id": "97cba4c2",
   "metadata": {},
   "outputs": [
    {
     "name": "stdout",
     "output_type": "stream",
     "text": [
      "Top 5 rated movie IDs: [745, 922, 318, 923, 50]\n"
     ]
    }
   ],
   "source": [
    "top_5_movies = []\n",
    "\n",
    "for val, movie_id in result_list[:5]:\n",
    "    top_5_movies.append(movie_id)\n",
    "\n",
    "print(\"Top 5 rated movie IDs:\", top_5_movies)"
   ]
  },
  {
   "cell_type": "code",
   "execution_count": 71,
   "id": "2ff8a51f",
   "metadata": {},
   "outputs": [
    {
     "name": "stdout",
     "output_type": "stream",
     "text": [
      "For User ID: 6042, recommended movies are: \n",
      "- Movie Name: Close Shave, A (1995)                   \n",
      "- Movie Name: Sunset Blvd. (a.k.a. Sunset Boulevard) (1950)\n",
      "- Movie Name: Shawshank Redemption, The (1994)        \n",
      "- Movie Name: Citizen Kane (1941)                     \n",
      "- Movie Name: Usual Suspects, The (1995)              \n"
     ]
    }
   ],
   "source": [
    "print(f\"For User ID: {target_user_id}, recommended movies are: \")\n",
    "for movie_id in top_5_movies:\n",
    "    movie_name = movie_id_to_name.get(movie_id, \"Unknown Movie\")\n",
    "    print(f\"- Movie Name: {movie_name.ljust(40)}\")"
   ]
  },
  {
   "cell_type": "code",
   "execution_count": null,
   "id": "160db591",
   "metadata": {},
   "outputs": [],
   "source": []
  }
 ],
 "metadata": {
  "kernelspec": {
   "display_name": "Python 3 (ipykernel)",
   "language": "python",
   "name": "python3"
  },
  "language_info": {
   "codemirror_mode": {
    "name": "ipython",
    "version": 3
   },
   "file_extension": ".py",
   "mimetype": "text/x-python",
   "name": "python",
   "nbconvert_exporter": "python",
   "pygments_lexer": "ipython3",
   "version": "3.11.5"
  }
 },
 "nbformat": 4,
 "nbformat_minor": 5
}
