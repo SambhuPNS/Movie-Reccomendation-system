{
 "cells": [
  {
   "cell_type": "markdown",
   "id": "0c8981af",
   "metadata": {},
   "source": [
    "Importing Libraries"
   ]
  },
  {
   "cell_type": "code",
   "execution_count": 151,
   "id": "93df62b1",
   "metadata": {},
   "outputs": [],
   "source": [
    "import pandas as pd\n",
    "import numpy as np"
   ]
  },
  {
   "cell_type": "markdown",
   "id": "b6c621c0",
   "metadata": {},
   "source": [
    "## Making of the user genre matrix "
   ]
  },
  {
   "cell_type": "markdown",
   "id": "5979a268",
   "metadata": {},
   "source": [
    "Loading the data "
   ]
  },
  {
   "cell_type": "code",
   "execution_count": 200,
   "id": "9f5002b2",
   "metadata": {},
   "outputs": [],
   "source": [
    "ratings_df = pd.read_csv('ratings.dat', sep='::', engine='python', header=None, names=['UserID', 'MovieID', 'Rating', 'Timestamp'], encoding='ISO-8859-1')\n",
    "users_df = pd.read_csv('users.dat', sep='::', engine='python', header=None, names=['UserID', 'Gender', 'Age', 'Occupation', 'Zip-code'], encoding='ISO-8859-1')\n",
    "movies_df = pd.read_csv('movies.dat', sep='::', engine='python', header=None, names=['MovieID', 'Title', 'Genres'], encoding='ISO-8859-1')"
   ]
  },
  {
   "cell_type": "code",
   "execution_count": 201,
   "id": "2c69f503",
   "metadata": {},
   "outputs": [
    {
     "data": {
      "text/plain": [
       "(3883, 3)"
      ]
     },
     "execution_count": 201,
     "metadata": {},
     "output_type": "execute_result"
    }
   ],
   "source": [
    "movies_df.shape"
   ]
  },
  {
   "cell_type": "code",
   "execution_count": 202,
   "id": "6b57f32f",
   "metadata": {},
   "outputs": [
    {
     "data": {
      "text/html": [
       "<div>\n",
       "<style scoped>\n",
       "    .dataframe tbody tr th:only-of-type {\n",
       "        vertical-align: middle;\n",
       "    }\n",
       "\n",
       "    .dataframe tbody tr th {\n",
       "        vertical-align: top;\n",
       "    }\n",
       "\n",
       "    .dataframe thead th {\n",
       "        text-align: right;\n",
       "    }\n",
       "</style>\n",
       "<table border=\"1\" class=\"dataframe\">\n",
       "  <thead>\n",
       "    <tr style=\"text-align: right;\">\n",
       "      <th></th>\n",
       "      <th>UserID</th>\n",
       "      <th>MovieID</th>\n",
       "      <th>Rating</th>\n",
       "      <th>Timestamp</th>\n",
       "    </tr>\n",
       "  </thead>\n",
       "  <tbody>\n",
       "    <tr>\n",
       "      <th>0</th>\n",
       "      <td>1</td>\n",
       "      <td>1193</td>\n",
       "      <td>5</td>\n",
       "      <td>978300760</td>\n",
       "    </tr>\n",
       "    <tr>\n",
       "      <th>1</th>\n",
       "      <td>1</td>\n",
       "      <td>661</td>\n",
       "      <td>3</td>\n",
       "      <td>978302109</td>\n",
       "    </tr>\n",
       "    <tr>\n",
       "      <th>2</th>\n",
       "      <td>1</td>\n",
       "      <td>914</td>\n",
       "      <td>3</td>\n",
       "      <td>978301968</td>\n",
       "    </tr>\n",
       "    <tr>\n",
       "      <th>3</th>\n",
       "      <td>1</td>\n",
       "      <td>3408</td>\n",
       "      <td>4</td>\n",
       "      <td>978300275</td>\n",
       "    </tr>\n",
       "    <tr>\n",
       "      <th>4</th>\n",
       "      <td>1</td>\n",
       "      <td>2355</td>\n",
       "      <td>5</td>\n",
       "      <td>978824291</td>\n",
       "    </tr>\n",
       "    <tr>\n",
       "      <th>...</th>\n",
       "      <td>...</td>\n",
       "      <td>...</td>\n",
       "      <td>...</td>\n",
       "      <td>...</td>\n",
       "    </tr>\n",
       "    <tr>\n",
       "      <th>1000204</th>\n",
       "      <td>6040</td>\n",
       "      <td>1091</td>\n",
       "      <td>1</td>\n",
       "      <td>956716541</td>\n",
       "    </tr>\n",
       "    <tr>\n",
       "      <th>1000205</th>\n",
       "      <td>6040</td>\n",
       "      <td>1094</td>\n",
       "      <td>5</td>\n",
       "      <td>956704887</td>\n",
       "    </tr>\n",
       "    <tr>\n",
       "      <th>1000206</th>\n",
       "      <td>6040</td>\n",
       "      <td>562</td>\n",
       "      <td>5</td>\n",
       "      <td>956704746</td>\n",
       "    </tr>\n",
       "    <tr>\n",
       "      <th>1000207</th>\n",
       "      <td>6040</td>\n",
       "      <td>1096</td>\n",
       "      <td>4</td>\n",
       "      <td>956715648</td>\n",
       "    </tr>\n",
       "    <tr>\n",
       "      <th>1000208</th>\n",
       "      <td>6040</td>\n",
       "      <td>1097</td>\n",
       "      <td>4</td>\n",
       "      <td>956715569</td>\n",
       "    </tr>\n",
       "  </tbody>\n",
       "</table>\n",
       "<p>1000209 rows × 4 columns</p>\n",
       "</div>"
      ],
      "text/plain": [
       "         UserID  MovieID  Rating  Timestamp\n",
       "0             1     1193       5  978300760\n",
       "1             1      661       3  978302109\n",
       "2             1      914       3  978301968\n",
       "3             1     3408       4  978300275\n",
       "4             1     2355       5  978824291\n",
       "...         ...      ...     ...        ...\n",
       "1000204    6040     1091       1  956716541\n",
       "1000205    6040     1094       5  956704887\n",
       "1000206    6040      562       5  956704746\n",
       "1000207    6040     1096       4  956715648\n",
       "1000208    6040     1097       4  956715569\n",
       "\n",
       "[1000209 rows x 4 columns]"
      ]
     },
     "execution_count": 202,
     "metadata": {},
     "output_type": "execute_result"
    }
   ],
   "source": [
    "ratings_df\n"
   ]
  },
  {
   "cell_type": "markdown",
   "id": "8e65e6ec",
   "metadata": {},
   "source": [
    "Making of User Gnere Matrix "
   ]
  },
  {
   "cell_type": "code",
   "execution_count": 203,
   "id": "6285f48e",
   "metadata": {},
   "outputs": [
    {
     "data": {
      "text/html": [
       "<div>\n",
       "<style scoped>\n",
       "    .dataframe tbody tr th:only-of-type {\n",
       "        vertical-align: middle;\n",
       "    }\n",
       "\n",
       "    .dataframe tbody tr th {\n",
       "        vertical-align: top;\n",
       "    }\n",
       "\n",
       "    .dataframe thead th {\n",
       "        text-align: right;\n",
       "    }\n",
       "</style>\n",
       "<table border=\"1\" class=\"dataframe\">\n",
       "  <thead>\n",
       "    <tr style=\"text-align: right;\">\n",
       "      <th>Genres</th>\n",
       "      <th>Action</th>\n",
       "      <th>Adventure</th>\n",
       "      <th>Animation</th>\n",
       "      <th>Children's</th>\n",
       "      <th>Comedy</th>\n",
       "      <th>Crime</th>\n",
       "      <th>Documentary</th>\n",
       "      <th>Drama</th>\n",
       "      <th>Fantasy</th>\n",
       "      <th>Film-Noir</th>\n",
       "      <th>Horror</th>\n",
       "      <th>Musical</th>\n",
       "      <th>Mystery</th>\n",
       "      <th>Romance</th>\n",
       "      <th>Sci-Fi</th>\n",
       "      <th>Thriller</th>\n",
       "      <th>War</th>\n",
       "      <th>Western</th>\n",
       "    </tr>\n",
       "    <tr>\n",
       "      <th>UserID</th>\n",
       "      <th></th>\n",
       "      <th></th>\n",
       "      <th></th>\n",
       "      <th></th>\n",
       "      <th></th>\n",
       "      <th></th>\n",
       "      <th></th>\n",
       "      <th></th>\n",
       "      <th></th>\n",
       "      <th></th>\n",
       "      <th></th>\n",
       "      <th></th>\n",
       "      <th></th>\n",
       "      <th></th>\n",
       "      <th></th>\n",
       "      <th></th>\n",
       "      <th></th>\n",
       "      <th></th>\n",
       "    </tr>\n",
       "  </thead>\n",
       "  <tbody>\n",
       "    <tr>\n",
       "      <th>1</th>\n",
       "      <td>4.200000</td>\n",
       "      <td>4.000000</td>\n",
       "      <td>4.111111</td>\n",
       "      <td>4.250000</td>\n",
       "      <td>4.142857</td>\n",
       "      <td>4.000000</td>\n",
       "      <td>NaN</td>\n",
       "      <td>4.428571</td>\n",
       "      <td>4.0</td>\n",
       "      <td>NaN</td>\n",
       "      <td>NaN</td>\n",
       "      <td>4.285714</td>\n",
       "      <td>NaN</td>\n",
       "      <td>3.666667</td>\n",
       "      <td>4.333333</td>\n",
       "      <td>3.666667</td>\n",
       "      <td>5.000000</td>\n",
       "      <td>NaN</td>\n",
       "    </tr>\n",
       "    <tr>\n",
       "      <th>2</th>\n",
       "      <td>3.500000</td>\n",
       "      <td>3.736842</td>\n",
       "      <td>NaN</td>\n",
       "      <td>NaN</td>\n",
       "      <td>3.560000</td>\n",
       "      <td>3.583333</td>\n",
       "      <td>NaN</td>\n",
       "      <td>3.898734</td>\n",
       "      <td>3.0</td>\n",
       "      <td>4.0</td>\n",
       "      <td>3.000000</td>\n",
       "      <td>NaN</td>\n",
       "      <td>3.333333</td>\n",
       "      <td>3.708333</td>\n",
       "      <td>3.588235</td>\n",
       "      <td>3.483871</td>\n",
       "      <td>3.733333</td>\n",
       "      <td>4.333333</td>\n",
       "    </tr>\n",
       "    <tr>\n",
       "      <th>3</th>\n",
       "      <td>3.956522</td>\n",
       "      <td>4.000000</td>\n",
       "      <td>4.000000</td>\n",
       "      <td>4.000000</td>\n",
       "      <td>3.766667</td>\n",
       "      <td>NaN</td>\n",
       "      <td>NaN</td>\n",
       "      <td>4.000000</td>\n",
       "      <td>4.5</td>\n",
       "      <td>NaN</td>\n",
       "      <td>2.666667</td>\n",
       "      <td>4.000000</td>\n",
       "      <td>3.000000</td>\n",
       "      <td>3.800000</td>\n",
       "      <td>3.833333</td>\n",
       "      <td>3.800000</td>\n",
       "      <td>4.000000</td>\n",
       "      <td>4.666667</td>\n",
       "    </tr>\n",
       "    <tr>\n",
       "      <th>4</th>\n",
       "      <td>4.157895</td>\n",
       "      <td>3.833333</td>\n",
       "      <td>NaN</td>\n",
       "      <td>4.000000</td>\n",
       "      <td>NaN</td>\n",
       "      <td>5.000000</td>\n",
       "      <td>NaN</td>\n",
       "      <td>4.166667</td>\n",
       "      <td>4.5</td>\n",
       "      <td>NaN</td>\n",
       "      <td>4.333333</td>\n",
       "      <td>NaN</td>\n",
       "      <td>NaN</td>\n",
       "      <td>4.000000</td>\n",
       "      <td>3.555556</td>\n",
       "      <td>3.500000</td>\n",
       "      <td>3.333333</td>\n",
       "      <td>4.500000</td>\n",
       "    </tr>\n",
       "    <tr>\n",
       "      <th>5</th>\n",
       "      <td>2.612903</td>\n",
       "      <td>3.000000</td>\n",
       "      <td>4.000000</td>\n",
       "      <td>3.833333</td>\n",
       "      <td>3.410714</td>\n",
       "      <td>3.285714</td>\n",
       "      <td>3.666667</td>\n",
       "      <td>3.096154</td>\n",
       "      <td>NaN</td>\n",
       "      <td>4.0</td>\n",
       "      <td>2.800000</td>\n",
       "      <td>3.333333</td>\n",
       "      <td>3.125000</td>\n",
       "      <td>3.100000</td>\n",
       "      <td>3.066667</td>\n",
       "      <td>2.846154</td>\n",
       "      <td>3.500000</td>\n",
       "      <td>4.000000</td>\n",
       "    </tr>\n",
       "  </tbody>\n",
       "</table>\n",
       "</div>"
      ],
      "text/plain": [
       "Genres    Action  Adventure  Animation  Children's    Comedy     Crime  \\\n",
       "UserID                                                                   \n",
       "1       4.200000   4.000000   4.111111    4.250000  4.142857  4.000000   \n",
       "2       3.500000   3.736842        NaN         NaN  3.560000  3.583333   \n",
       "3       3.956522   4.000000   4.000000    4.000000  3.766667       NaN   \n",
       "4       4.157895   3.833333        NaN    4.000000       NaN  5.000000   \n",
       "5       2.612903   3.000000   4.000000    3.833333  3.410714  3.285714   \n",
       "\n",
       "Genres  Documentary     Drama  Fantasy  Film-Noir    Horror   Musical  \\\n",
       "UserID                                                                  \n",
       "1               NaN  4.428571      4.0        NaN       NaN  4.285714   \n",
       "2               NaN  3.898734      3.0        4.0  3.000000       NaN   \n",
       "3               NaN  4.000000      4.5        NaN  2.666667  4.000000   \n",
       "4               NaN  4.166667      4.5        NaN  4.333333       NaN   \n",
       "5          3.666667  3.096154      NaN        4.0  2.800000  3.333333   \n",
       "\n",
       "Genres   Mystery   Romance    Sci-Fi  Thriller       War   Western  \n",
       "UserID                                                              \n",
       "1            NaN  3.666667  4.333333  3.666667  5.000000       NaN  \n",
       "2       3.333333  3.708333  3.588235  3.483871  3.733333  4.333333  \n",
       "3       3.000000  3.800000  3.833333  3.800000  4.000000  4.666667  \n",
       "4            NaN  4.000000  3.555556  3.500000  3.333333  4.500000  \n",
       "5       3.125000  3.100000  3.066667  2.846154  3.500000  4.000000  "
      ]
     },
     "execution_count": 203,
     "metadata": {},
     "output_type": "execute_result"
    }
   ],
   "source": [
    "# Merge ratings and movies data on MovieID\n",
    "merged_df = pd.merge(ratings_df, movies_df, on='MovieID')\n",
    "merged_df1 = merged_df.assign(Genres=merged_df['Genres'].str.split('|')).explode('Genres').reset_index(drop=True)\n",
    "ratings = merged_df1.pivot_table(values='Rating', index='UserID', columns='Genres', aggfunc='mean')\n",
    "ratings.head()"
   ]
  },
  {
   "cell_type": "code",
   "execution_count": 204,
   "id": "4b14f385",
   "metadata": {},
   "outputs": [
    {
     "data": {
      "text/plain": [
       "(6040, 18)"
      ]
     },
     "execution_count": 204,
     "metadata": {},
     "output_type": "execute_result"
    }
   ],
   "source": [
    "ratings.shape"
   ]
  },
  {
   "cell_type": "code",
   "execution_count": 19,
   "id": "5684a826",
   "metadata": {},
   "outputs": [
    {
     "name": "stdout",
     "output_type": "stream",
     "text": [
      "[[4.2        4.         4.11111111 ... 3.66666667 5.         0.        ]\n",
      " [3.5        3.73684211 0.         ... 3.48387097 3.73333333 4.33333333]\n",
      " [3.95652174 4.         4.         ... 3.8        4.         4.66666667]\n",
      " ...\n",
      " [3.         4.         3.66666667 ... 0.         4.         0.        ]\n",
      " [4.         4.1        3.61538462 ... 4.14285714 4.11111111 4.5       ]\n",
      " [2.97619048 2.81818182 3.         ... 3.92682927 3.69565217 4.        ]]\n"
     ]
    }
   ],
   "source": [
    "ratings_array = ratings.to_numpy()\n",
    "#Replace NaN values with 0\n",
    "ratings_array[np.isnan(ratings_array)] = 0\n",
    "print(ratings_array)"
   ]
  },
  {
   "cell_type": "code",
   "execution_count": 153,
   "id": "306fc71e",
   "metadata": {},
   "outputs": [],
   "source": [
    "# Save the array to a CSV file\n",
    "np.savetxt('ratings_array.csv', ratings_array, delimiter=',', fmt='%d')"
   ]
  },
  {
   "cell_type": "code",
   "execution_count": 46,
   "id": "4d53cc1d",
   "metadata": {
    "scrolled": true
   },
   "outputs": [
    {
     "name": "stdout",
     "output_type": "stream",
     "text": [
      "Sparsity: 13.64%\n"
     ]
    }
   ],
   "source": [
    "sparsity = np.sum(np.isnan(ratings_array) | (ratings_array == 0)) / ratings_array.size\n",
    "sparsity_percentage = sparsity * 100\n",
    "\n",
    "print(\"Sparsity: {:.2f}%\".format(sparsity_percentage))\n"
   ]
  },
  {
   "cell_type": "markdown",
   "id": "e38d5af8",
   "metadata": {},
   "source": [
    "## Making of User_similarity Matrix "
   ]
  },
  {
   "cell_type": "code",
   "execution_count": 37,
   "id": "aa479e39",
   "metadata": {},
   "outputs": [],
   "source": [
    "def pearson_similarity(user1, user2):\n",
    "    # Calculate mean for each user\n",
    "    mean_user1 = np.mean(user1)\n",
    "    mean_user2 = np.mean(user2)\n",
    "\n",
    "    # Subtract mean from ratings\n",
    "    adjusted_user1 = user1 - mean_user1\n",
    "    adjusted_user2 = user2 - mean_user2\n",
    "\n",
    "    # Calculate Pearson correlation coefficient\n",
    "    numerator = np.sum(adjusted_user1 * adjusted_user2)\n",
    "    denominator = np.sqrt(np.sum(adjusted_user1**2) * np.sum(adjusted_user2**2))\n",
    "\n",
    "    # Avoid division by zero\n",
    "    if denominator == 0:\n",
    "        return 0\n",
    "\n",
    "    similarity = numerator / denominator\n",
    "    return similarity"
   ]
  },
  {
   "cell_type": "code",
   "execution_count": 38,
   "id": "6df7a4a4",
   "metadata": {},
   "outputs": [],
   "source": [
    "def calculate_user_similarity(user_genre_matrix):\n",
    "    num_users = user_genre_matrix.shape[0]\n",
    "    user_similarity_matrix = np.zeros((num_users, num_users))\n",
    "\n",
    "    for i in range(num_users):\n",
    "        for j in range(i + 1, num_users):\n",
    "            # Calculate Pearson correlation coefficient between user i and user j\n",
    "            similarity = pearson_similarity(user_genre_matrix[i, :], user_genre_matrix[j, :])\n",
    "\n",
    "            # Store the correlation coefficient in both symmetric positions\n",
    "            user_similarity_matrix[i, j] = similarity\n",
    "            user_similarity_matrix[j, i] = similarity\n",
    "\n",
    "    # Set diagonal elements to 1, as a user is perfectly correlated with themselves\n",
    "    np.fill_diagonal(user_similarity_matrix, 1)\n",
    "\n",
    "    return user_similarity_matrix"
   ]
  },
  {
   "cell_type": "code",
   "execution_count": 39,
   "id": "f0157068",
   "metadata": {},
   "outputs": [
    {
     "name": "stdout",
     "output_type": "stream",
     "text": [
      "User Similarity Matrix:\n",
      "[[ 1.         -0.0585156   0.48528202 ...  0.5429454   0.2157542\n",
      "  -0.30879632]\n",
      " [-0.0585156   1.          0.07193115 ...  0.10728314  0.60805073\n",
      "  -0.17778243]\n",
      " [ 0.48528202  0.07193115  1.         ...  0.44675739  0.41339611\n",
      "  -0.36576854]\n",
      " ...\n",
      " [ 0.5429454   0.10728314  0.44675739 ...  1.          0.17972952\n",
      "  -0.62211261]\n",
      " [ 0.2157542   0.60805073  0.41339611 ...  0.17972952  1.\n",
      "  -0.31988178]\n",
      " [-0.30879632 -0.17778243 -0.36576854 ... -0.62211261 -0.31988178\n",
      "   1.        ]]\n"
     ]
    }
   ],
   "source": [
    "user_similarity_matrix = calculate_user_similarity(ratings_array)\n",
    "\n",
    "print(\"User Similarity Matrix:\")\n",
    "print(user_similarity_matrix)"
   ]
  },
  {
   "cell_type": "code",
   "execution_count": 154,
   "id": "ca7563a1",
   "metadata": {},
   "outputs": [],
   "source": [
    "# Save the array to a CSV file\n",
    "np.savetxt('user_similarity_matrix.csv', user_similarity_matrix, delimiter=',', fmt='%d')"
   ]
  },
  {
   "cell_type": "markdown",
   "id": "4aad119d",
   "metadata": {},
   "source": [
    "## For Predicting "
   ]
  },
  {
   "cell_type": "code",
   "execution_count": 174,
   "id": "8032113d",
   "metadata": {},
   "outputs": [],
   "source": [
    "def get_similar_users(user_id, user_similarity_matrix, k=10):\n",
    "    user_index = user_id - 1  # Assuming user IDs start from 1\n",
    "    similar_users_indices = np.argsort(user_similarity_matrix[user_index, :])[::-1][1:k+1]\n",
    "    \n",
    "    return similar_users_indices + 1  # Adding 1 to convert back to 1-based user IDs\n"
   ]
  },
  {
   "cell_type": "code",
   "execution_count": 175,
   "id": "d7a94c57",
   "metadata": {},
   "outputs": [],
   "source": [
    "def create_user_movie_matrix(df):\n",
    "    # Get unique user and movie IDs\n",
    "    unique_users = df['UserID'].unique()\n",
    "    unique_movies = df['MovieID'].unique()\n",
    "\n",
    "    # Create a user-movie matrix filled with zeros\n",
    "    user_movie_matrix = np.zeros((len(unique_users), len(unique_movies)))\n",
    "\n",
    "    # Map user and movie IDs to matrix indices\n",
    "    user_id_to_index = {user_id: i for i, user_id in enumerate(unique_users)}\n",
    "    movie_id_to_index = {movie_id: j for j, movie_id in enumerate(unique_movies)}\n",
    "\n",
    "    # Fill in the matrix with ratings\n",
    "    for _, row in df.iterrows():\n",
    "        user_index = user_id_to_index[row['UserID']]\n",
    "        movie_index = movie_id_to_index[row['MovieID']]\n",
    "        user_movie_matrix[user_index, movie_index] = row['Rating']\n",
    "\n",
    "    return user_movie_matrix, user_id_to_index, movie_id_to_index"
   ]
  },
  {
   "cell_type": "markdown",
   "id": "dd67c790",
   "metadata": {},
   "source": [
    "User movie matrix "
   ]
  },
  {
   "cell_type": "code",
   "execution_count": 43,
   "id": "a4cdb55a",
   "metadata": {
    "scrolled": true
   },
   "outputs": [
    {
     "name": "stdout",
     "output_type": "stream",
     "text": [
      "User-Movie Matrix:\n",
      "[[5. 3. 3. ... 0. 0. 0.]\n",
      " [5. 0. 0. ... 0. 0. 0.]\n",
      " [0. 0. 0. ... 0. 0. 0.]\n",
      " ...\n",
      " [0. 0. 0. ... 0. 0. 0.]\n",
      " [0. 3. 4. ... 0. 0. 0.]\n",
      " [4. 0. 0. ... 0. 0. 0.]]\n"
     ]
    }
   ],
   "source": [
    "# Example usage\n",
    "user_movie_matrix, user_id_to_index, movie_id_to_index = create_user_movie_matrix(ratings_df)\n",
    "\n",
    "print(\"User-Movie Matrix:\")\n",
    "print(user_movie_matrix)"
   ]
  },
  {
   "cell_type": "code",
   "execution_count": 155,
   "id": "0c53ff1b",
   "metadata": {},
   "outputs": [
    {
     "data": {
      "text/plain": [
       "(6040, 3706)"
      ]
     },
     "execution_count": 155,
     "metadata": {},
     "output_type": "execute_result"
    }
   ],
   "source": [
    "# Save the array to a CSV file\n",
    "np.savetxt('user_movie_matrix.csv', user_movie_matrix, delimiter=',', fmt='%d')\n",
    "user_movie_matrix.shape"
   ]
  },
  {
   "cell_type": "code",
   "execution_count": 234,
   "id": "1217b503",
   "metadata": {},
   "outputs": [],
   "source": [
    "def get_movies_watched(user_id, user_movie_matrix):\n",
    "    # Assuming user IDs start from 1\n",
    "    user_index = user_id - 1\n",
    "\n",
    "    # Get the non-zero indices in the row corresponding to the user\n",
    "    watched_indices = np.nonzero(user_movie_matrix[user_index, :])[0]\n",
    "\n",
    "    # Assuming the movies are represented by their indices\n",
    "    return list(watched_indices + 1)  # Adding 1 to convert to 1-based movie IDs\n"
   ]
  },
  {
   "cell_type": "markdown",
   "id": "854a29e5",
   "metadata": {},
   "source": [
    "Function to return the movies watched by rthe similar users which the given user have not watched "
   ]
  },
  {
   "cell_type": "code",
   "execution_count": 176,
   "id": "b05f7c28",
   "metadata": {},
   "outputs": [],
   "source": [
    "def get_unwatched_movies(user_id, user_movie_matrix, similar_users, movies_watched):\n",
    "    # Get the movies watched by the target user\n",
    "    target_user_movies = set(movies_watched)\n",
    "\n",
    "    # Get the movies watched by similar users\n",
    "    similar_users_movies = set()\n",
    "    for similar_user_id in similar_users:\n",
    "        similar_users_movies.update(np.where(user_movie_matrix[similar_user_id - 1, :] > 0)[0] + 1)\n",
    "\n",
    "    # Find the movies that similar users have watched but the target user has not\n",
    "    unwatched_movies = similar_users_movies - target_user_movies\n",
    "\n",
    "    return list(unwatched_movies)\n"
   ]
  },
  {
   "cell_type": "code",
   "execution_count": 177,
   "id": "faee2690",
   "metadata": {},
   "outputs": [],
   "source": [
    "def predict_ratings_for_unwatched_movies(user_id, unwatched_movies, user_movie_matrix, user_similarity_matrix, similar_users):\n",
    "    # Get the index for the target user and similar users\n",
    "    user_index = user_id - 1\n",
    "    similar_users_indices = np.array(similar_users) - 1\n",
    "\n",
    "    # Get the ratings for unwatched movies by similar users\n",
    "    ratings_by_similar_users = user_movie_matrix[similar_users_indices[:, np.newaxis], np.array(unwatched_movies) - 1]\n",
    "    #print(\"shape of ratings_by_similar_users:\",ratings_by_similar_users.shape)  (10,350)\n",
    "\n",
    "    # Transpose the ratings_by_similar_users array\n",
    "    #ratings_by_similar_users = ratings_by_similar_users.T\n",
    "\n",
    "    # Get the similarity weights for similar users\n",
    "    similarity_weights = user_similarity_matrix[user_index, similar_users_indices]\n",
    "    #print(\"similarity_weights:\",similarity_weights)\n",
    "\n",
    "    # Predict the ratings for unwatched movies using the weighted sum formula\n",
    "    mean_user_rating = np.mean(user_movie_matrix[user_index, :])\n",
    "    #predicted_ratings = mean_user_rating + np.sum(similarity_weights * ratings_by_similar_users, axis=0) / np.sum(np.abs(similarity_weights))\n",
    "    predicted_ratings = []\n",
    "    for movie_id in unwatched_movies:\n",
    "        similar_user_ratings = ratings_by_similar_users[:, unwatched_movies.index(movie_id)]\n",
    "        predicted_rating = mean_user_rating + np.sum(similarity_weights * similar_user_ratings) / np.sum(np.abs(similarity_weights))\n",
    "        predicted_ratings.append(predicted_rating)\n",
    "        \n",
    "    # Normalize the predicted ratings to be within the range of 1 to 5\n",
    "    min_rating, max_rating = 1, 5\n",
    "    predicted_ratings = min_rating + (max_rating - min_rating) * (predicted_ratings - np.min(predicted_ratings)) / (np.max(predicted_ratings) - np.min(predicted_ratings))\n",
    "    #print(\"shape of predicted_ratings:\",predicted_ratings.shape)\n",
    "    \n",
    "    # Create a dictionary with movie IDs and their predicted ratings\n",
    "    predictions = dict(zip(unwatched_movies, predicted_ratings))\n",
    "    #print(\"shape of predictions:\",predictions)\n",
    "\n",
    "    return predictions\n"
   ]
  },
  {
   "cell_type": "code",
   "execution_count": 178,
   "id": "5f827a4e",
   "metadata": {},
   "outputs": [],
   "source": [
    "def get_top_10_rated_movies(movie_ratings):\n",
    "    \n",
    "  # Sort the dictionary by rating in descending order\n",
    "  sorted_movies = sorted(movie_ratings.items(), key=lambda item: item[1], reverse=True)\n",
    "\n",
    "  # Get the top 10 rated movies\n",
    "  top_10_movies = sorted_movies[:10]\n",
    "\n",
    "  # Extract the movie IDs from the top 10 rated movies\n",
    "  top_10_movie_ids = [movie_id for movie_id, _ in top_10_movies]\n",
    "\n",
    "  return top_10_movie_ids"
   ]
  },
  {
   "cell_type": "code",
   "execution_count": 179,
   "id": "7ac7c88f",
   "metadata": {},
   "outputs": [],
   "source": [
    "# Create the movie_id_to_name dictionary\n",
    "movie_id_to_name = dict(zip(movies_df['MovieID'], movies_df['Title']))"
   ]
  },
  {
   "cell_type": "markdown",
   "id": "bc4d294c",
   "metadata": {},
   "source": [
    "## Giving the movie reccomendation for a given user "
   ]
  },
  {
   "cell_type": "markdown",
   "id": "c374a7a8",
   "metadata": {},
   "source": [
    "replace the user_id value with the user id you want to predict ratings for "
   ]
  },
  {
   "cell_type": "code",
   "execution_count": 239,
   "id": "0150d885",
   "metadata": {},
   "outputs": [
    {
     "name": "stdout",
     "output_type": "stream",
     "text": [
      "Top 10 rated movies:\n",
      "- Movie Name: Assassins (1995)                         | Predicted Rating: 5.00\n",
      "- Movie Name: Brothers in Trouble (1995)               | Predicted Rating: 4.38\n",
      "- Movie Name: Shopping (1994)                          | Predicted Rating: 4.29\n",
      "- Movie Name: Juror, The (1996)                        | Predicted Rating: 4.28\n",
      "- Movie Name: When Night Is Falling (1995)             | Predicted Rating: 4.28\n",
      "- Movie Name: Addiction, The (1995)                    | Predicted Rating: 4.28\n",
      "- Movie Name: Vampire in Brooklyn (1995)               | Predicted Rating: 4.28\n",
      "- Movie Name: Captives (1994)                          | Predicted Rating: 4.08\n",
      "- Movie Name: Crimson Tide (1995)                      | Predicted Rating: 3.97\n",
      "- Movie Name: Johnny Mnemonic (1995)                   | Predicted Rating: 3.97\n"
     ]
    }
   ],
   "source": [
    "\n",
    "user_id = 28  # Replace with the target user ID\n",
    "\n",
    "similar_users = get_similar_users(user_id, user_similarity_matrix, k=10)\n",
    "#print(\"similar users :\",similar_users)\n",
    "\n",
    "movies_watched = get_movies_watched(user_id, user_movie_matrix) \n",
    "#print(\"movies watched:\",movies_watched)\n",
    "\n",
    "unwatched_movies = get_unwatched_movies(user_id, user_movie_matrix, similar_users, movies_watched)  # Replace with the list of unwatched movie IDs\n",
    "#print(\"unwatched_movies:\",movies_watched)\n",
    "\n",
    "predictions = predict_ratings_for_unwatched_movies(user_id, unwatched_movies, user_movie_matrix, user_similarity_matrix, similar_users)\n",
    "\n",
    "top_10_movie_ids = get_top_10_rated_movies(predictions)\n",
    "\n",
    "print(\"Top 10 rated movies:\")\n",
    "for movie_id in top_10_movie_ids:\n",
    "    predicted_rating = predictions.get(movie_id, \"Not Predicted\")\n",
    "    movie_name = movie_id_to_name.get(movie_id, \"Unknown Movie\")\n",
    "\n",
    "    # Print the movie name and predicted rating\n",
    "    print(f\"- Movie Name: {movie_name.ljust(40)} | Predicted Rating: {predicted_rating:.2f}\")\n",
    "\n"
   ]
  },
  {
   "cell_type": "markdown",
   "id": "a4f33dba",
   "metadata": {},
   "source": [
    "## Giving Movie reccommendation for a new user "
   ]
  },
  {
   "cell_type": "markdown",
   "id": "e927400d",
   "metadata": {},
   "source": [
    "Taking input from user "
   ]
  },
  {
   "cell_type": "code",
   "execution_count": 337,
   "id": "de6e3174",
   "metadata": {},
   "outputs": [
    {
     "name": "stdout",
     "output_type": "stream",
     "text": [
      "Enter User ID: 6041\n",
      "Enter the number of movies you want to rate: 2\n",
      "Enter movie name: Things to Do in Denver when You're Dead (1995)\n",
      "Enter rating for Things to Do in Denver when You're Dead (1995): 4.5\n",
      "Enter movie name: Angels and Insects (1995)\n",
      "Enter rating for Angels and Insects (1995): 3\n",
      "   UserID  MovieID  Rating\n",
      "0    6041       81     4.5\n",
      "1    6041       85     3.0\n"
     ]
    }
   ],
   "source": [
    "# Take user input for user ID\n",
    "user_id = int(input(\"Enter User ID: \"))\n",
    "\n",
    "# Take the number of movies as input\n",
    "num_movies = int(input(\"Enter the number of movies you want to rate: \"))\n",
    "\n",
    "# Create empty lists to store movie names and ratings\n",
    "movie_names = []\n",
    "ratings_new = []\n",
    "\n",
    "# Use a loop to take input for each movie\n",
    "for _ in range(num_movies):\n",
    "    movie_name = input(\"Enter movie name: \")\n",
    "    \n",
    "    # Check if the entered movie name is in the DataFrame\n",
    "    if movie_name in movies_df['Title'].values:\n",
    "        rating = float(input(f\"Enter rating for {movie_name}: \"))\n",
    "        movie_names.append(movie_name)\n",
    "        ratings_new.append(rating)\n",
    "    else:\n",
    "        print(f\"{movie_name} not found in the movie database. Please enter a valid movie name.\")\n",
    "\n",
    "# Create a DataFrame with user input\n",
    "user_input_data = {'UserID': [user_id] * len(movie_names),\n",
    "                   'MovieID': movies_df[movies_df['Title'].isin(movie_names)]['MovieID'].tolist(),\n",
    "                   'Rating': ratings_new}\n",
    "\n",
    "user_input_df = pd.DataFrame(user_input_data)\n",
    "\n",
    "# Display the resulting DataFrame\n",
    "print(user_input_df)"
   ]
  },
  {
   "cell_type": "code",
   "execution_count": 338,
   "id": "35df7ef5",
   "metadata": {},
   "outputs": [],
   "source": [
    "genres_list = ['Action', 'Adventure', 'Animation', 'Children\\'s', 'Comedy', 'Crime', 'Documentary', 'Drama', 'Fantasy',\n",
    "          'Film-Noir', 'Horror', 'Musical', 'Mystery', 'Romance', 'Sci-Fi', 'Thriller', 'War', 'Western']\n",
    "\n",
    "# Merge new user ratings with movies data\n",
    "new_user_merged_df = pd.merge(user_input_df, movies_df, left_on='MovieID', right_on='MovieID')\n",
    "\n",
    "# Explode genres and create a pivot table for the new user\n",
    "new_user_genres_df = new_user_merged_df.assign(Genres=new_user_merged_df['Genres'].str.split('|')).explode('Genres').reset_index(drop=True)\n",
    "new_user_ratings_pivot = new_user_genres_df.pivot_table(values='Rating', index='UserID', columns='Genres', aggfunc='mean')\n",
    "\n",
    "# Fill NaN values with 0\n",
    "new_user_ratings_pivot = new_user_ratings_pivot.fillna(0)\n",
    "\n",
    "column_names_array = np.array(new_user_ratings_pivot.columns)\n",
    "\n",
    "# Create an empty list to store the values\n",
    "result_values = []\n",
    "\n",
    "# Iterate through genres_list\n",
    "for genre in genres_list:\n",
    "    # Check if the genre is present in column_names_array\n",
    "    if genre in column_names_array:\n",
    "        # If present, append the corresponding value from the DataFrame\n",
    "        result_values.append(new_user_ratings_pivot[genre].values[0])\n",
    "    else:\n",
    "        result_values.append(0)\n",
    "        \n",
    "new_user_genere_matrix = np.array(result_values)\n",
    "user_genre_matrix = ratings_array"
   ]
  },
  {
   "cell_type": "code",
   "execution_count": 339,
   "id": "87834d09",
   "metadata": {},
   "outputs": [
    {
     "data": {
      "text/plain": [
       "(18,)"
      ]
     },
     "execution_count": 339,
     "metadata": {},
     "output_type": "execute_result"
    }
   ],
   "source": [
    "new_user_genere_matrix.shape"
   ]
  },
  {
   "cell_type": "code",
   "execution_count": 340,
   "id": "2ae48f29",
   "metadata": {},
   "outputs": [],
   "source": [
    "num_users = user_genre_matrix.shape[0]\n",
    "new_user_similarity_vector = np.zeros((1, num_users))\n",
    "\n",
    "for i in range(num_users):\n",
    "    # Calculate Pearson correlation coefficient between user i and user j\n",
    "    similarity = pearson_similarity(user_genre_matrix[i, :],new_user_genere_matrix)\n",
    "    # Store the correlation coefficient in both symmetric positions\n",
    "    new_user_similarity_vector[0, i] = similarity\n",
    "\n",
    "final_user_similarity_matrix = np.vstack([user_similarity_matrix, new_user_similarity_vector])"
   ]
  },
  {
   "cell_type": "code",
   "execution_count": 341,
   "id": "1254e7ee",
   "metadata": {},
   "outputs": [
    {
     "data": {
      "text/plain": [
       "(6041, 6040)"
      ]
     },
     "execution_count": 341,
     "metadata": {},
     "output_type": "execute_result"
    }
   ],
   "source": [
    "final_user_similarity_matrix.shape"
   ]
  },
  {
   "cell_type": "code",
   "execution_count": 342,
   "id": "b8053c67",
   "metadata": {},
   "outputs": [],
   "source": [
    "# Get unique MovieIDs from user_input_df\n",
    "user_movie_ids = user_input_df['MovieID'].unique()\n",
    "\n",
    "# Create a new DataFrame with all MovieIDs and merge it with user_input_df\n",
    "all_movies_df = pd.DataFrame({'MovieID': movies_df['MovieID']})\n",
    "user_input_with_zeros = pd.merge(all_movies_df, user_input_df, on=['MovieID'], how='left').fillna(0)\n",
    "\n",
    "# Create a vector for the new user with ratings for specific movies and 0 for others\n",
    "new_user_movie_vector = user_input_with_zeros.sort_values(by='MovieID')['Rating'].values\n",
    "\n",
    "# Trim the new user vector to match the number of movies in the existing user-movie matrix\n",
    "new_user_movie_vector = new_user_movie_vector[:user_movie_matrix.shape[1]]\n",
    "\n",
    "final_user_movie_matrix = np.vstack([user_movie_matrix, new_user_movie_vector])"
   ]
  },
  {
   "cell_type": "code",
   "execution_count": 343,
   "id": "dbca3cea",
   "metadata": {},
   "outputs": [
    {
     "data": {
      "text/plain": [
       "(6041, 3706)"
      ]
     },
     "execution_count": 343,
     "metadata": {},
     "output_type": "execute_result"
    }
   ],
   "source": [
    "final_user_movie_matrix.shape"
   ]
  },
  {
   "cell_type": "raw",
   "id": "861ac312",
   "metadata": {},
   "source": [
    "# Trim the new user vector to match the number of movies in the existing user-movie matrix\n",
    "new_user_movie_vector = new_user_movie_vector[:user_movie_matrix.shape[1]]\n"
   ]
  },
  {
   "cell_type": "code",
   "execution_count": 344,
   "id": "acc8600d",
   "metadata": {},
   "outputs": [
    {
     "name": "stdout",
     "output_type": "stream",
     "text": [
      "Top 10 rated movies:\n",
      "- Movie Name: Bridges of Madison County, The (1995)    | Predicted Rating: 5.00\n",
      "- Movie Name: Mighty Aphrodite (1995)                  | Predicted Rating: 3.90\n",
      "- Movie Name: Pie in the Sky (1995)                    | Predicted Rating: 3.57\n",
      "- Movie Name: Clueless (1995)                          | Predicted Rating: 3.54\n",
      "- Movie Name: Once Upon a Time... When We Were Colored (1995) | Predicted Rating: 3.44\n",
      "- Movie Name: Coneheads (1993)                         | Predicted Rating: 3.09\n",
      "- Movie Name: Ransom (1996)                            | Predicted Rating: 3.09\n",
      "- Movie Name: Net, The (1995)                          | Predicted Rating: 3.02\n",
      "- Movie Name: I, Worst of All (Yo, la peor de todas) (1990) | Predicted Rating: 2.94\n",
      "- Movie Name: Glass Shield, The (1994)                 | Predicted Rating: 2.84\n"
     ]
    }
   ],
   "source": [
    "user_id = user_input_df['UserID'].iloc[0]\n",
    "\n",
    "similar_users = get_similar_users(user_id, final_user_similarity_matrix, k=10)\n",
    "#print(\"similar users :\",similar_users)\n",
    "\n",
    "movies_watched = get_movies_watched(user_id, final_user_movie_matrix) \n",
    "#print(\"movies watched:\",movies_watched)\n",
    "\n",
    "unwatched_movies = get_unwatched_movies(user_id, final_user_movie_matrix, similar_users, movies_watched)  # Replace with the list of unwatched movie IDs\n",
    "#print(\"unwatched_movies:\",movies_watched)\n",
    "\n",
    "predictions = predict_ratings_for_unwatched_movies(user_id, unwatched_movies, final_user_movie_matrix, final_user_similarity_matrix, similar_users)\n",
    "\n",
    "top_10_movie_ids = get_top_10_rated_movies(predictions)\n",
    "\n",
    "print(\"Top 10 rated movies:\")\n",
    "for movie_id in top_10_movie_ids:\n",
    "    predicted_rating = predictions.get(movie_id, \"Not Predicted\")\n",
    "    movie_name = movie_id_to_name.get(movie_id, \"Unknown Movie\")\n",
    "\n",
    "    # Print the movie name and predicted rating\n",
    "    print(f\"- Movie Name: {movie_name.ljust(40)} | Predicted Rating: {predicted_rating:.2f}\")"
   ]
  },
  {
   "cell_type": "markdown",
   "id": "473926c9",
   "metadata": {},
   "source": [
    "## END "
   ]
  }
 ],
 "metadata": {
  "kernelspec": {
   "display_name": "Python 3 (ipykernel)",
   "language": "python",
   "name": "python3"
  },
  "language_info": {
   "codemirror_mode": {
    "name": "ipython",
    "version": 3
   },
   "file_extension": ".py",
   "mimetype": "text/x-python",
   "name": "python",
   "nbconvert_exporter": "python",
   "pygments_lexer": "ipython3",
   "version": "3.7.16"
  }
 },
 "nbformat": 4,
 "nbformat_minor": 5
}
